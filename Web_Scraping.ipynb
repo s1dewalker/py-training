{
 "cells": [
  {
   "cell_type": "markdown",
   "id": "442b7478-5f5c-48a9-9f60-77f4232d99a8",
   "metadata": {},
   "source": [
    "# Web Scraping"
   ]
  },
  {
   "cell_type": "code",
   "execution_count": 2,
   "id": "3a6838af-a385-4770-b7b7-01f9b7b32154",
   "metadata": {},
   "outputs": [],
   "source": [
    "from bs4 import BeautifulSoup\n",
    "import requests"
   ]
  },
  {
   "cell_type": "code",
   "execution_count": 3,
   "id": "45a518bc-8d0b-485b-b2b7-f89e5a628cd3",
   "metadata": {},
   "outputs": [],
   "source": [
    "url = 'https://en.wikipedia.org/wiki/List_of_largest_companies_in_the_United_States_by_revenue'"
   ]
  },
  {
   "cell_type": "code",
   "execution_count": 4,
   "id": "b1c2741a-cb57-4c18-9c83-d2947b3f3ca0",
   "metadata": {},
   "outputs": [],
   "source": [
    "page = requests.get(url)"
   ]
  },
  {
   "cell_type": "code",
   "execution_count": 5,
   "id": "a68eed12-da54-40e4-9ea8-aab69348366f",
   "metadata": {},
   "outputs": [],
   "source": [
    "soup = BeautifulSoup(page.text, 'html')"
   ]
  },
  {
   "cell_type": "code",
   "execution_count": 6,
   "id": "31289c0e-2b06-4a1f-8d0c-54a76ea10f4e",
   "metadata": {},
   "outputs": [],
   "source": [
    "#print(soup.prettify)"
   ]
  },
  {
   "cell_type": "code",
   "execution_count": 7,
   "id": "f8236374-239f-447f-87c7-8d32d82ed054",
   "metadata": {},
   "outputs": [],
   "source": [
    "#soup.find_all('table')[0]"
   ]
  },
  {
   "cell_type": "code",
   "execution_count": 8,
   "id": "dc708174-5f6f-40f7-a02c-02871c26c842",
   "metadata": {},
   "outputs": [],
   "source": [
    "table = soup.find_all('table')[0]"
   ]
  },
  {
   "cell_type": "code",
   "execution_count": 9,
   "id": "858350bb-7c51-4106-80ee-0552e104542c",
   "metadata": {},
   "outputs": [],
   "source": [
    "table_via_class = soup.find('table', class_ = 'wikitable sortable')"
   ]
  },
  {
   "cell_type": "code",
   "execution_count": 10,
   "id": "4663fe45-6939-4f1f-9ed7-072949a736fe",
   "metadata": {},
   "outputs": [],
   "source": [
    "#print(table)"
   ]
  },
  {
   "cell_type": "markdown",
   "id": "f0f7e384-c0de-46ee-b3d5-39fc2e77b0db",
   "metadata": {},
   "source": [
    "**got the table**"
   ]
  },
  {
   "cell_type": "markdown",
   "id": "00d92d8b-43b3-4adf-bb8b-d792b8ee3486",
   "metadata": {},
   "source": [
    "**Try to get titles:**"
   ]
  },
  {
   "cell_type": "code",
   "execution_count": 13,
   "id": "65fb5b48-f3f4-43af-b8fd-3525d8626f3b",
   "metadata": {},
   "outputs": [],
   "source": [
    "titles = table.find_all('th')"
   ]
  },
  {
   "cell_type": "code",
   "execution_count": 14,
   "id": "fa09f440-84fd-4992-9b5c-ebd983d64c29",
   "metadata": {},
   "outputs": [
    {
     "data": {
      "text/plain": [
       "[<th>Rank\n",
       " </th>,\n",
       " <th>Name\n",
       " </th>,\n",
       " <th>Industry\n",
       " </th>,\n",
       " <th>Revenue <br/>(USD millions)\n",
       " </th>,\n",
       " <th>Revenue growth\n",
       " </th>,\n",
       " <th>Employees\n",
       " </th>,\n",
       " <th>Headquarters\n",
       " </th>]"
      ]
     },
     "execution_count": 14,
     "metadata": {},
     "output_type": "execute_result"
    }
   ],
   "source": [
    "titles"
   ]
  },
  {
   "cell_type": "code",
   "execution_count": 15,
   "id": "ea93a1c4-ca67-4eb3-9839-49e0adc94b6d",
   "metadata": {},
   "outputs": [],
   "source": [
    "#table_titles = [for title in titles]"
   ]
  },
  {
   "cell_type": "markdown",
   "id": "68bcfb1a-7115-4377-8c7f-0e44bbb97270",
   "metadata": {},
   "source": [
    "Apply .strip() to each element in the list"
   ]
  },
  {
   "cell_type": "code",
   "execution_count": 17,
   "id": "a7f59b86-f6bb-4dcb-a52c-9dc691cb54c0",
   "metadata": {},
   "outputs": [],
   "source": [
    "table_titles = [title.text.strip() for title in titles]"
   ]
  },
  {
   "cell_type": "code",
   "execution_count": 18,
   "id": "bd1c09a9-5ecc-4c44-8347-a80c79ae8a81",
   "metadata": {},
   "outputs": [
    {
     "name": "stdout",
     "output_type": "stream",
     "text": [
      "['Rank', 'Name', 'Industry', 'Revenue (USD millions)', 'Revenue growth', 'Employees', 'Headquarters']\n"
     ]
    }
   ],
   "source": [
    "print(table_titles)"
   ]
  },
  {
   "cell_type": "code",
   "execution_count": 19,
   "id": "88f87c3b-20a9-45cf-9a25-6f06b6457898",
   "metadata": {},
   "outputs": [],
   "source": [
    "import pandas as pd"
   ]
  },
  {
   "cell_type": "code",
   "execution_count": 20,
   "id": "7b55945e-3170-416a-bfdb-9b004def6802",
   "metadata": {},
   "outputs": [
    {
     "data": {
      "text/html": [
       "<div>\n",
       "<style scoped>\n",
       "    .dataframe tbody tr th:only-of-type {\n",
       "        vertical-align: middle;\n",
       "    }\n",
       "\n",
       "    .dataframe tbody tr th {\n",
       "        vertical-align: top;\n",
       "    }\n",
       "\n",
       "    .dataframe thead th {\n",
       "        text-align: right;\n",
       "    }\n",
       "</style>\n",
       "<table border=\"1\" class=\"dataframe\">\n",
       "  <thead>\n",
       "    <tr style=\"text-align: right;\">\n",
       "      <th></th>\n",
       "      <th>Rank</th>\n",
       "      <th>Name</th>\n",
       "      <th>Industry</th>\n",
       "      <th>Revenue (USD millions)</th>\n",
       "      <th>Revenue growth</th>\n",
       "      <th>Employees</th>\n",
       "      <th>Headquarters</th>\n",
       "    </tr>\n",
       "  </thead>\n",
       "  <tbody>\n",
       "  </tbody>\n",
       "</table>\n",
       "</div>"
      ],
      "text/plain": [
       "Empty DataFrame\n",
       "Columns: [Rank, Name, Industry, Revenue (USD millions), Revenue growth, Employees, Headquarters]\n",
       "Index: []"
      ]
     },
     "execution_count": 20,
     "metadata": {},
     "output_type": "execute_result"
    }
   ],
   "source": [
    "df = pd.DataFrame(columns = table_titles)\n",
    "df"
   ]
  },
  {
   "cell_type": "markdown",
   "id": "25a96f86-b3da-4378-a742-2a975f2746af",
   "metadata": {},
   "source": [
    "**Now try to pull the data:**"
   ]
  },
  {
   "cell_type": "code",
   "execution_count": 22,
   "id": "28ecfc75-ec55-4ca8-8874-c4547d4d7fb5",
   "metadata": {},
   "outputs": [],
   "source": [
    "#table.find_all('tr')"
   ]
  },
  {
   "cell_type": "code",
   "execution_count": 23,
   "id": "78b3213f-1e40-4a20-839e-6fb8d50b426e",
   "metadata": {},
   "outputs": [],
   "source": [
    "col_data = table.find_all('tr')"
   ]
  },
  {
   "cell_type": "code",
   "execution_count": 24,
   "id": "847b738e-52ee-4d5d-a150-3efd24ca132f",
   "metadata": {},
   "outputs": [],
   "source": [
    "#col_data"
   ]
  },
  {
   "cell_type": "code",
   "execution_count": 25,
   "id": "c195dc68-f2e7-4a2a-b9e8-8ddcd0c6c1ec",
   "metadata": {},
   "outputs": [
    {
     "data": {
      "text/plain": [
       "\"\\nfor row in col_data:\\n    print(row.find_all('td'))\\n\""
      ]
     },
     "execution_count": 25,
     "metadata": {},
     "output_type": "execute_result"
    }
   ],
   "source": [
    "'''\n",
    "for row in col_data:\n",
    "    print(row.find_all('td'))\n",
    "'''\n"
   ]
  },
  {
   "cell_type": "code",
   "execution_count": 26,
   "id": "03c1a565-2018-41a0-9a91-d0c999c350e7",
   "metadata": {},
   "outputs": [
    {
     "name": "stdout",
     "output_type": "stream",
     "text": [
      "[]\n",
      "['1', 'Walmart', 'Retail', '648,125', '6.0%', '2,100,000', 'Bentonville, Arkansas']\n",
      "['2', 'Amazon', 'Retail and cloud computing', '574,785', '11.9%', '1,525,000', 'Seattle, Washington']\n",
      "['3', 'Apple', 'Electronics industry', '383,482', '-2.8%', '161,000', 'Cupertino, California']\n",
      "['4', 'UnitedHealth Group', 'Healthcare', '371,622', '14.6%', '440,000', 'Minnetonka, Minnesota']\n",
      "['5', 'Berkshire Hathaway', 'Conglomerate', '364,482', '20.7%', '396,500', 'Omaha, Nebraska']\n",
      "['6', 'CVS Health', 'Healthcare', '357,776', '10.9%', '259,500', 'Woonsocket, Rhode Island']\n",
      "['7', 'ExxonMobil', 'Petroleum industry', '344,582', '-16.7%', '61,500', 'Spring, Texas']\n",
      "['8', 'Alphabet', 'Technology and cloud computing', '307,394', '8.7%', '182,502', 'Mountain View, California']\n",
      "['9', 'McKesson Corporation', 'Health', '276,711', '4.8%', '48,000', 'Irving, Texas']\n",
      "['10', 'Cencora', 'Pharmacy wholesale', '262,173', '9.9%', '44,000', 'Conshohocken, Pennsylvania']\n",
      "['11', 'Costco', 'Retail', '242,290', '6.8%', '316,000', 'Issaquah, Washington']\n",
      "['12', 'JPMorgan Chase', 'Financial services', '239,425', '54.7%', '309,926', 'New York City, New York']\n",
      "['13', 'Microsoft', 'Technology and cloud computing', '211,915', '6.9%', '221,000', 'Redmond, Washington']\n",
      "['14', 'Cardinal Health', 'Healthcare', '205,012', '13.0%', '47,520', 'Dublin, Ohio']\n",
      "['15', 'Chevron Corporation', 'Petroleum industry', '200,949', '-18.4%', '45,600', 'Houston, Texas']\n",
      "['16', 'Cigna', 'Health insurance', '195,265', '8.2%', '71,413', 'Bloomfield, Connecticut']\n",
      "['17', 'Ford Motor Company', 'Automotive industry', '176,191', '11.5%', '177,000', 'Dearborn, Michigan']\n",
      "['18', 'Bank of America', 'Financials', '171,912', '49.4%', '212,985', 'Charlotte, North Carolina']\n",
      "['19', 'General Motors', 'Automotive industry', '171,842', '9.6%', '163,000', 'Detroit, Michigan']\n",
      "['20', 'Elevance Health', 'Healthcare', '171,340', '9.4%', '104,900', 'Indianapolis, Indiana']\n",
      "['21', 'Citigroup', 'Financials', '156,820', '55.1%', '237,925', 'New York City, New York']\n",
      "['22', 'Centene', 'Healthcare', '153,999', '6.5%', '67,700', 'St. Louis, Missouri']\n",
      "['23', 'The Home Depot', 'Retail', '152,669', '-3.0%', '463,100', 'Atlanta, Georgia']\n",
      "['24', 'Marathon Petroleum', 'Petroleum industry', '150,307', '-16.5%', '18,200', 'Findlay, Ohio']\n",
      "['25', 'Kroger', 'Retail', '150,039', '-3.6%', '414,000', 'Cincinnati, Ohio']\n",
      "['26', 'Phillips 66', 'Petroleum industry', '149,890', '-14.7%', '14,000', 'Houston, Texas']\n",
      "['27', 'Fannie Mae', 'Financials', '141,240', '16.2%', '8,100', 'Washington, D.C.']\n",
      "['28', 'Walgreens Boots Alliance', 'Pharmaceutical industry', '139,081', '4.8%', '268,500', 'Deerfield, Illinois']\n",
      "['29', 'Valero Energy', 'Petroleum industry', '139,001', '-18.8%', '9,987', 'San Antonio, Texas']\n",
      "['30', 'Meta Platforms', 'Technology', '134,902', '15.7%', '67,317', 'Menlo Park, California']\n",
      "['31', 'Verizon Communications', 'Telecommunications', '133,974', '-2.1%', '105,400', 'New York City, New York']\n",
      "['32', 'AT&T', 'Conglomerate and telecommunications', '122,428', '1.4%', '150,470', 'Dallas, Texas']\n",
      "['33', 'Comcast', 'Telecommunications', '121,572', '0.1%', '186,000', 'Philadelphia, Pennsylvania']\n",
      "['34', 'Wells Fargo', 'Financials', '115,340', '39.2%', '226,000', 'San Francisco, California']\n",
      "['35', 'Goldman Sachs', 'Financials', '108,418', '57.8%', '45,300', 'New York City, New York']\n",
      "['36', 'Freddie Mac', 'Financials', '108,050', '24.6%', '8,020', 'McLean, Virginia']\n",
      "['37', 'Target Corporation', 'Retail', '107,412', '-1.6%', '415,000', 'Minneapolis, Minnesota']\n",
      "['38', 'Humana', 'Health insurance', '106,374', '14.5%', '67,600', 'Louisville, Kentucky']\n",
      "['39', 'State Farm', 'Financials', '104,199', '16.6%', '65,054', 'Bloomington, Illinois']\n",
      "['40', 'Tesla', 'Automotive and energy', '96,773', '18.8%', '140,473', 'Austin, Texas']\n",
      "['41', 'Morgan Stanley', 'Financials', '96,194', '45.9%', '80,006', 'New York City, New York']\n",
      "['42', 'Johnson & Johnson', 'Pharmaceutical industry', '95,195', '0.3%', '131,900', 'New Brunswick, New Jersey']\n",
      "['43', 'Archer Daniels Midland', 'Food industry', '93,935', '-7.5%', '41,008', 'Chicago, Illinois']\n",
      "['44', 'PepsiCo', 'Beverage', '91,471', '5.9%', '318,000', 'Purchase, New York']\n",
      "['45', 'United Parcel Service', 'Transportation', '90,958', '-9.3%', '382,550', 'Atlanta, Georgia']\n",
      "['46', 'FedEx', 'Transportation', '90,155', '-3.6%', '446,400', 'Memphis, Tennessee']\n",
      "['47', 'The Walt Disney Company', 'Media', '88,898', '7.5%', '199,125', 'Burbank, California']\n",
      "['48', 'Dell Technologies', 'Technology', '88,425', '-13.6%', '120,000', 'Round Rock, Texas']\n",
      "['49', \"Lowe's\", 'Retail', '86,377', '-11.0%', '226,000', 'Mooresville, North Carolina']\n",
      "['50', 'Procter & Gamble', 'Consumer products manufacturing', '82,006', '2.3%', '107,000', 'Cincinnati, Ohio']\n",
      "['51', 'Energy Transfer Partners', 'Petroleum industry', '78,586', '-12.6%', '13,786', 'Dallas, Texas']\n",
      "['52', 'Boeing', 'Aerospace and defense', '77,794', '16.8%', '171,000', 'Arlington County, Virginia']\n",
      "['53', 'Albertsons', 'Retail', '77,650', '8.0%', '198,650', 'Boise, Idaho']\n",
      "['54', 'Sysco', 'Food service', '76,325', '11.2%', '71,750', 'Houston, Texas']\n",
      "['55', 'RTX Corporation', 'Conglomerate', '68,920', '2.8%', '185,000', 'Arlington County, Virginia']\n",
      "['56', 'General Electric', 'Conglomerate', '67,954', '-11.2%', '125,000', 'Boston, Massachusetts']\n",
      "['57', 'Lockheed Martin', 'Aerospace and defense', '67,571', '2.4%', '122,000', 'Bethesda, Maryland']\n",
      "['58', 'American Express', 'Financial', '67,364', '21.1%', '74,600', 'New York City, New York']\n",
      "['59', 'Caterpillar', 'Machinery', '67,060', '12.8%', '113,200', 'Irving, Texas']\n",
      "['60', 'MetLife', 'Financials', '66,905', '-4.3%', '45,000', 'New York City, New York']\n",
      "['61', 'HCA Healthcare', 'Healthcare', '64,968', '7.9%', '265,000', 'Nashville, Tennessee']\n",
      "['62', 'Progressive Corporation', 'Insurance', '62,109', '25.2%', '61,432', 'Mayfield Village, Ohio']\n",
      "['63', 'IBM', 'Technology and cloud computing', '61,860', '-16.3%', '296,600', 'Armonk, New York']\n",
      "['64', 'John Deere', 'Agriculture manufacturing', '61,251', '16.5%', '82,956', 'Moline, Illinois']\n",
      "['65', 'Nvidia', 'Technology', '60,922', '125.9%', '29,600', 'Santa Clara, California']\n",
      "['66', 'StoneX Group', 'Financials', '60,856', '-7.8%', '4,137', 'New York City, New York']\n",
      "['67', 'Merck & Co.', 'Pharmaceutical industry', '60,115', '1.4%', '71,000', 'Kenilworth, New Jersey']\n",
      "['68', 'ConocoPhillips', 'Petroleum industry', '58,574', '-28.7%', '9,900', 'Houston, Texas']\n",
      "['69', 'Pfizer', 'Pharmaceutical industry', '58,496', '-41.7%', '88,000', 'New York City, New York']\n",
      "['70', 'Delta Air Lines', 'Airline', '58,048', '14.8%', '103,000', 'Atlanta, Georgia']\n",
      "['71', 'TD Synnex', 'Infotech', '57,555', '-7.7%', '28,000', 'Clearwater, Florida']\n",
      "['72', 'Publix', 'Retail', '57,534', '4.7%', '253,000', 'Lakeland, Florida']\n",
      "['73', 'Allstate', 'Insurance', '57,094', '11.1%', '53,200', 'Northfield Township, Cook County, Illinois']\n",
      "['74', 'Cisco', 'Telecom hardware manufacturing', '56,998', '10.6%', '84,900', 'San Jose, California']\n",
      "['75', 'Nationwide Mutual Insurance Company', 'Financial', '54,609', '6.1%', '24,118', 'Columbus, Ohio']\n",
      "['76', 'Charter Communications', 'Telecommunications', '54,607', '1.1%', '101,100', 'Stamford, Connecticut']\n",
      "['77', 'AbbVie', 'Pharmaceutical industry', '54,317', '-6.4%', '50,000', 'Lake Bluff, Illinois']\n",
      "['78', 'New York Life Insurance Company', 'Insurance', '54,317', '14.2%', '15,384', 'New York City, New York']\n",
      "['79', 'Intel', 'Technology', '54,228', '-14.0%', '124,800', 'Santa Clara, California']\n",
      "['80', 'TJX', 'Retail', '49,936', '2.9%', '329,000', 'Framingham, Massachusetts']\n",
      "['81', 'Prudential Financial', 'Financials', '53,979', '-10.1%', '40,366', 'Newark, New Jersey']\n",
      "['82', 'HP', 'Technology', '53,718', '-14.5%', '58,000', 'Palo Alto, California']\n",
      "['83', 'United Airlines', 'Airline', '53,717', '19.5%', '103,300', 'Chicago, Illinois']\n",
      "['84', 'Performance Food Group', 'Food processing', '53,355', '13.1%', '34,825', 'Richmond, Virginia']\n",
      "['85', 'Tyson Foods', 'Food processing', '52,788', '-0.8%', '139,000', 'Springdale, Arkansas']\n",
      "['86', 'American Airlines', 'Airline', '52,788', '7.8%', '132,100', 'Fort Worth, Texas']\n",
      "['87', 'Liberty Mutual', 'Insurance', '52,612', '5.3%', '45,000', 'Boston, Massachusetts']\n",
      "['88', 'Nike', 'Apparel', '51,217', '9.6%', '83,700', 'Beaverton, Oregon']\n",
      "['89', 'Oracle Corporation', 'Technology', '49,954', '17.7%', '164,000', 'Austin, Texas']\n",
      "['90', 'Enterprise Products', 'Petroleum industry', '49,715', '-14.6%', '7,500', 'Houston, Texas']\n",
      "['91', 'Capital One Financial', 'Financials', '49,484', '29.0%', '51,987', 'Richmond, Virginia']\n",
      "['92', 'Plains All American Pipeline', 'Petroleum industry', '48,712', '-15.1%', '4,200', 'Houston, Texas']\n",
      "['93', 'World Kinect Corporation', 'Energy trading', '47,711', '-19.2%', '5,289', 'Doral, Florida']\n",
      "['94', 'AIG', 'Insurance', '46,802', '-17.1%', '25,200', 'New York City, New York']\n",
      "['95', 'Coca-Cola', 'Beverage', '45,754', '6.4%', '79,100', 'Atlanta, Georgia']\n",
      "['96', 'TIAA', 'Financials', '45,735', '11.8%', '16,023', 'New York City, New York']\n",
      "['97', 'CHS', 'Agriculture cooperative', '45,590', '-4.6%', '10,609', 'Inver Grove Heights, Minnesota']\n",
      "['98', 'Bristol-Myers Squibb', 'Pharmaceutical industry', '45,006', '-2.5%', '34,100', 'New York City, New York']\n",
      "['99', 'Dow Chemical Company', 'Chemical industry', '44,622', '-21.6%', '35,900', 'Midland, Michigan']\n",
      "['100', 'Best Buy', 'Retail', '43,452', '-6.1%', '85,000', 'Richfield, Minnesota']\n"
     ]
    }
   ],
   "source": [
    "for row in col_data:\n",
    "    row_data = row.find_all('td')\n",
    "    individual_row_data = [data.text.strip() for data in row_data]\n",
    "    print(individual_row_data)"
   ]
  },
  {
   "cell_type": "code",
   "execution_count": 27,
   "id": "d5f9bc07-cac8-421b-9b73-15f68f9c2fa4",
   "metadata": {},
   "outputs": [
    {
     "data": {
      "text/plain": [
       "0"
      ]
     },
     "execution_count": 27,
     "metadata": {},
     "output_type": "execute_result"
    }
   ],
   "source": [
    "length = len(df)\n",
    "length"
   ]
  },
  {
   "cell_type": "code",
   "execution_count": 28,
   "id": "f2503992-a53e-46fd-9d30-bf9ac2aca1b7",
   "metadata": {},
   "outputs": [],
   "source": [
    "for row in col_data[1:]:\n",
    "    row_data = row.find_all('td')\n",
    "    individual_row_data = [data.text.strip() for data in row_data]\n",
    "\n",
    "    length = len(df)\n",
    "    df.loc[length] = individual_row_data"
   ]
  },
  {
   "cell_type": "code",
   "execution_count": 29,
   "id": "9413804e-e8b0-44eb-bc04-d6a2237926f0",
   "metadata": {},
   "outputs": [
    {
     "data": {
      "text/plain": [
       "100"
      ]
     },
     "execution_count": 29,
     "metadata": {},
     "output_type": "execute_result"
    }
   ],
   "source": [
    "length = len(df)\n",
    "length"
   ]
  },
  {
   "cell_type": "code",
   "execution_count": 30,
   "id": "61d07f1f-dc9d-451d-9035-a5591f07c33c",
   "metadata": {},
   "outputs": [
    {
     "data": {
      "text/html": [
       "<div>\n",
       "<style scoped>\n",
       "    .dataframe tbody tr th:only-of-type {\n",
       "        vertical-align: middle;\n",
       "    }\n",
       "\n",
       "    .dataframe tbody tr th {\n",
       "        vertical-align: top;\n",
       "    }\n",
       "\n",
       "    .dataframe thead th {\n",
       "        text-align: right;\n",
       "    }\n",
       "</style>\n",
       "<table border=\"1\" class=\"dataframe\">\n",
       "  <thead>\n",
       "    <tr style=\"text-align: right;\">\n",
       "      <th></th>\n",
       "      <th>Rank</th>\n",
       "      <th>Name</th>\n",
       "      <th>Industry</th>\n",
       "      <th>Revenue (USD millions)</th>\n",
       "      <th>Revenue growth</th>\n",
       "      <th>Employees</th>\n",
       "      <th>Headquarters</th>\n",
       "    </tr>\n",
       "  </thead>\n",
       "  <tbody>\n",
       "    <tr>\n",
       "      <th>0</th>\n",
       "      <td>1</td>\n",
       "      <td>Walmart</td>\n",
       "      <td>Retail</td>\n",
       "      <td>648,125</td>\n",
       "      <td>6.0%</td>\n",
       "      <td>2,100,000</td>\n",
       "      <td>Bentonville, Arkansas</td>\n",
       "    </tr>\n",
       "    <tr>\n",
       "      <th>1</th>\n",
       "      <td>2</td>\n",
       "      <td>Amazon</td>\n",
       "      <td>Retail and cloud computing</td>\n",
       "      <td>574,785</td>\n",
       "      <td>11.9%</td>\n",
       "      <td>1,525,000</td>\n",
       "      <td>Seattle, Washington</td>\n",
       "    </tr>\n",
       "    <tr>\n",
       "      <th>2</th>\n",
       "      <td>3</td>\n",
       "      <td>Apple</td>\n",
       "      <td>Electronics industry</td>\n",
       "      <td>383,482</td>\n",
       "      <td>-2.8%</td>\n",
       "      <td>161,000</td>\n",
       "      <td>Cupertino, California</td>\n",
       "    </tr>\n",
       "    <tr>\n",
       "      <th>3</th>\n",
       "      <td>4</td>\n",
       "      <td>UnitedHealth Group</td>\n",
       "      <td>Healthcare</td>\n",
       "      <td>371,622</td>\n",
       "      <td>14.6%</td>\n",
       "      <td>440,000</td>\n",
       "      <td>Minnetonka, Minnesota</td>\n",
       "    </tr>\n",
       "    <tr>\n",
       "      <th>4</th>\n",
       "      <td>5</td>\n",
       "      <td>Berkshire Hathaway</td>\n",
       "      <td>Conglomerate</td>\n",
       "      <td>364,482</td>\n",
       "      <td>20.7%</td>\n",
       "      <td>396,500</td>\n",
       "      <td>Omaha, Nebraska</td>\n",
       "    </tr>\n",
       "    <tr>\n",
       "      <th>...</th>\n",
       "      <td>...</td>\n",
       "      <td>...</td>\n",
       "      <td>...</td>\n",
       "      <td>...</td>\n",
       "      <td>...</td>\n",
       "      <td>...</td>\n",
       "      <td>...</td>\n",
       "    </tr>\n",
       "    <tr>\n",
       "      <th>95</th>\n",
       "      <td>96</td>\n",
       "      <td>TIAA</td>\n",
       "      <td>Financials</td>\n",
       "      <td>45,735</td>\n",
       "      <td>11.8%</td>\n",
       "      <td>16,023</td>\n",
       "      <td>New York City, New York</td>\n",
       "    </tr>\n",
       "    <tr>\n",
       "      <th>96</th>\n",
       "      <td>97</td>\n",
       "      <td>CHS</td>\n",
       "      <td>Agriculture cooperative</td>\n",
       "      <td>45,590</td>\n",
       "      <td>-4.6%</td>\n",
       "      <td>10,609</td>\n",
       "      <td>Inver Grove Heights, Minnesota</td>\n",
       "    </tr>\n",
       "    <tr>\n",
       "      <th>97</th>\n",
       "      <td>98</td>\n",
       "      <td>Bristol-Myers Squibb</td>\n",
       "      <td>Pharmaceutical industry</td>\n",
       "      <td>45,006</td>\n",
       "      <td>-2.5%</td>\n",
       "      <td>34,100</td>\n",
       "      <td>New York City, New York</td>\n",
       "    </tr>\n",
       "    <tr>\n",
       "      <th>98</th>\n",
       "      <td>99</td>\n",
       "      <td>Dow Chemical Company</td>\n",
       "      <td>Chemical industry</td>\n",
       "      <td>44,622</td>\n",
       "      <td>-21.6%</td>\n",
       "      <td>35,900</td>\n",
       "      <td>Midland, Michigan</td>\n",
       "    </tr>\n",
       "    <tr>\n",
       "      <th>99</th>\n",
       "      <td>100</td>\n",
       "      <td>Best Buy</td>\n",
       "      <td>Retail</td>\n",
       "      <td>43,452</td>\n",
       "      <td>-6.1%</td>\n",
       "      <td>85,000</td>\n",
       "      <td>Richfield, Minnesota</td>\n",
       "    </tr>\n",
       "  </tbody>\n",
       "</table>\n",
       "<p>100 rows × 7 columns</p>\n",
       "</div>"
      ],
      "text/plain": [
       "   Rank                  Name                    Industry  \\\n",
       "0     1               Walmart                      Retail   \n",
       "1     2                Amazon  Retail and cloud computing   \n",
       "2     3                 Apple        Electronics industry   \n",
       "3     4    UnitedHealth Group                  Healthcare   \n",
       "4     5    Berkshire Hathaway                Conglomerate   \n",
       "..  ...                   ...                         ...   \n",
       "95   96                  TIAA                  Financials   \n",
       "96   97                   CHS     Agriculture cooperative   \n",
       "97   98  Bristol-Myers Squibb     Pharmaceutical industry   \n",
       "98   99  Dow Chemical Company           Chemical industry   \n",
       "99  100              Best Buy                      Retail   \n",
       "\n",
       "   Revenue (USD millions) Revenue growth  Employees  \\\n",
       "0                 648,125           6.0%  2,100,000   \n",
       "1                 574,785          11.9%  1,525,000   \n",
       "2                 383,482          -2.8%    161,000   \n",
       "3                 371,622          14.6%    440,000   \n",
       "4                 364,482          20.7%    396,500   \n",
       "..                    ...            ...        ...   \n",
       "95                 45,735          11.8%     16,023   \n",
       "96                 45,590          -4.6%     10,609   \n",
       "97                 45,006          -2.5%     34,100   \n",
       "98                 44,622         -21.6%     35,900   \n",
       "99                 43,452          -6.1%     85,000   \n",
       "\n",
       "                      Headquarters  \n",
       "0            Bentonville, Arkansas  \n",
       "1              Seattle, Washington  \n",
       "2            Cupertino, California  \n",
       "3            Minnetonka, Minnesota  \n",
       "4                  Omaha, Nebraska  \n",
       "..                             ...  \n",
       "95         New York City, New York  \n",
       "96  Inver Grove Heights, Minnesota  \n",
       "97         New York City, New York  \n",
       "98               Midland, Michigan  \n",
       "99            Richfield, Minnesota  \n",
       "\n",
       "[100 rows x 7 columns]"
      ]
     },
     "execution_count": 30,
     "metadata": {},
     "output_type": "execute_result"
    }
   ],
   "source": [
    "df"
   ]
  },
  {
   "cell_type": "code",
   "execution_count": 31,
   "id": "02869114-e8cf-4a16-8a83-16ddd64c6992",
   "metadata": {},
   "outputs": [],
   "source": [
    "df.to_csv(r'companies.csv', index = False) # removes the index"
   ]
  },
  {
   "cell_type": "code",
   "execution_count": null,
   "id": "5c6d826e-83e2-4e6a-87b6-76595ea59b19",
   "metadata": {},
   "outputs": [],
   "source": []
  }
 ],
 "metadata": {
  "kernelspec": {
   "display_name": "Python 3 (ipykernel)",
   "language": "python",
   "name": "python3"
  },
  "language_info": {
   "codemirror_mode": {
    "name": "ipython",
    "version": 3
   },
   "file_extension": ".py",
   "mimetype": "text/x-python",
   "name": "python",
   "nbconvert_exporter": "python",
   "pygments_lexer": "ipython3",
   "version": "3.11.7"
  },
  "widgets": {
   "application/vnd.jupyter.widget-state+json": {
    "state": {},
    "version_major": 2,
    "version_minor": 0
   }
  }
 },
 "nbformat": 4,
 "nbformat_minor": 5
}
