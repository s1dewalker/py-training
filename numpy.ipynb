{
 "cells": [
  {
   "cell_type": "code",
   "execution_count": 3,
   "id": "12d156af-1625-4e79-81cf-1d20d9ca3432",
   "metadata": {},
   "outputs": [],
   "source": [
    "import numpy as np"
   ]
  },
  {
   "cell_type": "markdown",
   "id": "b1cd0991-cbbb-44e0-ad36-f85b3f74878a",
   "metadata": {
    "jp-MarkdownHeadingCollapsed": true
   },
   "source": [
    "## Numpy arrays"
   ]
  },
  {
   "cell_type": "code",
   "execution_count": 5,
   "id": "10131e21-8daa-4e8b-a122-47aed04605f5",
   "metadata": {},
   "outputs": [],
   "source": [
    "a = [1,4,7,-4,-10]"
   ]
  },
  {
   "cell_type": "code",
   "execution_count": 13,
   "id": "f8475279-b04e-412d-abb5-33da4342645d",
   "metadata": {},
   "outputs": [
    {
     "data": {
      "text/plain": [
       "list"
      ]
     },
     "execution_count": 13,
     "metadata": {},
     "output_type": "execute_result"
    }
   ],
   "source": [
    "type(a)"
   ]
  },
  {
   "cell_type": "code",
   "execution_count": 27,
   "id": "68ff3723-4f8b-4e3b-a013-4074fc82af36",
   "metadata": {},
   "outputs": [
    {
     "data": {
      "text/plain": [
       "int"
      ]
     },
     "execution_count": 27,
     "metadata": {},
     "output_type": "execute_result"
    }
   ],
   "source": [
    "type(a[0])"
   ]
  },
  {
   "cell_type": "code",
   "execution_count": 31,
   "id": "65661fc1-a139-45bc-b4fe-8d632d6dcb0a",
   "metadata": {},
   "outputs": [],
   "source": [
    "arr = np.array(a)"
   ]
  },
  {
   "cell_type": "code",
   "execution_count": 33,
   "id": "0f558ea8-6150-4d91-a3b8-0aa8bf9dea8b",
   "metadata": {},
   "outputs": [
    {
     "data": {
      "text/plain": [
       "numpy.ndarray"
      ]
     },
     "execution_count": 33,
     "metadata": {},
     "output_type": "execute_result"
    }
   ],
   "source": [
    "type(arr)"
   ]
  },
  {
   "cell_type": "code",
   "execution_count": 35,
   "id": "66b02dc4-c597-496c-9340-e1c4e2aeaf31",
   "metadata": {},
   "outputs": [
    {
     "data": {
      "text/plain": [
       "numpy.int32"
      ]
     },
     "execution_count": 35,
     "metadata": {},
     "output_type": "execute_result"
    }
   ],
   "source": [
    "type(arr[0])"
   ]
  },
  {
   "cell_type": "code",
   "execution_count": 37,
   "id": "522ab1d8-b46b-476e-b4f7-2ff64af69ce6",
   "metadata": {},
   "outputs": [],
   "source": [
    "arr2 = np.array(a, dtype = float)"
   ]
  },
  {
   "cell_type": "code",
   "execution_count": 39,
   "id": "075298a9-9f83-470a-82cf-1c15b476cbfd",
   "metadata": {},
   "outputs": [
    {
     "data": {
      "text/plain": [
       "numpy.ndarray"
      ]
     },
     "execution_count": 39,
     "metadata": {},
     "output_type": "execute_result"
    }
   ],
   "source": [
    "type(arr2)"
   ]
  },
  {
   "cell_type": "code",
   "execution_count": 41,
   "id": "6baf742d-c39c-4f20-93da-a487c208732a",
   "metadata": {},
   "outputs": [
    {
     "data": {
      "text/plain": [
       "numpy.float64"
      ]
     },
     "execution_count": 41,
     "metadata": {},
     "output_type": "execute_result"
    }
   ],
   "source": [
    "type(arr2[0])"
   ]
  },
  {
   "cell_type": "code",
   "execution_count": 44,
   "id": "282efe16-0138-42aa-baf9-54f8bc21fa65",
   "metadata": {},
   "outputs": [],
   "source": [
    "arr3 = np.array(arr)"
   ]
  },
  {
   "cell_type": "code",
   "execution_count": 46,
   "id": "d10d8c5f-0a5e-4344-bf71-ce661e1a5958",
   "metadata": {},
   "outputs": [
    {
     "data": {
      "text/plain": [
       "numpy.ndarray"
      ]
     },
     "execution_count": 46,
     "metadata": {},
     "output_type": "execute_result"
    }
   ],
   "source": [
    "type(arr3)"
   ]
  },
  {
   "cell_type": "code",
   "execution_count": 48,
   "id": "087bd6b7-9d21-4ea9-9258-468a70fad7ff",
   "metadata": {},
   "outputs": [
    {
     "data": {
      "text/plain": [
       "numpy.int32"
      ]
     },
     "execution_count": 48,
     "metadata": {},
     "output_type": "execute_result"
    }
   ],
   "source": [
    "type(arr3[0])"
   ]
  },
  {
   "cell_type": "markdown",
   "id": "09035dd4-a082-4d5a-adc3-ab72c7c20c9d",
   "metadata": {
    "jp-MarkdownHeadingCollapsed": true
   },
   "source": [
    "## Part 1"
   ]
  },
  {
   "cell_type": "markdown",
   "id": "615deac8-cd2d-40a9-a0ed-33bf24a227a7",
   "metadata": {},
   "source": [
    "### to convert to array:"
   ]
  },
  {
   "cell_type": "code",
   "execution_count": 51,
   "id": "ab66c5b9-72c4-4472-9a8d-b9452dff6f02",
   "metadata": {},
   "outputs": [],
   "source": [
    "arr4 = np.array(a)"
   ]
  },
  {
   "cell_type": "markdown",
   "id": "0bad3a12-f2d2-4f8c-81f3-897c088e4460",
   "metadata": {
    "jp-MarkdownHeadingCollapsed": true
   },
   "source": [
    "### reverse NumPy array "
   ]
  },
  {
   "cell_type": "code",
   "execution_count": 54,
   "id": "a77ca97e-dbaa-4a0d-9700-0bfee3f1a2b7",
   "metadata": {},
   "outputs": [
    {
     "data": {
      "text/plain": [
       "array([-10,  -4,   7,   4,   1])"
      ]
     },
     "execution_count": 54,
     "metadata": {},
     "output_type": "execute_result"
    }
   ],
   "source": [
    "arr4[::-1]"
   ]
  },
  {
   "cell_type": "markdown",
   "id": "4ef38970-4c78-4f73-bffa-ef4e8bfabfff",
   "metadata": {
    "jp-MarkdownHeadingCollapsed": true
   },
   "source": [
    "### shape\n",
    "\n",
    "The shape tool gives a tuple of array dimensions and can be used to change the dimensions of an array."
   ]
  },
  {
   "cell_type": "code",
   "execution_count": 57,
   "id": "d9f3c2e1-0070-4003-b64a-7b8998f2836f",
   "metadata": {},
   "outputs": [
    {
     "data": {
      "text/plain": [
       "(5,)"
      ]
     },
     "execution_count": 57,
     "metadata": {},
     "output_type": "execute_result"
    }
   ],
   "source": [
    "arr4.shape"
   ]
  },
  {
   "cell_type": "markdown",
   "id": "1c6b43dc-6350-4601-b5c9-4b36e69148a7",
   "metadata": {},
   "source": [
    "5 rows and 1 column"
   ]
  },
  {
   "cell_type": "code",
   "execution_count": 62,
   "id": "0025fac0-8007-4641-91d6-1f2a7f6dd194",
   "metadata": {},
   "outputs": [],
   "source": [
    "arr4.shape = (1,5)"
   ]
  },
  {
   "cell_type": "code",
   "execution_count": 64,
   "id": "8b73b8f5-25cf-453e-b746-746f56424419",
   "metadata": {},
   "outputs": [
    {
     "data": {
      "text/plain": [
       "array([[  1,   4,   7,  -4, -10]])"
      ]
     },
     "execution_count": 64,
     "metadata": {},
     "output_type": "execute_result"
    }
   ],
   "source": [
    "arr4"
   ]
  },
  {
   "cell_type": "code",
   "execution_count": 66,
   "id": "1f3a1d2e-f3c4-4413-8c53-b73f7917efb0",
   "metadata": {},
   "outputs": [
    {
     "data": {
      "text/plain": [
       "(1, 5)"
      ]
     },
     "execution_count": 66,
     "metadata": {},
     "output_type": "execute_result"
    }
   ],
   "source": [
    "arr4.shape"
   ]
  },
  {
   "cell_type": "markdown",
   "id": "295ac7ba-f0d8-491d-9d71-e051a8d9f753",
   "metadata": {},
   "source": [
    "1 row 5 column"
   ]
  },
  {
   "cell_type": "markdown",
   "id": "47a8a58e-29a2-4141-9bc6-51a204ea0cfa",
   "metadata": {
    "jp-MarkdownHeadingCollapsed": true
   },
   "source": [
    "### reshape\n",
    "\n",
    "The reshape tool gives a new shape to an array without changing its data. It creates a new array and does not modify the original array itself."
   ]
  },
  {
   "cell_type": "code",
   "execution_count": 69,
   "id": "9073bc6a-859e-4ca7-b943-9e34143a7536",
   "metadata": {},
   "outputs": [],
   "source": [
    "arr5 = np.array(a)"
   ]
  },
  {
   "cell_type": "code",
   "execution_count": 81,
   "id": "efc46ffd-7856-474b-aaca-90da25be8403",
   "metadata": {},
   "outputs": [],
   "source": [
    "# np.reshape(arr5,(3,2))\n",
    "a = [1,2,4,6,12,45]"
   ]
  },
  {
   "cell_type": "markdown",
   "id": "ce397cde-b063-42f9-81b6-3ef00074ab52",
   "metadata": {},
   "source": [
    " total number of elements in the array should match the number of elements required by the new shape."
   ]
  },
  {
   "cell_type": "code",
   "execution_count": 85,
   "id": "7a134796-e5ba-4cce-88f4-e998258588f5",
   "metadata": {},
   "outputs": [],
   "source": [
    "arr = np.array(a)"
   ]
  },
  {
   "cell_type": "code",
   "execution_count": 87,
   "id": "5d341e87-5a6b-4908-af6b-d7918f7a3524",
   "metadata": {},
   "outputs": [
    {
     "data": {
      "text/plain": [
       "array([[ 1,  2],\n",
       "       [ 4,  6],\n",
       "       [12, 45]])"
      ]
     },
     "execution_count": 87,
     "metadata": {},
     "output_type": "execute_result"
    }
   ],
   "source": [
    "np.reshape(arr, (3,2))"
   ]
  },
  {
   "cell_type": "code",
   "execution_count": 89,
   "id": "091dbc59-99d5-4613-afbb-5464f79481ca",
   "metadata": {},
   "outputs": [
    {
     "data": {
      "text/plain": [
       "array([[ 1,  2,  4],\n",
       "       [ 6, 12, 45]])"
      ]
     },
     "execution_count": 89,
     "metadata": {},
     "output_type": "execute_result"
    }
   ],
   "source": [
    "np.reshape(arr, (2,3))"
   ]
  },
  {
   "cell_type": "markdown",
   "id": "61b7949c-e1c3-43ae-8b35-3183393e7951",
   "metadata": {
    "jp-MarkdownHeadingCollapsed": true
   },
   "source": [
    "### Transpose "
   ]
  },
  {
   "cell_type": "code",
   "execution_count": 94,
   "id": "61549eb1-1d31-47e7-bfe6-6e98889e7e6b",
   "metadata": {},
   "outputs": [
    {
     "data": {
      "text/plain": [
       "array([ 1,  2,  4,  6, 12, 45])"
      ]
     },
     "execution_count": 94,
     "metadata": {},
     "output_type": "execute_result"
    }
   ],
   "source": [
    "arr"
   ]
  },
  {
   "cell_type": "code",
   "execution_count": 96,
   "id": "c027c27d-acc0-423e-b160-a0c255c2281a",
   "metadata": {},
   "outputs": [
    {
     "data": {
      "text/plain": [
       "array([ 1,  2,  4,  6, 12, 45])"
      ]
     },
     "execution_count": 96,
     "metadata": {},
     "output_type": "execute_result"
    }
   ],
   "source": [
    "arr.T"
   ]
  },
  {
   "cell_type": "code",
   "execution_count": 106,
   "id": "4ec07ae4-8a5e-455f-97f3-c7e7232a0757",
   "metadata": {},
   "outputs": [
    {
     "data": {
      "text/plain": [
       "array([ 1,  2,  4,  6, 12, 45])"
      ]
     },
     "execution_count": 106,
     "metadata": {},
     "output_type": "execute_result"
    }
   ],
   "source": [
    "np.transpose(arr)"
   ]
  },
  {
   "cell_type": "code",
   "execution_count": 108,
   "id": "a4ed1f8a-5c7f-4f13-bd3b-cd0d0194515d",
   "metadata": {},
   "outputs": [],
   "source": [
    "reshaped_arr = np.reshape(arr, (3,2))"
   ]
  },
  {
   "cell_type": "code",
   "execution_count": 110,
   "id": "40c6ef76-2fe5-4551-907f-71bed242e176",
   "metadata": {},
   "outputs": [
    {
     "data": {
      "text/plain": [
       "array([[ 1,  2],\n",
       "       [ 4,  6],\n",
       "       [12, 45]])"
      ]
     },
     "execution_count": 110,
     "metadata": {},
     "output_type": "execute_result"
    }
   ],
   "source": [
    "reshaped_arr"
   ]
  },
  {
   "cell_type": "code",
   "execution_count": 112,
   "id": "e17f279c-2e12-48cf-b4eb-cbf11f80a142",
   "metadata": {},
   "outputs": [
    {
     "data": {
      "text/plain": [
       "array([[ 1,  4, 12],\n",
       "       [ 2,  6, 45]])"
      ]
     },
     "execution_count": 112,
     "metadata": {},
     "output_type": "execute_result"
    }
   ],
   "source": [
    "reshaped_arr.T"
   ]
  },
  {
   "cell_type": "code",
   "execution_count": 114,
   "id": "618b19aa-e226-4211-86b3-183a41cea2cc",
   "metadata": {},
   "outputs": [
    {
     "data": {
      "text/plain": [
       "<function ndarray.transpose>"
      ]
     },
     "execution_count": 114,
     "metadata": {},
     "output_type": "execute_result"
    }
   ],
   "source": [
    "reshaped_arr.transpose"
   ]
  },
  {
   "cell_type": "code",
   "execution_count": 116,
   "id": "218ea6d4-745a-4c71-8621-72dca8a0b3d0",
   "metadata": {},
   "outputs": [
    {
     "data": {
      "text/plain": [
       "array([[ 1,  4, 12],\n",
       "       [ 2,  6, 45]])"
      ]
     },
     "execution_count": 116,
     "metadata": {},
     "output_type": "execute_result"
    }
   ],
   "source": [
    "np.transpose(reshaped_arr)"
   ]
  },
  {
   "cell_type": "markdown",
   "id": "78242258-c327-409e-98fc-3073031bcef7",
   "metadata": {},
   "source": [
    "### Flatten"
   ]
  },
  {
   "cell_type": "code",
   "execution_count": 123,
   "id": "833cab89-5504-4eba-9f49-93de733a33bd",
   "metadata": {},
   "outputs": [
    {
     "data": {
      "text/plain": [
       "array([ 1,  2,  4,  6, 12, 45])"
      ]
     },
     "execution_count": 123,
     "metadata": {},
     "output_type": "execute_result"
    }
   ],
   "source": [
    "arr.flatten()"
   ]
  },
  {
   "cell_type": "code",
   "execution_count": 130,
   "id": "ed4189de-e963-4c35-ba30-9558e3b94ed8",
   "metadata": {},
   "outputs": [
    {
     "data": {
      "text/plain": [
       "array([[ 1,  2],\n",
       "       [ 4,  6],\n",
       "       [12, 45]])"
      ]
     },
     "execution_count": 130,
     "metadata": {},
     "output_type": "execute_result"
    }
   ],
   "source": [
    "reshaped_arr"
   ]
  },
  {
   "cell_type": "code",
   "execution_count": 127,
   "id": "a3e41476-e6c5-40fd-b872-8f9678495c9d",
   "metadata": {},
   "outputs": [
    {
     "data": {
      "text/plain": [
       "array([ 1,  2,  4,  6, 12, 45])"
      ]
     },
     "execution_count": 127,
     "metadata": {},
     "output_type": "execute_result"
    }
   ],
   "source": [
    "reshaped_arr.flatten()"
   ]
  },
  {
   "cell_type": "code",
   "execution_count": 132,
   "id": "0a255bdf-7e5e-48d3-85ba-22e3dfa07b59",
   "metadata": {},
   "outputs": [
    {
     "data": {
      "text/plain": [
       "numpy.ndarray"
      ]
     },
     "execution_count": 132,
     "metadata": {},
     "output_type": "execute_result"
    }
   ],
   "source": [
    "type(reshaped_arr)"
   ]
  },
  {
   "cell_type": "code",
   "execution_count": 134,
   "id": "5bd79142-6af3-4230-9f0f-ea71211258c2",
   "metadata": {},
   "outputs": [
    {
     "data": {
      "text/plain": [
       "(3, 2)"
      ]
     },
     "execution_count": 134,
     "metadata": {},
     "output_type": "execute_result"
    }
   ],
   "source": [
    "reshaped_arr.shape"
   ]
  },
  {
   "cell_type": "code",
   "execution_count": 136,
   "id": "898914c3-9069-4b27-ab72-6da5ee332919",
   "metadata": {},
   "outputs": [
    {
     "data": {
      "text/plain": [
       "(6,)"
      ]
     },
     "execution_count": 136,
     "metadata": {},
     "output_type": "execute_result"
    }
   ],
   "source": [
    "reshaped_arr.flatten().shape"
   ]
  },
  {
   "cell_type": "markdown",
   "id": "bcf65d80-6335-4887-ac52-15e2ef0c8b2b",
   "metadata": {
    "jp-MarkdownHeadingCollapsed": true
   },
   "source": [
    "## Part 2"
   ]
  },
  {
   "cell_type": "code",
   "execution_count": 141,
   "id": "29584038-8f36-492c-9ca6-f552a6b7cef6",
   "metadata": {},
   "outputs": [],
   "source": [
    "import numpy\n",
    "\n",
    "array_1 = numpy.array([1,2,3])\n",
    "array_2 = numpy.array([4,5,6])\n",
    "array_3 = numpy.array([7,8,9])"
   ]
  },
  {
   "cell_type": "markdown",
   "id": "49ad8616-7d55-40a7-9874-21e71b9b7f88",
   "metadata": {},
   "source": [
    "### Concatenate"
   ]
  },
  {
   "cell_type": "code",
   "execution_count": 146,
   "id": "d5afbc32-9147-4628-8cd7-a90cff6b1bfd",
   "metadata": {},
   "outputs": [
    {
     "data": {
      "text/plain": [
       "array([1, 2, 3, 4, 5, 6, 7, 8, 9])"
      ]
     },
     "execution_count": 146,
     "metadata": {},
     "output_type": "execute_result"
    }
   ],
   "source": [
    "np.concatenate([array_1, array_2, array_3])"
   ]
  },
  {
   "cell_type": "markdown",
   "id": "7f02fcae-fd73-4b03-832a-192eefdcee81",
   "metadata": {},
   "source": [
    "Correct usage, passing arrays inside a list or tuple"
   ]
  },
  {
   "cell_type": "code",
   "execution_count": 151,
   "id": "7efb3fd8-19ac-4f43-8451-9c9b03ad5b06",
   "metadata": {},
   "outputs": [],
   "source": [
    "arr1 = np.array([[1,2,3],[0,0,0]])\n",
    "arr2 = np.array([[0,0,0],[4,5,6]])"
   ]
  },
  {
   "cell_type": "code",
   "execution_count": 153,
   "id": "2054d4da-5aa8-4acb-b02d-ee2bf9acbe42",
   "metadata": {},
   "outputs": [
    {
     "data": {
      "text/plain": [
       "array([[1, 2, 3],\n",
       "       [0, 0, 0]])"
      ]
     },
     "execution_count": 153,
     "metadata": {},
     "output_type": "execute_result"
    }
   ],
   "source": [
    "arr1"
   ]
  },
  {
   "cell_type": "code",
   "execution_count": 155,
   "id": "3d7667d3-a148-456a-952e-56b42eb522dd",
   "metadata": {},
   "outputs": [
    {
     "data": {
      "text/plain": [
       "array([[0, 0, 0],\n",
       "       [4, 5, 6]])"
      ]
     },
     "execution_count": 155,
     "metadata": {},
     "output_type": "execute_result"
    }
   ],
   "source": [
    "arr2"
   ]
  },
  {
   "cell_type": "code",
   "execution_count": 159,
   "id": "48d088e5-87df-4d3e-aeb6-7f55307512ac",
   "metadata": {},
   "outputs": [
    {
     "name": "stdout",
     "output_type": "stream",
     "text": [
      "[[1 2 3]\n",
      " [0 0 0]]\n"
     ]
    }
   ],
   "source": [
    "print(arr1)"
   ]
  },
  {
   "cell_type": "code",
   "execution_count": 161,
   "id": "3c9634d2-6cda-4bc9-8327-b74e81e4e772",
   "metadata": {},
   "outputs": [
    {
     "name": "stdout",
     "output_type": "stream",
     "text": [
      "[[0 0 0]\n",
      " [4 5 6]]\n"
     ]
    }
   ],
   "source": [
    "print(arr2)"
   ]
  },
  {
   "cell_type": "code",
   "execution_count": 167,
   "id": "1629cefa-99c5-44f0-b908-225fba5b84fe",
   "metadata": {},
   "outputs": [
    {
     "data": {
      "text/plain": [
       "(2, 3)"
      ]
     },
     "execution_count": 167,
     "metadata": {},
     "output_type": "execute_result"
    }
   ],
   "source": [
    "arr1.shape"
   ]
  },
  {
   "cell_type": "code",
   "execution_count": 169,
   "id": "2c1f63ae-4692-42e4-890c-4d079385e381",
   "metadata": {},
   "outputs": [
    {
     "data": {
      "text/plain": [
       "numpy.ndarray"
      ]
     },
     "execution_count": 169,
     "metadata": {},
     "output_type": "execute_result"
    }
   ],
   "source": [
    "type(arr1)"
   ]
  },
  {
   "cell_type": "code",
   "execution_count": 175,
   "id": "ab53a668-78cc-472b-92b0-189ea5d94694",
   "metadata": {},
   "outputs": [
    {
     "data": {
      "text/plain": [
       "array([[1, 2, 3],\n",
       "       [0, 0, 0],\n",
       "       [0, 0, 0],\n",
       "       [4, 5, 6]])"
      ]
     },
     "execution_count": 175,
     "metadata": {},
     "output_type": "execute_result"
    }
   ],
   "source": [
    "np.concatenate([arr1, arr2]) # axis = 0 by default across rows"
   ]
  },
  {
   "cell_type": "code",
   "execution_count": 179,
   "id": "c8a38468-53ad-4ded-b5e2-0cbb2409012e",
   "metadata": {},
   "outputs": [
    {
     "data": {
      "text/plain": [
       "array([[1, 2, 3, 0, 0, 0],\n",
       "       [0, 0, 0, 4, 5, 6]])"
      ]
     },
     "execution_count": 179,
     "metadata": {},
     "output_type": "execute_result"
    }
   ],
   "source": [
    "np.concatenate([arr1, arr2], axis = 1) # stack across columns"
   ]
  },
  {
   "cell_type": "markdown",
   "id": "d192fbe9-ae4f-44ae-8c25-5171d7deaccc",
   "metadata": {
    "jp-MarkdownHeadingCollapsed": true
   },
   "source": [
    "### zeros and ones"
   ]
  },
  {
   "cell_type": "raw",
   "id": "aabd1daf-dc95-49d1-bb8a-ffe36d24ecc7",
   "metadata": {},
   "source": [
    "np.zeros"
   ]
  },
  {
   "cell_type": "code",
   "execution_count": 189,
   "id": "dbed337d-e700-440e-9a87-279d98f07efe",
   "metadata": {},
   "outputs": [
    {
     "data": {
      "text/plain": [
       "array([0., 0., 0., 0., 0.])"
      ]
     },
     "execution_count": 189,
     "metadata": {},
     "output_type": "execute_result"
    }
   ],
   "source": [
    "np.zeros(5)"
   ]
  },
  {
   "cell_type": "code",
   "execution_count": 191,
   "id": "ec4777a8-dcbc-4b08-9203-4c9177698b4a",
   "metadata": {},
   "outputs": [
    {
     "data": {
      "text/plain": [
       "array([0, 0, 0, 0, 0])"
      ]
     },
     "execution_count": 191,
     "metadata": {},
     "output_type": "execute_result"
    }
   ],
   "source": [
    "np.zeros(5, int)"
   ]
  },
  {
   "cell_type": "code",
   "execution_count": 193,
   "id": "03e432c8-5fac-4b5b-885f-1ea1c7e74ecc",
   "metadata": {},
   "outputs": [
    {
     "data": {
      "text/plain": [
       "array([[0., 0., 0., 0.],\n",
       "       [0., 0., 0., 0.],\n",
       "       [0., 0., 0., 0.]])"
      ]
     },
     "execution_count": 193,
     "metadata": {},
     "output_type": "execute_result"
    }
   ],
   "source": [
    "np.zeros((3,4))"
   ]
  },
  {
   "cell_type": "code",
   "execution_count": 195,
   "id": "ad152bfb-85e5-4be7-bc87-6936935a94af",
   "metadata": {},
   "outputs": [
    {
     "data": {
      "text/plain": [
       "array([[0, 0, 0, 0, 0, 0],\n",
       "       [0, 0, 0, 0, 0, 0],\n",
       "       [0, 0, 0, 0, 0, 0]])"
      ]
     },
     "execution_count": 195,
     "metadata": {},
     "output_type": "execute_result"
    }
   ],
   "source": [
    "np.zeros((3,6), int)"
   ]
  },
  {
   "cell_type": "code",
   "execution_count": 197,
   "id": "298391da-9a2d-43b2-b3d3-8d974caaaf73",
   "metadata": {},
   "outputs": [
    {
     "data": {
      "text/plain": [
       "<function numpy.ones(shape, dtype=None, order='C', *, like=None)>"
      ]
     },
     "execution_count": 197,
     "metadata": {},
     "output_type": "execute_result"
    }
   ],
   "source": [
    "np.ones"
   ]
  },
  {
   "cell_type": "code",
   "execution_count": 199,
   "id": "85141307-683b-4170-b69f-58961945757c",
   "metadata": {},
   "outputs": [
    {
     "data": {
      "text/plain": [
       "array([1.])"
      ]
     },
     "execution_count": 199,
     "metadata": {},
     "output_type": "execute_result"
    }
   ],
   "source": [
    "np.ones(1)"
   ]
  },
  {
   "cell_type": "code",
   "execution_count": 201,
   "id": "c1d61155-3439-4516-8382-2b790dbc20a6",
   "metadata": {},
   "outputs": [
    {
     "data": {
      "text/plain": [
       "array([1, 1])"
      ]
     },
     "execution_count": 201,
     "metadata": {},
     "output_type": "execute_result"
    }
   ],
   "source": [
    "np.ones(2, int)"
   ]
  },
  {
   "cell_type": "code",
   "execution_count": 203,
   "id": "0a883935-e0d4-4bc4-a7ec-78753264fea2",
   "metadata": {},
   "outputs": [
    {
     "data": {
      "text/plain": [
       "array([[1., 1., 1., 1.],\n",
       "       [1., 1., 1., 1.]])"
      ]
     },
     "execution_count": 203,
     "metadata": {},
     "output_type": "execute_result"
    }
   ],
   "source": [
    "np.ones((2,4))"
   ]
  },
  {
   "cell_type": "code",
   "execution_count": 205,
   "id": "2316a73c-4904-467d-9dec-1ed368e30d4f",
   "metadata": {},
   "outputs": [
    {
     "data": {
      "text/plain": [
       "array([[1, 1, 1],\n",
       "       [1, 1, 1]])"
      ]
     },
     "execution_count": 205,
     "metadata": {},
     "output_type": "execute_result"
    }
   ],
   "source": [
    "np.ones((2,3), int)"
   ]
  },
  {
   "cell_type": "markdown",
   "id": "48df170c-5edc-443a-874f-3a3e14ad1faa",
   "metadata": {
    "jp-MarkdownHeadingCollapsed": true
   },
   "source": [
    "### identity\n",
    "\n",
    "The identity tool returns an identity array. An identity array is a square matrix with all the main diagonal elements as  and the rest as ."
   ]
  },
  {
   "cell_type": "code",
   "execution_count": 208,
   "id": "dee6a28b-a711-427e-8c7a-54bab1a736fd",
   "metadata": {},
   "outputs": [
    {
     "data": {
      "text/plain": [
       "<function numpy.identity(n, dtype=None, *, like=None)>"
      ]
     },
     "execution_count": 208,
     "metadata": {},
     "output_type": "execute_result"
    }
   ],
   "source": [
    "np.identity"
   ]
  },
  {
   "cell_type": "code",
   "execution_count": 210,
   "id": "2db79d5b-5b89-4f80-85e8-141df6b1d34a",
   "metadata": {},
   "outputs": [
    {
     "data": {
      "text/plain": [
       "array([[1.]])"
      ]
     },
     "execution_count": 210,
     "metadata": {},
     "output_type": "execute_result"
    }
   ],
   "source": [
    "np.identity(1)"
   ]
  },
  {
   "cell_type": "code",
   "execution_count": 212,
   "id": "bed791e4-c640-4bb6-9087-db6ce2f157dd",
   "metadata": {},
   "outputs": [
    {
     "data": {
      "text/plain": [
       "array([[1., 0., 0.],\n",
       "       [0., 1., 0.],\n",
       "       [0., 0., 1.]])"
      ]
     },
     "execution_count": 212,
     "metadata": {},
     "output_type": "execute_result"
    }
   ],
   "source": [
    "np.identity(3)"
   ]
  },
  {
   "cell_type": "markdown",
   "id": "0892a71f-e197-40a0-b5f3-6c4ba4eca79c",
   "metadata": {
    "jp-MarkdownHeadingCollapsed": true
   },
   "source": [
    "### eye\n",
    "\n",
    "The eye tool returns a 2-D array with 1's as the diagonal and 0's elsewhere. The diagonal can be main, upper or lower depending on the optional parameter k"
   ]
  },
  {
   "cell_type": "code",
   "execution_count": 222,
   "id": "cf61b261-ea06-4be6-b0a5-4ba360c8dbbc",
   "metadata": {},
   "outputs": [
    {
     "data": {
      "text/plain": [
       "array([[1., 0., 0.],\n",
       "       [0., 1., 0.],\n",
       "       [0., 0., 1.]])"
      ]
     },
     "execution_count": 222,
     "metadata": {},
     "output_type": "execute_result"
    }
   ],
   "source": [
    "np.eye(3)"
   ]
  },
  {
   "cell_type": "code",
   "execution_count": 224,
   "id": "430dc9a7-9222-420e-8a50-73c29fef3f24",
   "metadata": {},
   "outputs": [
    {
     "data": {
      "text/plain": [
       "array([[1., 0., 0., 0., 0., 0.],\n",
       "       [0., 1., 0., 0., 0., 0.],\n",
       "       [0., 0., 1., 0., 0., 0.],\n",
       "       [0., 0., 0., 1., 0., 0.],\n",
       "       [0., 0., 0., 0., 1., 0.],\n",
       "       [0., 0., 0., 0., 0., 1.]])"
      ]
     },
     "execution_count": 224,
     "metadata": {},
     "output_type": "execute_result"
    }
   ],
   "source": [
    "np.eye(6)"
   ]
  },
  {
   "cell_type": "code",
   "execution_count": 230,
   "id": "ffcd608b-2a71-417d-af7c-1ff6b371d0cd",
   "metadata": {},
   "outputs": [
    {
     "data": {
      "text/plain": [
       "array([[0., 1., 0.],\n",
       "       [0., 0., 1.],\n",
       "       [0., 0., 0.]])"
      ]
     },
     "execution_count": 230,
     "metadata": {},
     "output_type": "execute_result"
    }
   ],
   "source": [
    "np.eye(3,k=1)"
   ]
  },
  {
   "cell_type": "code",
   "execution_count": 232,
   "id": "7c4c838a-b0b1-4e1d-9b6d-2bf129a347dc",
   "metadata": {},
   "outputs": [
    {
     "data": {
      "text/plain": [
       "array([[0., 0., 1.],\n",
       "       [0., 0., 0.],\n",
       "       [0., 0., 0.]])"
      ]
     },
     "execution_count": 232,
     "metadata": {},
     "output_type": "execute_result"
    }
   ],
   "source": [
    "np.eye(3,k=2)"
   ]
  },
  {
   "cell_type": "code",
   "execution_count": 234,
   "id": "88a5eb0c-bad3-448c-add4-3d00f0f2bbe5",
   "metadata": {},
   "outputs": [
    {
     "data": {
      "text/plain": [
       "array([[0., 0., 0.],\n",
       "       [0., 0., 0.],\n",
       "       [0., 0., 0.]])"
      ]
     },
     "execution_count": 234,
     "metadata": {},
     "output_type": "execute_result"
    }
   ],
   "source": [
    "np.eye(3,k=3)"
   ]
  },
  {
   "cell_type": "code",
   "execution_count": 236,
   "id": "447464d0-7f59-4429-946f-1a88b0157b67",
   "metadata": {},
   "outputs": [
    {
     "data": {
      "text/plain": [
       "array([[1., 0., 0., 0.],\n",
       "       [0., 1., 0., 0.],\n",
       "       [0., 0., 1., 0.],\n",
       "       [0., 0., 0., 1.],\n",
       "       [0., 0., 0., 0.]])"
      ]
     },
     "execution_count": 236,
     "metadata": {},
     "output_type": "execute_result"
    }
   ],
   "source": [
    "np.eye(5,4,k=0)"
   ]
  },
  {
   "cell_type": "code",
   "execution_count": 240,
   "id": "88109b92-347d-47ad-b55c-1ec12cf8a001",
   "metadata": {},
   "outputs": [
    {
     "data": {
      "text/plain": [
       "array([[0., 1., 0., 0.],\n",
       "       [0., 0., 1., 0.],\n",
       "       [0., 0., 0., 1.],\n",
       "       [0., 0., 0., 0.],\n",
       "       [0., 0., 0., 0.]])"
      ]
     },
     "execution_count": 240,
     "metadata": {},
     "output_type": "execute_result"
    }
   ],
   "source": [
    "np.eye(5,4,k=1)"
   ]
  },
  {
   "cell_type": "code",
   "execution_count": 242,
   "id": "3e6cba28-333d-4bdd-a346-8dcfc7f93c35",
   "metadata": {},
   "outputs": [
    {
     "data": {
      "text/plain": [
       "array([[0., 0., 0., 0.],\n",
       "       [1., 0., 0., 0.],\n",
       "       [0., 1., 0., 0.],\n",
       "       [0., 0., 1., 0.],\n",
       "       [0., 0., 0., 1.]])"
      ]
     },
     "execution_count": 242,
     "metadata": {},
     "output_type": "execute_result"
    }
   ],
   "source": [
    "np.eye(5,4,k=-1)"
   ]
  },
  {
   "cell_type": "code",
   "execution_count": 244,
   "id": "f63462f9-4b8b-4ff6-97a9-9c8119608a0d",
   "metadata": {},
   "outputs": [
    {
     "data": {
      "text/plain": [
       "array([[0., 0., 0., 0.],\n",
       "       [0., 0., 0., 0.],\n",
       "       [0., 0., 0., 0.],\n",
       "       [0., 0., 0., 0.],\n",
       "       [1., 0., 0., 0.]])"
      ]
     },
     "execution_count": 244,
     "metadata": {},
     "output_type": "execute_result"
    }
   ],
   "source": [
    "np.eye(5,4,k=-4)"
   ]
  },
  {
   "cell_type": "code",
   "execution_count": 248,
   "id": "f01ff06c-d333-4211-997f-f55fdcb8c168",
   "metadata": {},
   "outputs": [
    {
     "data": {
      "text/plain": [
       "array([[0., 0., 0., 1.],\n",
       "       [0., 0., 0., 0.],\n",
       "       [0., 0., 0., 0.],\n",
       "       [0., 0., 0., 0.],\n",
       "       [0., 0., 0., 0.]])"
      ]
     },
     "execution_count": 248,
     "metadata": {},
     "output_type": "execute_result"
    }
   ],
   "source": [
    "np.eye(5,4,k=3)"
   ]
  },
  {
   "cell_type": "markdown",
   "id": "acdc40c5-e93e-42bd-add9-7354b45621ea",
   "metadata": {
    "jp-MarkdownHeadingCollapsed": true
   },
   "source": [
    "### array maths"
   ]
  },
  {
   "cell_type": "code",
   "execution_count": 252,
   "id": "4b9d4754-8d8a-4a72-9419-66968da332f5",
   "metadata": {},
   "outputs": [],
   "source": [
    "a = np.array([1,2,3,4])\n",
    "b = np.array([5,3,4,6])"
   ]
  },
  {
   "cell_type": "code",
   "execution_count": 254,
   "id": "27aa7f23-1e09-406e-a4bf-30ce3f613762",
   "metadata": {},
   "outputs": [
    {
     "data": {
      "text/plain": [
       "array([ 6,  5,  7, 10])"
      ]
     },
     "execution_count": 254,
     "metadata": {},
     "output_type": "execute_result"
    }
   ],
   "source": [
    "a+b"
   ]
  },
  {
   "cell_type": "code",
   "execution_count": 256,
   "id": "50cb5914-d091-4ec7-abeb-15e85b6e82e6",
   "metadata": {},
   "outputs": [
    {
     "data": {
      "text/plain": [
       "array([-4, -1, -1, -2])"
      ]
     },
     "execution_count": 256,
     "metadata": {},
     "output_type": "execute_result"
    }
   ],
   "source": [
    "a-b"
   ]
  },
  {
   "cell_type": "code",
   "execution_count": 258,
   "id": "8a4b7087-ed1b-48f8-a0c5-cd5446051a08",
   "metadata": {},
   "outputs": [
    {
     "data": {
      "text/plain": [
       "array([ 5,  6, 12, 24])"
      ]
     },
     "execution_count": 258,
     "metadata": {},
     "output_type": "execute_result"
    }
   ],
   "source": [
    "a*b"
   ]
  },
  {
   "cell_type": "code",
   "execution_count": 260,
   "id": "ebb3c615-e7f5-4f40-9a7f-d61614121adc",
   "metadata": {},
   "outputs": [
    {
     "data": {
      "text/plain": [
       "array([0.2       , 0.66666667, 0.75      , 0.66666667])"
      ]
     },
     "execution_count": 260,
     "metadata": {},
     "output_type": "execute_result"
    }
   ],
   "source": [
    "a/b"
   ]
  },
  {
   "cell_type": "code",
   "execution_count": 262,
   "id": "52cc5ad8-a683-4c1f-996a-a581d5e76bdf",
   "metadata": {},
   "outputs": [
    {
     "data": {
      "text/plain": [
       "array([1, 2, 3, 4])"
      ]
     },
     "execution_count": 262,
     "metadata": {},
     "output_type": "execute_result"
    }
   ],
   "source": [
    "a%b"
   ]
  },
  {
   "cell_type": "code",
   "execution_count": 264,
   "id": "11445520-118a-43d1-ad09-fc453ed64a82",
   "metadata": {},
   "outputs": [
    {
     "data": {
      "text/plain": [
       "array([1, 0, 1, 0], dtype=int32)"
      ]
     },
     "execution_count": 264,
     "metadata": {},
     "output_type": "execute_result"
    }
   ],
   "source": [
    "a%2"
   ]
  },
  {
   "cell_type": "code",
   "execution_count": 266,
   "id": "f6a2cb66-764f-4c87-bef7-ed9a78d974f4",
   "metadata": {},
   "outputs": [
    {
     "data": {
      "text/plain": [
       "array([1, 1, 0, 0], dtype=int32)"
      ]
     },
     "execution_count": 266,
     "metadata": {},
     "output_type": "execute_result"
    }
   ],
   "source": [
    "b%2"
   ]
  },
  {
   "cell_type": "code",
   "execution_count": 268,
   "id": "e0c6f7e7-b39f-4388-a09b-cd4db4dde26a",
   "metadata": {},
   "outputs": [
    {
     "data": {
      "text/plain": [
       "array([   1,    8,   81, 4096])"
      ]
     },
     "execution_count": 268,
     "metadata": {},
     "output_type": "execute_result"
    }
   ],
   "source": [
    "a**b"
   ]
  },
  {
   "cell_type": "code",
   "execution_count": 270,
   "id": "61cb19b7-7144-4be4-b3c2-07cbe909dd6e",
   "metadata": {},
   "outputs": [],
   "source": [
    "a = np.array([1,2,3,4,3])\n",
    "b = np.array([5,3,4,6])"
   ]
  },
  {
   "cell_type": "markdown",
   "id": "8f644273-227b-4e67-a829-9780590d5546",
   "metadata": {},
   "source": [
    "#a+b\n",
    "\n",
    "ValueError: operands could not be broadcast together with shapes (5,) (4,) \n"
   ]
  },
  {
   "cell_type": "code",
   "execution_count": 275,
   "id": "2c1cfa76-acd4-437d-b03f-b6ebed42e233",
   "metadata": {},
   "outputs": [],
   "source": [
    "a1 = [1.1, 2.2, 3.3, 4.4, 5.5, 6.6, 7.7, 8.8]"
   ]
  },
  {
   "cell_type": "code",
   "execution_count": 279,
   "id": "6ee4cb38-25cb-4b32-b349-9cbf0c04da14",
   "metadata": {},
   "outputs": [
    {
     "data": {
      "text/plain": [
       "array([1., 2., 3., 4., 5., 6., 7., 8.])"
      ]
     },
     "execution_count": 279,
     "metadata": {},
     "output_type": "execute_result"
    }
   ],
   "source": [
    "np.floor(a1)"
   ]
  },
  {
   "cell_type": "code",
   "execution_count": 281,
   "id": "348dba5b-fae3-4ef0-9eab-2e683b6ea5f3",
   "metadata": {},
   "outputs": [
    {
     "data": {
      "text/plain": [
       "array([2., 3., 4., 5., 6., 7., 8., 9.])"
      ]
     },
     "execution_count": 281,
     "metadata": {},
     "output_type": "execute_result"
    }
   ],
   "source": [
    "np.ceil(a1)"
   ]
  },
  {
   "cell_type": "code",
   "execution_count": 283,
   "id": "0f2d04a5-e759-4d76-bab0-463102814728",
   "metadata": {},
   "outputs": [
    {
     "data": {
      "text/plain": [
       "array([1., 2., 3., 4., 6., 7., 8., 9.])"
      ]
     },
     "execution_count": 283,
     "metadata": {},
     "output_type": "execute_result"
    }
   ],
   "source": [
    "np.round(a1)"
   ]
  },
  {
   "cell_type": "markdown",
   "id": "b93251ba-5db6-4062-907e-649e7fe25ed1",
   "metadata": {},
   "source": [
    "#### rint\n",
    "The rint tool rounds to the nearest integer of input element-wise."
   ]
  },
  {
   "cell_type": "code",
   "execution_count": 286,
   "id": "f0876b84-db18-45f2-8123-b94c4bebc65a",
   "metadata": {},
   "outputs": [
    {
     "data": {
      "text/plain": [
       "array([1., 2., 3., 4., 6., 7., 8., 9.])"
      ]
     },
     "execution_count": 286,
     "metadata": {},
     "output_type": "execute_result"
    }
   ],
   "source": [
    "np.rint(a1)"
   ]
  },
  {
   "cell_type": "markdown",
   "id": "6d5ce1f8-c804-4cd8-9b22-68a42892c13f",
   "metadata": {},
   "source": [
    "### sum and product"
   ]
  },
  {
   "cell_type": "code",
   "execution_count": 341,
   "id": "e08fd7c5-153d-4f0b-852b-d43139231b2a",
   "metadata": {},
   "outputs": [],
   "source": [
    "a = np.array([1,2,3])"
   ]
  },
  {
   "cell_type": "code",
   "execution_count": 343,
   "id": "2077926c-6905-41ab-9383-8c9014bf6521",
   "metadata": {},
   "outputs": [],
   "source": [
    "b = np.array([4,5,6])"
   ]
  },
  {
   "cell_type": "code",
   "execution_count": 345,
   "id": "689d2081-f54e-4f74-9cbc-75ea5eb33caf",
   "metadata": {},
   "outputs": [
    {
     "name": "stdout",
     "output_type": "stream",
     "text": [
      "[1 2 3]\n"
     ]
    }
   ],
   "source": [
    "print(a)"
   ]
  },
  {
   "cell_type": "code",
   "execution_count": 347,
   "id": "3ad235a0-91fc-4b44-ac3a-d023da7701f5",
   "metadata": {},
   "outputs": [
    {
     "name": "stdout",
     "output_type": "stream",
     "text": [
      "[4 5 6]\n"
     ]
    }
   ],
   "source": [
    "print(b)"
   ]
  },
  {
   "cell_type": "code",
   "execution_count": 349,
   "id": "b0c0d797-7875-4ea9-a4a5-2fc801a7d985",
   "metadata": {},
   "outputs": [
    {
     "data": {
      "text/plain": [
       "array([1, 2, 3, 4, 5, 6])"
      ]
     },
     "execution_count": 349,
     "metadata": {},
     "output_type": "execute_result"
    }
   ],
   "source": [
    "np.concatenate([a,b], axis = 0)"
   ]
  },
  {
   "cell_type": "markdown",
   "id": "66f58a5e-3159-4a0c-b3b8-790bdbc89b33",
   "metadata": {},
   "source": [
    "**column wise**"
   ]
  },
  {
   "cell_type": "code",
   "execution_count": 352,
   "id": "af91212e-a881-450a-9a9a-8273809aa676",
   "metadata": {},
   "outputs": [],
   "source": [
    "a_reshaped = a.reshape(-1, 1)  # shape (3, 1)\n",
    "b_reshaped = b.reshape(-1, 1)  # shape (3, 1)"
   ]
  },
  {
   "cell_type": "code",
   "execution_count": 354,
   "id": "7c778dc2-af72-42a5-8d58-a3be4e95895d",
   "metadata": {},
   "outputs": [
    {
     "data": {
      "text/plain": [
       "array([[1, 4],\n",
       "       [2, 5],\n",
       "       [3, 6]])"
      ]
     },
     "execution_count": 354,
     "metadata": {},
     "output_type": "execute_result"
    }
   ],
   "source": [
    "np.concatenate([a_reshaped,b_reshaped], axis = 1)"
   ]
  },
  {
   "cell_type": "code",
   "execution_count": 356,
   "id": "b9e6292d-6038-4002-8833-5760e6ae988e",
   "metadata": {},
   "outputs": [
    {
     "data": {
      "text/plain": [
       "array([[1],\n",
       "       [2],\n",
       "       [3],\n",
       "       [4],\n",
       "       [5],\n",
       "       [6]])"
      ]
     },
     "execution_count": 356,
     "metadata": {},
     "output_type": "execute_result"
    }
   ],
   "source": [
    "np.concatenate([a_reshaped,b_reshaped], axis = 0)"
   ]
  },
  {
   "cell_type": "markdown",
   "id": "d74bc65b-0742-466b-88a9-dbf91395e31c",
   "metadata": {},
   "source": [
    "**row wise**"
   ]
  },
  {
   "cell_type": "code",
   "execution_count": 359,
   "id": "ded984be-00b4-4494-99ca-137c3b75fbf1",
   "metadata": {},
   "outputs": [],
   "source": [
    "a_reshaped = a.reshape(1, -1)  # shape (1, 3)\n",
    "b_reshaped = b.reshape(1, -1)  # shape (1, 3)"
   ]
  },
  {
   "cell_type": "code",
   "execution_count": 361,
   "id": "784de043-b5b3-47f7-83f1-9a3c7722932c",
   "metadata": {},
   "outputs": [
    {
     "data": {
      "text/plain": [
       "array([[1, 2, 3, 4, 5, 6]])"
      ]
     },
     "execution_count": 361,
     "metadata": {},
     "output_type": "execute_result"
    }
   ],
   "source": [
    "np.concatenate([a_reshaped,b_reshaped], axis = 1)"
   ]
  },
  {
   "cell_type": "code",
   "execution_count": 363,
   "id": "8aff9783-31f2-4761-836b-4ce992882c49",
   "metadata": {},
   "outputs": [
    {
     "data": {
      "text/plain": [
       "array([[1, 2, 3],\n",
       "       [4, 5, 6]])"
      ]
     },
     "execution_count": 363,
     "metadata": {},
     "output_type": "execute_result"
    }
   ],
   "source": [
    "np.concatenate([a_reshaped,b_reshaped], axis = 0)"
   ]
  },
  {
   "cell_type": "markdown",
   "id": "27f9df05-f025-4d0b-936c-3ec15704405c",
   "metadata": {
    "jp-MarkdownHeadingCollapsed": true
   },
   "source": [
    "## Part 3"
   ]
  },
  {
   "cell_type": "code",
   "execution_count": 368,
   "id": "e4bc52d7-2e98-480e-8b0c-d91dba75d394",
   "metadata": {},
   "outputs": [],
   "source": [
    "a = [1,2,3]\n",
    "b = [5,6,2]\n",
    "c = [1, 0, 10]"
   ]
  },
  {
   "cell_type": "code",
   "execution_count": 372,
   "id": "28546952-70f4-4a8f-8497-69884c3c9ee0",
   "metadata": {},
   "outputs": [],
   "source": [
    "arr1 = np.array(a)\n",
    "arr2 = np.array(b)\n",
    "arr3 = np.array(c)"
   ]
  },
  {
   "cell_type": "code",
   "execution_count": 378,
   "id": "f2ec36b7-19c5-4f61-86c0-1a5ba6263649",
   "metadata": {},
   "outputs": [
    {
     "name": "stdout",
     "output_type": "stream",
     "text": [
      "[5 6 2]\n"
     ]
    }
   ],
   "source": [
    "print(arr2)"
   ]
  },
  {
   "cell_type": "code",
   "execution_count": 382,
   "id": "e6102552-e0d1-4c9c-a704-367a7d8adac4",
   "metadata": {},
   "outputs": [
    {
     "data": {
      "text/plain": [
       "(3,)"
      ]
     },
     "execution_count": 382,
     "metadata": {},
     "output_type": "execute_result"
    }
   ],
   "source": [
    "arr1.shape"
   ]
  },
  {
   "cell_type": "code",
   "execution_count": 388,
   "id": "7d15eea7-50f0-4839-a560-5fa1a86a2f3b",
   "metadata": {},
   "outputs": [],
   "source": [
    "mat = np.array([a,b,c])"
   ]
  },
  {
   "cell_type": "code",
   "execution_count": 391,
   "id": "99bbd936-7b26-47cf-acff-132f8cd5477e",
   "metadata": {},
   "outputs": [
    {
     "data": {
      "text/plain": [
       "array([[ 1,  2,  3],\n",
       "       [ 5,  6,  2],\n",
       "       [ 1,  0, 10]])"
      ]
     },
     "execution_count": 391,
     "metadata": {},
     "output_type": "execute_result"
    }
   ],
   "source": [
    "mat"
   ]
  },
  {
   "cell_type": "code",
   "execution_count": 393,
   "id": "277cdd58-833d-45b7-9920-b3e913c4945a",
   "metadata": {},
   "outputs": [
    {
     "data": {
      "text/plain": [
       "(3, 3)"
      ]
     },
     "execution_count": 393,
     "metadata": {},
     "output_type": "execute_result"
    }
   ],
   "source": [
    "mat.shape"
   ]
  },
  {
   "cell_type": "code",
   "execution_count": 411,
   "id": "c8f33a3c-9ad9-4d0b-bdd7-c0cdc234c3e7",
   "metadata": {},
   "outputs": [],
   "source": [
    "mat2 = np.array([arr1,arr2,arr3])"
   ]
  },
  {
   "cell_type": "code",
   "execution_count": 415,
   "id": "4ba34911-953b-4328-9f4f-b396e9ddc710",
   "metadata": {},
   "outputs": [
    {
     "data": {
      "text/plain": [
       "array([[ 1,  2,  3],\n",
       "       [ 5,  6,  2],\n",
       "       [ 1,  0, 10]])"
      ]
     },
     "execution_count": 415,
     "metadata": {},
     "output_type": "execute_result"
    }
   ],
   "source": [
    "mat2"
   ]
  },
  {
   "cell_type": "code",
   "execution_count": 418,
   "id": "1542bc38-eae4-439c-9225-74165c842041",
   "metadata": {},
   "outputs": [
    {
     "data": {
      "text/plain": [
       "(3, 3)"
      ]
     },
     "execution_count": 418,
     "metadata": {},
     "output_type": "execute_result"
    }
   ],
   "source": [
    "mat2.shape"
   ]
  },
  {
   "cell_type": "code",
   "execution_count": 424,
   "id": "da55b0eb-b340-45fa-807e-c90cafa03f94",
   "metadata": {},
   "outputs": [],
   "source": [
    "mat3 = np.concatenate([arr1.reshape(-1,1),arr2.reshape(-1,1)], axis = 1)"
   ]
  },
  {
   "cell_type": "code",
   "execution_count": 426,
   "id": "f97796a5-33ce-47dc-ad37-e887d03a6702",
   "metadata": {},
   "outputs": [
    {
     "data": {
      "text/plain": [
       "array([[1, 5],\n",
       "       [2, 6],\n",
       "       [3, 2]])"
      ]
     },
     "execution_count": 426,
     "metadata": {},
     "output_type": "execute_result"
    }
   ],
   "source": [
    "mat3"
   ]
  },
  {
   "cell_type": "code",
   "execution_count": 428,
   "id": "4207c8bf-2ab5-47d4-91d4-2b68e136fc8f",
   "metadata": {},
   "outputs": [],
   "source": [
    "mat4 = np.concatenate([arr1.reshape(1,-1),arr2.reshape(1,-1)], axis = 0)"
   ]
  },
  {
   "cell_type": "code",
   "execution_count": 430,
   "id": "311a9b2e-4942-4743-b972-a1afbbea131f",
   "metadata": {},
   "outputs": [
    {
     "data": {
      "text/plain": [
       "array([[1, 2, 3],\n",
       "       [5, 6, 2]])"
      ]
     },
     "execution_count": 430,
     "metadata": {},
     "output_type": "execute_result"
    }
   ],
   "source": [
    "mat4"
   ]
  },
  {
   "cell_type": "markdown",
   "id": "ed0d8fac-9a97-49d6-89ae-6052a7af8306",
   "metadata": {},
   "source": [
    "### prod\n",
    "\n",
    "The prod tool returns the product of array elements over a given axis."
   ]
  },
  {
   "cell_type": "code",
   "execution_count": 433,
   "id": "6c3b12df-833b-401c-8b82-0070c4e73354",
   "metadata": {},
   "outputs": [
    {
     "data": {
      "text/plain": [
       "0"
      ]
     },
     "execution_count": 433,
     "metadata": {},
     "output_type": "execute_result"
    }
   ],
   "source": [
    "np.prod(mat)"
   ]
  },
  {
   "cell_type": "code",
   "execution_count": 439,
   "id": "ee288214-305c-4e0e-9510-71cbf5c12bb1",
   "metadata": {},
   "outputs": [
    {
     "data": {
      "text/plain": [
       "array([ 6, 60,  0])"
      ]
     },
     "execution_count": 439,
     "metadata": {},
     "output_type": "execute_result"
    }
   ],
   "source": [
    "np.prod(mat, axis = 1)"
   ]
  },
  {
   "cell_type": "code",
   "execution_count": 441,
   "id": "831ed2cc-9733-481e-a59b-1477bd5f7808",
   "metadata": {},
   "outputs": [],
   "source": [
    "row_prod = np.prod(mat, axis = 1)"
   ]
  },
  {
   "cell_type": "code",
   "execution_count": 443,
   "id": "43fc51ee-f93a-4338-bfe5-f708208bed3f",
   "metadata": {},
   "outputs": [
    {
     "data": {
      "text/plain": [
       "array([ 6, 60,  0])"
      ]
     },
     "execution_count": 443,
     "metadata": {},
     "output_type": "execute_result"
    }
   ],
   "source": [
    "row_prod"
   ]
  },
  {
   "cell_type": "code",
   "execution_count": 449,
   "id": "9982ae9e-995d-46bb-bcca-951626ea56f2",
   "metadata": {},
   "outputs": [
    {
     "name": "stdout",
     "output_type": "stream",
     "text": [
      "[ 6 60  0]\n"
     ]
    }
   ],
   "source": [
    "print(row_prod)"
   ]
  },
  {
   "cell_type": "code",
   "execution_count": 445,
   "id": "421e8f09-d04a-4e28-a837-191693732465",
   "metadata": {},
   "outputs": [
    {
     "data": {
      "text/plain": [
       "3"
      ]
     },
     "execution_count": 445,
     "metadata": {},
     "output_type": "execute_result"
    }
   ],
   "source": [
    "row_prod.size"
   ]
  },
  {
   "cell_type": "code",
   "execution_count": 447,
   "id": "0d9b992c-5f58-4458-9315-259a07623e05",
   "metadata": {},
   "outputs": [
    {
     "data": {
      "text/plain": [
       "(3,)"
      ]
     },
     "execution_count": 447,
     "metadata": {},
     "output_type": "execute_result"
    }
   ],
   "source": [
    "row_prod.shape"
   ]
  },
  {
   "cell_type": "code",
   "execution_count": 451,
   "id": "d9c2f735-caf5-4088-95fd-ecfcfc79cbbe",
   "metadata": {},
   "outputs": [
    {
     "data": {
      "text/plain": [
       "array([[ 6],\n",
       "       [60],\n",
       "       [ 0]])"
      ]
     },
     "execution_count": 451,
     "metadata": {},
     "output_type": "execute_result"
    }
   ],
   "source": [
    "row_prod.reshape(-1,1)"
   ]
  },
  {
   "cell_type": "code",
   "execution_count": 455,
   "id": "eb4af8ee-ca23-4f91-a06b-989149168ebb",
   "metadata": {},
   "outputs": [
    {
     "data": {
      "text/plain": [
       "array([ 5,  0, 60])"
      ]
     },
     "execution_count": 455,
     "metadata": {},
     "output_type": "execute_result"
    }
   ],
   "source": [
    "np.prod(mat, axis = 0)"
   ]
  },
  {
   "cell_type": "code",
   "execution_count": 457,
   "id": "a486e236-2cb5-4e71-8387-4074f7ff0f3a",
   "metadata": {},
   "outputs": [],
   "source": [
    "col_prod = np.prod(mat, axis = 0)"
   ]
  },
  {
   "cell_type": "code",
   "execution_count": 459,
   "id": "e7c89dd1-8e24-4bcf-9773-72d1e290293b",
   "metadata": {},
   "outputs": [
    {
     "data": {
      "text/plain": [
       "array([ 5,  0, 60])"
      ]
     },
     "execution_count": 459,
     "metadata": {},
     "output_type": "execute_result"
    }
   ],
   "source": [
    "col_prod"
   ]
  },
  {
   "cell_type": "code",
   "execution_count": 461,
   "id": "e45a716d-ac00-4b0c-9922-4014d63f8b2b",
   "metadata": {},
   "outputs": [
    {
     "data": {
      "text/plain": [
       "(3,)"
      ]
     },
     "execution_count": 461,
     "metadata": {},
     "output_type": "execute_result"
    }
   ],
   "source": [
    "col_prod.shape"
   ]
  },
  {
   "cell_type": "code",
   "execution_count": 463,
   "id": "7dae627f-3709-45b7-8a10-1df69ef0c379",
   "metadata": {},
   "outputs": [
    {
     "data": {
      "text/plain": [
       "array([[ 5,  0, 60]])"
      ]
     },
     "execution_count": 463,
     "metadata": {},
     "output_type": "execute_result"
    }
   ],
   "source": [
    "col_prod.reshape(1,-1)"
   ]
  },
  {
   "cell_type": "code",
   "execution_count": 469,
   "id": "f27be2a2-bbb5-4adc-83bc-94067e2c1d13",
   "metadata": {},
   "outputs": [
    {
     "data": {
      "text/plain": [
       "array([[1, 5],\n",
       "       [2, 6],\n",
       "       [3, 2]])"
      ]
     },
     "execution_count": 469,
     "metadata": {},
     "output_type": "execute_result"
    }
   ],
   "source": [
    "mat3"
   ]
  },
  {
   "cell_type": "code",
   "execution_count": 465,
   "id": "500954b8-346d-4f6c-b30c-4e08517aa50a",
   "metadata": {},
   "outputs": [
    {
     "data": {
      "text/plain": [
       "360"
      ]
     },
     "execution_count": 465,
     "metadata": {},
     "output_type": "execute_result"
    }
   ],
   "source": [
    "np.prod(mat3)"
   ]
  },
  {
   "cell_type": "code",
   "execution_count": 475,
   "id": "67875b23-81f7-40f4-862c-142e56233b0f",
   "metadata": {},
   "outputs": [
    {
     "data": {
      "text/plain": [
       "array([[1, 2, 3],\n",
       "       [5, 6, 2]])"
      ]
     },
     "execution_count": 475,
     "metadata": {},
     "output_type": "execute_result"
    }
   ],
   "source": [
    "mat4"
   ]
  },
  {
   "cell_type": "code",
   "execution_count": 467,
   "id": "cffcca96-010b-45c4-9dad-a3d6000789a1",
   "metadata": {},
   "outputs": [
    {
     "data": {
      "text/plain": [
       "360"
      ]
     },
     "execution_count": 467,
     "metadata": {},
     "output_type": "execute_result"
    }
   ],
   "source": [
    "np.prod(mat4)"
   ]
  },
  {
   "cell_type": "code",
   "execution_count": 471,
   "id": "6e6b5961-6b24-449b-a6b7-08851baaaa5c",
   "metadata": {},
   "outputs": [
    {
     "data": {
      "text/plain": [
       "array([ 5, 12,  6])"
      ]
     },
     "execution_count": 471,
     "metadata": {},
     "output_type": "execute_result"
    }
   ],
   "source": [
    "np.prod(mat4, axis = 0)"
   ]
  },
  {
   "cell_type": "code",
   "execution_count": 489,
   "id": "560dab5d-26a3-43a0-803b-ecf1d0b96e96",
   "metadata": {},
   "outputs": [
    {
     "data": {
      "text/plain": [
       "array([[1, 2, 3],\n",
       "       [5, 6, 2]])"
      ]
     },
     "execution_count": 489,
     "metadata": {},
     "output_type": "execute_result"
    }
   ],
   "source": [
    "mat4"
   ]
  },
  {
   "cell_type": "code",
   "execution_count": 487,
   "id": "99e947c1-6a4f-4f60-ba0d-59764ca87f7e",
   "metadata": {},
   "outputs": [
    {
     "data": {
      "text/plain": [
       "array([[ 5, 12,  6]])"
      ]
     },
     "execution_count": 487,
     "metadata": {},
     "output_type": "execute_result"
    }
   ],
   "source": [
    "col_prod = np.prod(mat4, axis = 0)\n",
    "col_prod.reshape(1,-1)"
   ]
  },
  {
   "cell_type": "code",
   "execution_count": 510,
   "id": "4a2f6e3c-4002-49c5-bf63-a3016abe88e3",
   "metadata": {},
   "outputs": [
    {
     "data": {
      "text/plain": [
       "array([[ 6],\n",
       "       [60]])"
      ]
     },
     "execution_count": 510,
     "metadata": {},
     "output_type": "execute_result"
    }
   ],
   "source": [
    "row_prod = np.prod(mat4, axis = 1)\n",
    "row_prod.reshape(-1,1)"
   ]
  },
  {
   "cell_type": "markdown",
   "id": "a73b1f2f-2aab-4d8e-ab44-95db1290b79e",
   "metadata": {},
   "source": [
    "same for sum"
   ]
  },
  {
   "cell_type": "markdown",
   "id": "5e351bfa-f658-491d-848d-d645d6c70ce0",
   "metadata": {},
   "source": [
    "### min and max"
   ]
  },
  {
   "cell_type": "code",
   "execution_count": 492,
   "id": "9de93101-90b3-4780-bdb0-e65c105c5ec5",
   "metadata": {},
   "outputs": [
    {
     "data": {
      "text/plain": [
       "array([[1, 2, 3],\n",
       "       [5, 6, 2]])"
      ]
     },
     "execution_count": 492,
     "metadata": {},
     "output_type": "execute_result"
    }
   ],
   "source": [
    "mat4"
   ]
  },
  {
   "cell_type": "code",
   "execution_count": 494,
   "id": "156b4791-15a3-4d12-a6af-c012d2ed771d",
   "metadata": {},
   "outputs": [
    {
     "data": {
      "text/plain": [
       "1"
      ]
     },
     "execution_count": 494,
     "metadata": {},
     "output_type": "execute_result"
    }
   ],
   "source": [
    "np.min(mat4)"
   ]
  },
  {
   "cell_type": "code",
   "execution_count": 502,
   "id": "bb723c87-fbc9-4fdd-9122-9b7685120cdb",
   "metadata": {},
   "outputs": [
    {
     "data": {
      "text/plain": [
       "array([1, 2, 2])"
      ]
     },
     "execution_count": 502,
     "metadata": {},
     "output_type": "execute_result"
    }
   ],
   "source": [
    "np.min(mat4, axis = 0) # across columns"
   ]
  },
  {
   "cell_type": "code",
   "execution_count": 507,
   "id": "9175b034-0bd5-47d0-b08e-f9325521d006",
   "metadata": {},
   "outputs": [
    {
     "data": {
      "text/plain": [
       "array([[1],\n",
       "       [2]])"
      ]
     },
     "execution_count": 507,
     "metadata": {},
     "output_type": "execute_result"
    }
   ],
   "source": [
    "np.min(mat4, axis = 1).reshape(-1,1) # across rows, showing in 1 column"
   ]
  },
  {
   "cell_type": "markdown",
   "id": "7329e70f-ef9a-4261-9226-d6ea330362af",
   "metadata": {},
   "source": [
    "same for max"
   ]
  },
  {
   "cell_type": "markdown",
   "id": "dc881c7a-5bf9-4a40-a0c0-2f13e3e6c294",
   "metadata": {},
   "source": [
    "### mean, var, std"
   ]
  },
  {
   "cell_type": "code",
   "execution_count": 514,
   "id": "fbff3468-f41f-4a28-a522-f661d4d10212",
   "metadata": {},
   "outputs": [
    {
     "data": {
      "text/plain": [
       "array([[1, 2, 3],\n",
       "       [5, 6, 2]])"
      ]
     },
     "execution_count": 514,
     "metadata": {},
     "output_type": "execute_result"
    }
   ],
   "source": [
    "mat4"
   ]
  },
  {
   "cell_type": "code",
   "execution_count": 516,
   "id": "6935587f-99be-46ce-bb4e-2a287c7f9605",
   "metadata": {},
   "outputs": [
    {
     "data": {
      "text/plain": [
       "3.1666666666666665"
      ]
     },
     "execution_count": 516,
     "metadata": {},
     "output_type": "execute_result"
    }
   ],
   "source": [
    "np.mean(mat4)"
   ]
  },
  {
   "cell_type": "code",
   "execution_count": 518,
   "id": "ccebc611-92f8-4b11-84f0-67d30b2fc9ac",
   "metadata": {},
   "outputs": [
    {
     "data": {
      "text/plain": [
       "3.138888888888889"
      ]
     },
     "execution_count": 518,
     "metadata": {},
     "output_type": "execute_result"
    }
   ],
   "source": [
    "np.var(mat4)"
   ]
  },
  {
   "cell_type": "code",
   "execution_count": 520,
   "id": "5b3f77e0-d119-4e65-b4e5-4a7705943d85",
   "metadata": {},
   "outputs": [
    {
     "data": {
      "text/plain": [
       "1.7716909687891083"
      ]
     },
     "execution_count": 520,
     "metadata": {},
     "output_type": "execute_result"
    }
   ],
   "source": [
    "np.std(mat4)"
   ]
  },
  {
   "cell_type": "markdown",
   "id": "d85abbe4-7fec-49ef-905b-044a2a3f6581",
   "metadata": {},
   "source": [
    "#### row wsie (horizontally) | across columns"
   ]
  },
  {
   "cell_type": "code",
   "execution_count": 525,
   "id": "3601d10a-a0f7-4dd2-a77f-4bb69a632f97",
   "metadata": {},
   "outputs": [
    {
     "data": {
      "text/plain": [
       "array([[2.        ],\n",
       "       [4.33333333]])"
      ]
     },
     "execution_count": 525,
     "metadata": {},
     "output_type": "execute_result"
    }
   ],
   "source": [
    "np.mean(mat4, axis = 1).reshape(-1,1)"
   ]
  },
  {
   "cell_type": "code",
   "execution_count": 527,
   "id": "d48a6c04-57ee-4883-aad6-0d36ba88b44b",
   "metadata": {},
   "outputs": [
    {
     "data": {
      "text/plain": [
       "array([[0.66666667],\n",
       "       [2.88888889]])"
      ]
     },
     "execution_count": 527,
     "metadata": {},
     "output_type": "execute_result"
    }
   ],
   "source": [
    "np.var(mat4, axis = 1).reshape(-1,1)"
   ]
  },
  {
   "cell_type": "code",
   "execution_count": 531,
   "id": "48836c94-d0fa-4f91-a4cb-a46e965059f0",
   "metadata": {},
   "outputs": [
    {
     "data": {
      "text/plain": [
       "array([[0.81649658],\n",
       "       [1.69967317]])"
      ]
     },
     "execution_count": 531,
     "metadata": {},
     "output_type": "execute_result"
    }
   ],
   "source": [
    "np.std(mat4, axis = 1).reshape(-1,1)"
   ]
  },
  {
   "cell_type": "markdown",
   "id": "b0b08a5b-96f7-4626-96cf-9be8c25f2ce4",
   "metadata": {},
   "source": [
    "#### column wise (vertically) | across rows\n",
    "**by default most things operate vertically | axis = 0 | \"across rows going vertically down, column wise**\"\""
   ]
  },
  {
   "cell_type": "code",
   "execution_count": 534,
   "id": "680140aa-4239-40c4-b9ae-9aeb61065659",
   "metadata": {},
   "outputs": [
    {
     "data": {
      "text/plain": [
       "array([3. , 4. , 2.5])"
      ]
     },
     "execution_count": 534,
     "metadata": {},
     "output_type": "execute_result"
    }
   ],
   "source": [
    "np.mean(mat4, axis = 0)"
   ]
  },
  {
   "cell_type": "code",
   "execution_count": 538,
   "id": "3b52eef6-0b50-4762-a80a-d9ced0dfc392",
   "metadata": {},
   "outputs": [
    {
     "data": {
      "text/plain": [
       "3.1666666666666665"
      ]
     },
     "execution_count": 538,
     "metadata": {},
     "output_type": "execute_result"
    }
   ],
   "source": [
    "np.mean(mat4)"
   ]
  },
  {
   "cell_type": "code",
   "execution_count": 546,
   "id": "0d4f83e3-de9f-4a1c-a311-e55414f24ca0",
   "metadata": {},
   "outputs": [
    {
     "data": {
      "text/plain": [
       "array([4.  , 4.  , 0.25])"
      ]
     },
     "execution_count": 546,
     "metadata": {},
     "output_type": "execute_result"
    }
   ],
   "source": [
    "np.var(mat4, axis = 0)"
   ]
  },
  {
   "cell_type": "code",
   "execution_count": 548,
   "id": "157b46dd-f6b8-42c0-93a4-febb610368c7",
   "metadata": {},
   "outputs": [
    {
     "data": {
      "text/plain": [
       "array([2. , 2. , 0.5])"
      ]
     },
     "execution_count": 548,
     "metadata": {},
     "output_type": "execute_result"
    }
   ],
   "source": [
    "np.std(mat4, axis =0)"
   ]
  },
  {
   "cell_type": "markdown",
   "id": "f01d5c71-4400-4f4d-b074-d065dabbba43",
   "metadata": {},
   "source": [
    "## Part 4"
   ]
  },
  {
   "cell_type": "markdown",
   "id": "d3a46407-63bd-4065-9ba5-8ac29579dd02",
   "metadata": {},
   "source": [
    "### dot and cross"
   ]
  },
  {
   "cell_type": "code",
   "execution_count": 566,
   "id": "98959d30-b043-4962-8e86-453d937bdf95",
   "metadata": {},
   "outputs": [],
   "source": [
    "arr1 = np.array([1,2,3])\n",
    "arr2 = np.array([6,3,5])"
   ]
  },
  {
   "cell_type": "code",
   "execution_count": 568,
   "id": "5225b0da-36a6-48bf-b668-b8506064a3a7",
   "metadata": {},
   "outputs": [
    {
     "data": {
      "text/plain": [
       "numpy.ndarray"
      ]
     },
     "execution_count": 568,
     "metadata": {},
     "output_type": "execute_result"
    }
   ],
   "source": [
    "type(arr1)"
   ]
  },
  {
   "cell_type": "code",
   "execution_count": 570,
   "id": "0d49f030-5fd0-4e1e-885a-05ea5f72ac71",
   "metadata": {},
   "outputs": [
    {
     "data": {
      "text/plain": [
       "(3,)"
      ]
     },
     "execution_count": 570,
     "metadata": {},
     "output_type": "execute_result"
    }
   ],
   "source": [
    "arr1.shape"
   ]
  },
  {
   "cell_type": "code",
   "execution_count": 572,
   "id": "bd5a43a2-f9ff-493c-8b72-6ade70e8f1aa",
   "metadata": {},
   "outputs": [
    {
     "data": {
      "text/plain": [
       "27"
      ]
     },
     "execution_count": 572,
     "metadata": {},
     "output_type": "execute_result"
    }
   ],
   "source": [
    "arr1.dot(arr2)"
   ]
  },
  {
   "cell_type": "code",
   "execution_count": 578,
   "id": "0ef596c7-0f66-4a1a-999e-52577b85ebff",
   "metadata": {},
   "outputs": [
    {
     "data": {
      "text/plain": [
       "27"
      ]
     },
     "execution_count": 578,
     "metadata": {},
     "output_type": "execute_result"
    }
   ],
   "source": [
    "np.dot(arr1,arr2)"
   ]
  },
  {
   "cell_type": "code",
   "execution_count": 580,
   "id": "ddc9eceb-0d0a-4214-8fd7-e43763d20ffa",
   "metadata": {},
   "outputs": [
    {
     "data": {
      "text/plain": [
       "array([ 1, 13, -9])"
      ]
     },
     "execution_count": 580,
     "metadata": {},
     "output_type": "execute_result"
    }
   ],
   "source": [
    "np.cross(arr1,arr2)"
   ]
  },
  {
   "cell_type": "markdown",
   "id": "be6a30c4-2ed0-494a-98c4-779472c112d2",
   "metadata": {},
   "source": [
    "### inner and outer"
   ]
  },
  {
   "cell_type": "markdown",
   "id": "2cac510b-3f6b-420e-b957-706a1360af6d",
   "metadata": {},
   "source": [
    "inner = dot"
   ]
  },
  {
   "cell_type": "code",
   "execution_count": 586,
   "id": "4a0fbfd6-bb1b-4c77-beb9-077a00a524e2",
   "metadata": {},
   "outputs": [
    {
     "data": {
      "text/plain": [
       "27"
      ]
     },
     "execution_count": 586,
     "metadata": {},
     "output_type": "execute_result"
    }
   ],
   "source": [
    "np.inner(arr1,arr2)"
   ]
  },
  {
   "cell_type": "markdown",
   "id": "b9129bf9-28b8-485f-89c1-32a50abb3e0d",
   "metadata": {},
   "source": [
    "outer = col vector * row vector"
   ]
  },
  {
   "cell_type": "code",
   "execution_count": 588,
   "id": "5169574f-2ecb-4752-9698-47740f4c3e73",
   "metadata": {},
   "outputs": [
    {
     "data": {
      "text/plain": [
       "array([[ 6,  3,  5],\n",
       "       [12,  6, 10],\n",
       "       [18,  9, 15]])"
      ]
     },
     "execution_count": 588,
     "metadata": {},
     "output_type": "execute_result"
    }
   ],
   "source": [
    "np.outer(arr1,arr2)"
   ]
  },
  {
   "cell_type": "code",
   "execution_count": 590,
   "id": "f08fe6f7-c9ae-45a5-81b4-57648cb3896d",
   "metadata": {},
   "outputs": [],
   "source": [
    "col_v = arr1.reshape(-1,1)"
   ]
  },
  {
   "cell_type": "code",
   "execution_count": 592,
   "id": "c35b8edd-5238-41b6-92df-a79231ee33a9",
   "metadata": {},
   "outputs": [
    {
     "data": {
      "text/plain": [
       "array([[1],\n",
       "       [2],\n",
       "       [3]])"
      ]
     },
     "execution_count": 592,
     "metadata": {},
     "output_type": "execute_result"
    }
   ],
   "source": [
    "col_v"
   ]
  },
  {
   "cell_type": "code",
   "execution_count": 594,
   "id": "44126351-3cca-41bc-a334-f38e5fafaa07",
   "metadata": {},
   "outputs": [],
   "source": [
    "row_v = arr2.reshape(1,-1)"
   ]
  },
  {
   "cell_type": "code",
   "execution_count": 596,
   "id": "c5aab869-c42e-44c2-997f-a686c2432058",
   "metadata": {},
   "outputs": [
    {
     "data": {
      "text/plain": [
       "array([[6, 3, 5]])"
      ]
     },
     "execution_count": 596,
     "metadata": {},
     "output_type": "execute_result"
    }
   ],
   "source": [
    "row_v"
   ]
  },
  {
   "cell_type": "code",
   "execution_count": 602,
   "id": "4cb2425e-b7b0-48f0-8afa-bfe87b34aa78",
   "metadata": {},
   "outputs": [
    {
     "data": {
      "text/plain": [
       "array([[ 6,  3,  5],\n",
       "       [12,  6, 10],\n",
       "       [18,  9, 15]])"
      ]
     },
     "execution_count": 602,
     "metadata": {},
     "output_type": "execute_result"
    }
   ],
   "source": [
    "col_v*(row_v)"
   ]
  },
  {
   "cell_type": "markdown",
   "id": "248cc427-522d-4575-99f6-8fbdff309925",
   "metadata": {},
   "source": [
    "**finish**"
   ]
  },
  {
   "cell_type": "code",
   "execution_count": null,
   "id": "38c05d67-c281-4572-9f07-d850cd9eb9a4",
   "metadata": {},
   "outputs": [],
   "source": []
  }
 ],
 "metadata": {
  "kernelspec": {
   "display_name": "Python 3 (ipykernel)",
   "language": "python",
   "name": "python3"
  },
  "language_info": {
   "codemirror_mode": {
    "name": "ipython",
    "version": 3
   },
   "file_extension": ".py",
   "mimetype": "text/x-python",
   "name": "python",
   "nbconvert_exporter": "python",
   "pygments_lexer": "ipython3",
   "version": "3.11.7"
  },
  "widgets": {
   "application/vnd.jupyter.widget-state+json": {
    "state": {},
    "version_major": 2,
    "version_minor": 0
   }
  }
 },
 "nbformat": 4,
 "nbformat_minor": 5
}
