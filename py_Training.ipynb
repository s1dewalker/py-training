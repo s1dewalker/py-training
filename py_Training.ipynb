{
 "cells": [
  {
   "cell_type": "markdown",
   "id": "029e8418-eefd-49e6-87d4-2a98e527b665",
   "metadata": {},
   "source": [
    "# Py training w/ Ride share data"
   ]
  },
  {
   "cell_type": "markdown",
   "id": "c01cefe5-b832-4810-915d-044f3105ce46",
   "metadata": {},
   "source": [
    "## **Pandas**"
   ]
  },
  {
   "cell_type": "code",
   "execution_count": 3,
   "id": "0c67e88d-62eb-45f6-ba61-71a728a620ee",
   "metadata": {},
   "outputs": [],
   "source": [
    "import pandas as pd"
   ]
  },
  {
   "cell_type": "markdown",
   "id": "57aa55b6-e36b-42a9-bec2-ea5717e0a100",
   "metadata": {},
   "source": [
    "### Getting data"
   ]
  },
  {
   "cell_type": "code",
   "execution_count": 5,
   "id": "166343b7-d376-4dfa-b25f-854f85fbfa04",
   "metadata": {},
   "outputs": [],
   "source": [
    "drivers = pd.read_csv(r\"drivers.csv\")\n",
    "ratings = pd.read_csv(r\"ratings.csv\")\n",
    "rides = pd.read_csv(r\"rides.csv\")\n",
    "users = pd.read_csv(r\"users.csv\")\n",
    "vehicles = pd.read_csv(r\"vehicles.csv\")"
   ]
  },
  {
   "cell_type": "code",
   "execution_count": 6,
   "id": "d777b179-d159-4efc-bcdc-3352293ca567",
   "metadata": {},
   "outputs": [
    {
     "data": {
      "text/html": [
       "<div>\n",
       "<style scoped>\n",
       "    .dataframe tbody tr th:only-of-type {\n",
       "        vertical-align: middle;\n",
       "    }\n",
       "\n",
       "    .dataframe tbody tr th {\n",
       "        vertical-align: top;\n",
       "    }\n",
       "\n",
       "    .dataframe thead th {\n",
       "        text-align: right;\n",
       "    }\n",
       "</style>\n",
       "<table border=\"1\" class=\"dataframe\">\n",
       "  <thead>\n",
       "    <tr style=\"text-align: right;\">\n",
       "      <th></th>\n",
       "      <th>driver_id</th>\n",
       "      <th>name</th>\n",
       "      <th>vehicle_id</th>\n",
       "      <th>rating</th>\n",
       "      <th>total_rides</th>\n",
       "      <th>available</th>\n",
       "    </tr>\n",
       "  </thead>\n",
       "  <tbody>\n",
       "    <tr>\n",
       "      <th>0</th>\n",
       "      <td>1</td>\n",
       "      <td>Virginia Johnson</td>\n",
       "      <td>284</td>\n",
       "      <td>3.44</td>\n",
       "      <td>30</td>\n",
       "      <td>True</td>\n",
       "    </tr>\n",
       "    <tr>\n",
       "      <th>1</th>\n",
       "      <td>2</td>\n",
       "      <td>Daniel Maddox</td>\n",
       "      <td>18</td>\n",
       "      <td>2.59</td>\n",
       "      <td>61</td>\n",
       "      <td>False</td>\n",
       "    </tr>\n",
       "    <tr>\n",
       "      <th>2</th>\n",
       "      <td>3</td>\n",
       "      <td>Patricia Salazar</td>\n",
       "      <td>298</td>\n",
       "      <td>4.93</td>\n",
       "      <td>75</td>\n",
       "      <td>True</td>\n",
       "    </tr>\n",
       "    <tr>\n",
       "      <th>3</th>\n",
       "      <td>4</td>\n",
       "      <td>Cameron Hinton DDS</td>\n",
       "      <td>49</td>\n",
       "      <td>2.59</td>\n",
       "      <td>12</td>\n",
       "      <td>True</td>\n",
       "    </tr>\n",
       "    <tr>\n",
       "      <th>4</th>\n",
       "      <td>5</td>\n",
       "      <td>Jennifer Ayala</td>\n",
       "      <td>138</td>\n",
       "      <td>4.69</td>\n",
       "      <td>71</td>\n",
       "      <td>True</td>\n",
       "    </tr>\n",
       "  </tbody>\n",
       "</table>\n",
       "</div>"
      ],
      "text/plain": [
       "   driver_id                name  vehicle_id  rating  total_rides  available\n",
       "0          1    Virginia Johnson         284    3.44           30       True\n",
       "1          2       Daniel Maddox          18    2.59           61      False\n",
       "2          3    Patricia Salazar         298    4.93           75       True\n",
       "3          4  Cameron Hinton DDS          49    2.59           12       True\n",
       "4          5      Jennifer Ayala         138    4.69           71       True"
      ]
     },
     "execution_count": 6,
     "metadata": {},
     "output_type": "execute_result"
    }
   ],
   "source": [
    "drivers.head()"
   ]
  },
  {
   "cell_type": "code",
   "execution_count": 7,
   "id": "8d38f6b5-bff7-4419-a0d2-3ffc540b76e7",
   "metadata": {},
   "outputs": [
    {
     "data": {
      "text/html": [
       "<div>\n",
       "<style scoped>\n",
       "    .dataframe tbody tr th:only-of-type {\n",
       "        vertical-align: middle;\n",
       "    }\n",
       "\n",
       "    .dataframe tbody tr th {\n",
       "        vertical-align: top;\n",
       "    }\n",
       "\n",
       "    .dataframe thead th {\n",
       "        text-align: right;\n",
       "    }\n",
       "</style>\n",
       "<table border=\"1\" class=\"dataframe\">\n",
       "  <thead>\n",
       "    <tr style=\"text-align: right;\">\n",
       "      <th></th>\n",
       "      <th>rating_id</th>\n",
       "      <th>ride_id</th>\n",
       "      <th>user_id</th>\n",
       "      <th>rating_value</th>\n",
       "      <th>comments</th>\n",
       "      <th>rating_date</th>\n",
       "    </tr>\n",
       "  </thead>\n",
       "  <tbody>\n",
       "    <tr>\n",
       "      <th>0</th>\n",
       "      <td>1</td>\n",
       "      <td>1</td>\n",
       "      <td>3046</td>\n",
       "      <td>3</td>\n",
       "      <td>Million onto whom everything.</td>\n",
       "      <td>2024-07-18 23:43:41</td>\n",
       "    </tr>\n",
       "    <tr>\n",
       "      <th>1</th>\n",
       "      <td>2</td>\n",
       "      <td>2</td>\n",
       "      <td>3352</td>\n",
       "      <td>5</td>\n",
       "      <td>NaN</td>\n",
       "      <td>2024-04-15 07:00:17</td>\n",
       "    </tr>\n",
       "    <tr>\n",
       "      <th>2</th>\n",
       "      <td>3</td>\n",
       "      <td>3</td>\n",
       "      <td>658</td>\n",
       "      <td>4</td>\n",
       "      <td>Tonight another goal lead.</td>\n",
       "      <td>2024-04-21 20:25:52</td>\n",
       "    </tr>\n",
       "    <tr>\n",
       "      <th>3</th>\n",
       "      <td>4</td>\n",
       "      <td>4</td>\n",
       "      <td>7893</td>\n",
       "      <td>3</td>\n",
       "      <td>NaN</td>\n",
       "      <td>2024-03-22 21:24:44</td>\n",
       "    </tr>\n",
       "    <tr>\n",
       "      <th>4</th>\n",
       "      <td>5</td>\n",
       "      <td>5</td>\n",
       "      <td>2466</td>\n",
       "      <td>4</td>\n",
       "      <td>NaN</td>\n",
       "      <td>2024-01-11 21:13:34</td>\n",
       "    </tr>\n",
       "  </tbody>\n",
       "</table>\n",
       "</div>"
      ],
      "text/plain": [
       "   rating_id  ride_id  user_id  rating_value                       comments  \\\n",
       "0          1        1     3046             3  Million onto whom everything.   \n",
       "1          2        2     3352             5                            NaN   \n",
       "2          3        3      658             4     Tonight another goal lead.   \n",
       "3          4        4     7893             3                            NaN   \n",
       "4          5        5     2466             4                            NaN   \n",
       "\n",
       "           rating_date  \n",
       "0  2024-07-18 23:43:41  \n",
       "1  2024-04-15 07:00:17  \n",
       "2  2024-04-21 20:25:52  \n",
       "3  2024-03-22 21:24:44  \n",
       "4  2024-01-11 21:13:34  "
      ]
     },
     "execution_count": 7,
     "metadata": {},
     "output_type": "execute_result"
    }
   ],
   "source": [
    "ratings.head()"
   ]
  },
  {
   "cell_type": "code",
   "execution_count": 8,
   "id": "18d619bf-b2c0-4ad2-9c08-b05ff801075a",
   "metadata": {},
   "outputs": [
    {
     "data": {
      "text/html": [
       "<div>\n",
       "<style scoped>\n",
       "    .dataframe tbody tr th:only-of-type {\n",
       "        vertical-align: middle;\n",
       "    }\n",
       "\n",
       "    .dataframe tbody tr th {\n",
       "        vertical-align: top;\n",
       "    }\n",
       "\n",
       "    .dataframe thead th {\n",
       "        text-align: right;\n",
       "    }\n",
       "</style>\n",
       "<table border=\"1\" class=\"dataframe\">\n",
       "  <thead>\n",
       "    <tr style=\"text-align: right;\">\n",
       "      <th></th>\n",
       "      <th>ride_id</th>\n",
       "      <th>user_id</th>\n",
       "      <th>start_location</th>\n",
       "      <th>end_location</th>\n",
       "      <th>ride_start_time</th>\n",
       "      <th>ride_end_time</th>\n",
       "      <th>distance_km</th>\n",
       "      <th>fare_amount</th>\n",
       "      <th>driver_id</th>\n",
       "    </tr>\n",
       "  </thead>\n",
       "  <tbody>\n",
       "    <tr>\n",
       "      <th>0</th>\n",
       "      <td>1</td>\n",
       "      <td>4067</td>\n",
       "      <td>Larryborough</td>\n",
       "      <td>Norrisborough</td>\n",
       "      <td>2024-04-30 10:31:56</td>\n",
       "      <td>2024-04-30 11:05:56</td>\n",
       "      <td>2.03</td>\n",
       "      <td>3.33</td>\n",
       "      <td>145</td>\n",
       "    </tr>\n",
       "    <tr>\n",
       "      <th>1</th>\n",
       "      <td>2</td>\n",
       "      <td>9160</td>\n",
       "      <td>Williamston</td>\n",
       "      <td>Robertburgh</td>\n",
       "      <td>2024-09-11 12:07:26</td>\n",
       "      <td>2024-09-11 13:34:26</td>\n",
       "      <td>13.66</td>\n",
       "      <td>30.03</td>\n",
       "      <td>244</td>\n",
       "    </tr>\n",
       "    <tr>\n",
       "      <th>2</th>\n",
       "      <td>3</td>\n",
       "      <td>1990</td>\n",
       "      <td>Howeshire</td>\n",
       "      <td>Christopherland</td>\n",
       "      <td>2024-04-30 10:21:25</td>\n",
       "      <td>2024-04-30 10:40:25</td>\n",
       "      <td>5.50</td>\n",
       "      <td>15.67</td>\n",
       "      <td>234</td>\n",
       "    </tr>\n",
       "    <tr>\n",
       "      <th>3</th>\n",
       "      <td>4</td>\n",
       "      <td>1268</td>\n",
       "      <td>North Annton</td>\n",
       "      <td>East Heather</td>\n",
       "      <td>2024-04-12 04:06:58</td>\n",
       "      <td>2024-04-12 05:07:58</td>\n",
       "      <td>31.74</td>\n",
       "      <td>53.90</td>\n",
       "      <td>145</td>\n",
       "    </tr>\n",
       "    <tr>\n",
       "      <th>4</th>\n",
       "      <td>5</td>\n",
       "      <td>7296</td>\n",
       "      <td>South Joseph</td>\n",
       "      <td>Lake Samuelberg</td>\n",
       "      <td>2024-04-26 16:45:45</td>\n",
       "      <td>2024-04-26 18:31:45</td>\n",
       "      <td>13.54</td>\n",
       "      <td>38.40</td>\n",
       "      <td>39</td>\n",
       "    </tr>\n",
       "  </tbody>\n",
       "</table>\n",
       "</div>"
      ],
      "text/plain": [
       "   ride_id  user_id start_location     end_location      ride_start_time  \\\n",
       "0        1     4067   Larryborough    Norrisborough  2024-04-30 10:31:56   \n",
       "1        2     9160    Williamston      Robertburgh  2024-09-11 12:07:26   \n",
       "2        3     1990      Howeshire  Christopherland  2024-04-30 10:21:25   \n",
       "3        4     1268   North Annton     East Heather  2024-04-12 04:06:58   \n",
       "4        5     7296   South Joseph  Lake Samuelberg  2024-04-26 16:45:45   \n",
       "\n",
       "         ride_end_time  distance_km  fare_amount  driver_id  \n",
       "0  2024-04-30 11:05:56         2.03         3.33        145  \n",
       "1  2024-09-11 13:34:26        13.66        30.03        244  \n",
       "2  2024-04-30 10:40:25         5.50        15.67        234  \n",
       "3  2024-04-12 05:07:58        31.74        53.90        145  \n",
       "4  2024-04-26 18:31:45        13.54        38.40         39  "
      ]
     },
     "execution_count": 8,
     "metadata": {},
     "output_type": "execute_result"
    }
   ],
   "source": [
    "rides.head()"
   ]
  },
  {
   "cell_type": "code",
   "execution_count": 9,
   "id": "c20f8b8f-28dc-4fb5-a879-0a71e80462c3",
   "metadata": {},
   "outputs": [
    {
     "data": {
      "text/html": [
       "<div>\n",
       "<style scoped>\n",
       "    .dataframe tbody tr th:only-of-type {\n",
       "        vertical-align: middle;\n",
       "    }\n",
       "\n",
       "    .dataframe tbody tr th {\n",
       "        vertical-align: top;\n",
       "    }\n",
       "\n",
       "    .dataframe thead th {\n",
       "        text-align: right;\n",
       "    }\n",
       "</style>\n",
       "<table border=\"1\" class=\"dataframe\">\n",
       "  <thead>\n",
       "    <tr style=\"text-align: right;\">\n",
       "      <th></th>\n",
       "      <th>user_id</th>\n",
       "      <th>name</th>\n",
       "      <th>email</th>\n",
       "      <th>phone_number</th>\n",
       "      <th>registration_date</th>\n",
       "      <th>age</th>\n",
       "      <th>gender</th>\n",
       "      <th>location</th>\n",
       "    </tr>\n",
       "  </thead>\n",
       "  <tbody>\n",
       "    <tr>\n",
       "      <th>0</th>\n",
       "      <td>1</td>\n",
       "      <td>Tammy Jones</td>\n",
       "      <td>trevinojacqueline@example.net</td>\n",
       "      <td>530-318-6905x290</td>\n",
       "      <td>2024-07-29 12:00:05</td>\n",
       "      <td>21</td>\n",
       "      <td>Other</td>\n",
       "      <td>New Alanside</td>\n",
       "    </tr>\n",
       "    <tr>\n",
       "      <th>1</th>\n",
       "      <td>2</td>\n",
       "      <td>Tyler Mathews</td>\n",
       "      <td>tim47@example.com</td>\n",
       "      <td>(222)541-3246x834</td>\n",
       "      <td>2021-10-04 14:21:09</td>\n",
       "      <td>53</td>\n",
       "      <td>Male</td>\n",
       "      <td>New Virginiabury</td>\n",
       "    </tr>\n",
       "    <tr>\n",
       "      <th>2</th>\n",
       "      <td>3</td>\n",
       "      <td>Melissa Robertson</td>\n",
       "      <td>scott64@example.org</td>\n",
       "      <td>309-644-3534x739</td>\n",
       "      <td>2022-10-07 04:46:44</td>\n",
       "      <td>57</td>\n",
       "      <td>Male</td>\n",
       "      <td>Ethanmouth</td>\n",
       "    </tr>\n",
       "    <tr>\n",
       "      <th>3</th>\n",
       "      <td>4</td>\n",
       "      <td>Heather Wolf</td>\n",
       "      <td>rushandrew@example.net</td>\n",
       "      <td>998-772-1220x9334</td>\n",
       "      <td>2022-07-10 14:01:22</td>\n",
       "      <td>50</td>\n",
       "      <td>Male</td>\n",
       "      <td>South Theresaland</td>\n",
       "    </tr>\n",
       "    <tr>\n",
       "      <th>4</th>\n",
       "      <td>5</td>\n",
       "      <td>Daniel Daniel</td>\n",
       "      <td>robert13@example.org</td>\n",
       "      <td>+1-992-853-1435</td>\n",
       "      <td>2020-05-21 04:37:46</td>\n",
       "      <td>32</td>\n",
       "      <td>Female</td>\n",
       "      <td>New James</td>\n",
       "    </tr>\n",
       "  </tbody>\n",
       "</table>\n",
       "</div>"
      ],
      "text/plain": [
       "   user_id               name                          email  \\\n",
       "0        1        Tammy Jones  trevinojacqueline@example.net   \n",
       "1        2      Tyler Mathews              tim47@example.com   \n",
       "2        3  Melissa Robertson            scott64@example.org   \n",
       "3        4       Heather Wolf         rushandrew@example.net   \n",
       "4        5      Daniel Daniel           robert13@example.org   \n",
       "\n",
       "        phone_number    registration_date  age  gender           location  \n",
       "0   530-318-6905x290  2024-07-29 12:00:05   21   Other       New Alanside  \n",
       "1  (222)541-3246x834  2021-10-04 14:21:09   53    Male   New Virginiabury  \n",
       "2   309-644-3534x739  2022-10-07 04:46:44   57    Male         Ethanmouth  \n",
       "3  998-772-1220x9334  2022-07-10 14:01:22   50    Male  South Theresaland  \n",
       "4    +1-992-853-1435  2020-05-21 04:37:46   32  Female          New James  "
      ]
     },
     "execution_count": 9,
     "metadata": {},
     "output_type": "execute_result"
    }
   ],
   "source": [
    "users.head()"
   ]
  },
  {
   "cell_type": "code",
   "execution_count": 10,
   "id": "d9b96236-ac57-4716-bcf3-5df86784e7ee",
   "metadata": {},
   "outputs": [
    {
     "data": {
      "text/html": [
       "<div>\n",
       "<style scoped>\n",
       "    .dataframe tbody tr th:only-of-type {\n",
       "        vertical-align: middle;\n",
       "    }\n",
       "\n",
       "    .dataframe tbody tr th {\n",
       "        vertical-align: top;\n",
       "    }\n",
       "\n",
       "    .dataframe thead th {\n",
       "        text-align: right;\n",
       "    }\n",
       "</style>\n",
       "<table border=\"1\" class=\"dataframe\">\n",
       "  <thead>\n",
       "    <tr style=\"text-align: right;\">\n",
       "      <th></th>\n",
       "      <th>vehicle_id</th>\n",
       "      <th>make</th>\n",
       "      <th>model</th>\n",
       "      <th>year</th>\n",
       "      <th>capacity</th>\n",
       "    </tr>\n",
       "  </thead>\n",
       "  <tbody>\n",
       "    <tr>\n",
       "      <th>0</th>\n",
       "      <td>1</td>\n",
       "      <td>Smith, Williams and Huff</td>\n",
       "      <td>positive</td>\n",
       "      <td>2009</td>\n",
       "      <td>3</td>\n",
       "    </tr>\n",
       "    <tr>\n",
       "      <th>1</th>\n",
       "      <td>2</td>\n",
       "      <td>Silva, Miller and Townsend</td>\n",
       "      <td>glass</td>\n",
       "      <td>2003</td>\n",
       "      <td>6</td>\n",
       "    </tr>\n",
       "    <tr>\n",
       "      <th>2</th>\n",
       "      <td>3</td>\n",
       "      <td>Mitchell LLC</td>\n",
       "      <td>north</td>\n",
       "      <td>2005</td>\n",
       "      <td>7</td>\n",
       "    </tr>\n",
       "    <tr>\n",
       "      <th>3</th>\n",
       "      <td>4</td>\n",
       "      <td>Hill LLC</td>\n",
       "      <td>leave</td>\n",
       "      <td>2016</td>\n",
       "      <td>7</td>\n",
       "    </tr>\n",
       "    <tr>\n",
       "      <th>4</th>\n",
       "      <td>5</td>\n",
       "      <td>Smith Group</td>\n",
       "      <td>glass</td>\n",
       "      <td>2011</td>\n",
       "      <td>6</td>\n",
       "    </tr>\n",
       "  </tbody>\n",
       "</table>\n",
       "</div>"
      ],
      "text/plain": [
       "   vehicle_id                        make     model  year  capacity\n",
       "0           1    Smith, Williams and Huff  positive  2009         3\n",
       "1           2  Silva, Miller and Townsend     glass  2003         6\n",
       "2           3                Mitchell LLC     north  2005         7\n",
       "3           4                    Hill LLC     leave  2016         7\n",
       "4           5                 Smith Group     glass  2011         6"
      ]
     },
     "execution_count": 10,
     "metadata": {},
     "output_type": "execute_result"
    }
   ],
   "source": [
    "vehicles.head()"
   ]
  },
  {
   "cell_type": "markdown",
   "id": "23c34669-4c37-4539-ac09-b5c7b182a4ba",
   "metadata": {
    "jp-MarkdownHeadingCollapsed": true
   },
   "source": [
    "### Handling missing values"
   ]
  },
  {
   "cell_type": "code",
   "execution_count": 12,
   "id": "e9fe8c11-d4c4-4be5-8b5e-24cfb687d63c",
   "metadata": {},
   "outputs": [
    {
     "data": {
      "text/plain": [
       "driver_id      0\n",
       "name           0\n",
       "vehicle_id     0\n",
       "rating         0\n",
       "total_rides    0\n",
       "available      0\n",
       "dtype: int64"
      ]
     },
     "execution_count": 12,
     "metadata": {},
     "output_type": "execute_result"
    }
   ],
   "source": [
    "drivers.isnull().sum()"
   ]
  },
  {
   "cell_type": "code",
   "execution_count": 13,
   "id": "a4441181-4c20-4a5c-8dc3-5ff6fc4e1950",
   "metadata": {},
   "outputs": [
    {
     "data": {
      "text/plain": [
       "rating_id           0\n",
       "ride_id             0\n",
       "user_id             0\n",
       "rating_value        0\n",
       "comments        25103\n",
       "rating_date         0\n",
       "dtype: int64"
      ]
     },
     "execution_count": 13,
     "metadata": {},
     "output_type": "execute_result"
    }
   ],
   "source": [
    "ratings.isnull().sum()"
   ]
  },
  {
   "cell_type": "code",
   "execution_count": 14,
   "id": "76e0f835-d93e-447a-bd83-11bd3c3e5464",
   "metadata": {},
   "outputs": [
    {
     "data": {
      "text/plain": [
       "ride_id            0\n",
       "user_id            0\n",
       "start_location     0\n",
       "end_location       0\n",
       "ride_start_time    0\n",
       "ride_end_time      0\n",
       "distance_km        0\n",
       "fare_amount        0\n",
       "driver_id          0\n",
       "dtype: int64"
      ]
     },
     "execution_count": 14,
     "metadata": {},
     "output_type": "execute_result"
    }
   ],
   "source": [
    "rides.isnull().sum()"
   ]
  },
  {
   "cell_type": "code",
   "execution_count": 15,
   "id": "05e58dc0-48d1-4a24-bb43-15fefa716c5d",
   "metadata": {},
   "outputs": [
    {
     "data": {
      "text/plain": [
       "user_id              0\n",
       "name                 0\n",
       "email                0\n",
       "phone_number         0\n",
       "registration_date    0\n",
       "age                  0\n",
       "gender               0\n",
       "location             0\n",
       "dtype: int64"
      ]
     },
     "execution_count": 15,
     "metadata": {},
     "output_type": "execute_result"
    }
   ],
   "source": [
    "users.isnull().sum()"
   ]
  },
  {
   "cell_type": "code",
   "execution_count": 16,
   "id": "1bc773f3-8549-423c-bf5d-8108cb690fd1",
   "metadata": {},
   "outputs": [
    {
     "data": {
      "text/plain": [
       "vehicle_id    0\n",
       "make          0\n",
       "model         0\n",
       "year          0\n",
       "capacity      0\n",
       "dtype: int64"
      ]
     },
     "execution_count": 16,
     "metadata": {},
     "output_type": "execute_result"
    }
   ],
   "source": [
    "vehicles.isnull().sum()"
   ]
  },
  {
   "cell_type": "markdown",
   "id": "646ffaab-abb3-4ae3-8e2c-820a4ee6c3c4",
   "metadata": {},
   "source": [
    "If there was missing values (example): <br/>\n",
    "df1 = df.dropna(subset=['CREDIT_LIMIT’]) <br/>\n",
    "df2['MINIMUM_PAYMENTS’] = df['MINIMUM_PAYMENTS'].fillna(0)"
   ]
  },
  {
   "cell_type": "markdown",
   "id": "c7838006-5db6-41bc-aa7a-807c0e03f98f",
   "metadata": {
    "jp-MarkdownHeadingCollapsed": true
   },
   "source": [
    "### Handling duplicates"
   ]
  },
  {
   "cell_type": "code",
   "execution_count": 19,
   "id": "ee669bf9-4be5-4162-b976-ff8da9de4887",
   "metadata": {},
   "outputs": [
    {
     "data": {
      "text/plain": [
       "0"
      ]
     },
     "execution_count": 19,
     "metadata": {},
     "output_type": "execute_result"
    }
   ],
   "source": [
    "drivers.duplicated().sum()"
   ]
  },
  {
   "cell_type": "code",
   "execution_count": 20,
   "id": "847dd059-041f-44bf-8bd4-2beab673c7f3",
   "metadata": {},
   "outputs": [],
   "source": [
    "drivers['driver_id'].drop_duplicates(inplace = True)"
   ]
  },
  {
   "cell_type": "markdown",
   "id": "3598e227-8f6d-4795-8b2c-e26ee305d9a4",
   "metadata": {},
   "source": [
    "**Efficient way**"
   ]
  },
  {
   "cell_type": "code",
   "execution_count": 22,
   "id": "5aae70a9-e0fb-40ba-9885-e1382c7675f8",
   "metadata": {},
   "outputs": [],
   "source": [
    "dfs = [drivers, ratings, rides, users, vehicles]"
   ]
  },
  {
   "cell_type": "code",
   "execution_count": 23,
   "id": "c4218664-1774-4356-ac9d-680e2eb0ee2e",
   "metadata": {},
   "outputs": [
    {
     "data": {
      "text/plain": [
       "[0, 0, 0, 0, 0]"
      ]
     },
     "execution_count": 23,
     "metadata": {},
     "output_type": "execute_result"
    }
   ],
   "source": [
    "duplicate_counts = [df.duplicated().sum() for df in dfs]\n",
    "duplicate_counts"
   ]
  },
  {
   "cell_type": "code",
   "execution_count": 24,
   "id": "dc50bcce-bf70-4f1f-9c76-edcaa4b0c4ff",
   "metadata": {},
   "outputs": [
    {
     "data": {
      "text/plain": [
       "[0, 0, 0, 0, 0]"
      ]
     },
     "execution_count": 24,
     "metadata": {},
     "output_type": "execute_result"
    }
   ],
   "source": [
    "duplicate_counts = list(map(lambda df: df.duplicated().sum(), dfs))\n",
    "duplicate_counts"
   ]
  },
  {
   "cell_type": "markdown",
   "id": "7747b4bb-dfd5-4548-9859-84808f6f3563",
   "metadata": {},
   "source": [
    "`lambda x: fn` <br/>\n",
    "`map(fn, iterable)` | applies fn to each element in iterable (list or tuple) <br/>\n",
    "`list(...)` converts the result from map() into a list."
   ]
  },
  {
   "cell_type": "markdown",
   "id": "eb21d967-2b3d-441b-b48d-13459fb9acb8",
   "metadata": {},
   "source": [
    "To drop duplicates use `df.drop_duplicates()` or `df['col'].drop_duplicates()`"
   ]
  },
  {
   "cell_type": "markdown",
   "id": "0c77b854-9185-429a-9040-25822ffc37e7",
   "metadata": {},
   "source": [
    "### Data Transformation | Categorization"
   ]
  },
  {
   "cell_type": "code",
   "execution_count": 28,
   "id": "344e4372-903f-4b7b-a259-b8a2051d1e71",
   "metadata": {},
   "outputs": [],
   "source": [
    "drivers.loc[drivers['rating'] >= 4, 'Status'] = \"Elite\""
   ]
  },
  {
   "cell_type": "code",
   "execution_count": 29,
   "id": "da9d1632-d0ea-45d4-b27b-809158b3f802",
   "metadata": {},
   "outputs": [
    {
     "data": {
      "text/html": [
       "<div>\n",
       "<style scoped>\n",
       "    .dataframe tbody tr th:only-of-type {\n",
       "        vertical-align: middle;\n",
       "    }\n",
       "\n",
       "    .dataframe tbody tr th {\n",
       "        vertical-align: top;\n",
       "    }\n",
       "\n",
       "    .dataframe thead th {\n",
       "        text-align: right;\n",
       "    }\n",
       "</style>\n",
       "<table border=\"1\" class=\"dataframe\">\n",
       "  <thead>\n",
       "    <tr style=\"text-align: right;\">\n",
       "      <th></th>\n",
       "      <th>driver_id</th>\n",
       "      <th>name</th>\n",
       "      <th>vehicle_id</th>\n",
       "      <th>rating</th>\n",
       "      <th>total_rides</th>\n",
       "      <th>available</th>\n",
       "      <th>Status</th>\n",
       "    </tr>\n",
       "  </thead>\n",
       "  <tbody>\n",
       "    <tr>\n",
       "      <th>0</th>\n",
       "      <td>1</td>\n",
       "      <td>Virginia Johnson</td>\n",
       "      <td>284</td>\n",
       "      <td>3.44</td>\n",
       "      <td>30</td>\n",
       "      <td>True</td>\n",
       "      <td>nan</td>\n",
       "    </tr>\n",
       "    <tr>\n",
       "      <th>1</th>\n",
       "      <td>2</td>\n",
       "      <td>Daniel Maddox</td>\n",
       "      <td>18</td>\n",
       "      <td>2.59</td>\n",
       "      <td>61</td>\n",
       "      <td>False</td>\n",
       "      <td>nan</td>\n",
       "    </tr>\n",
       "    <tr>\n",
       "      <th>2</th>\n",
       "      <td>3</td>\n",
       "      <td>Patricia Salazar</td>\n",
       "      <td>298</td>\n",
       "      <td>4.93</td>\n",
       "      <td>75</td>\n",
       "      <td>True</td>\n",
       "      <td>Elite</td>\n",
       "    </tr>\n",
       "    <tr>\n",
       "      <th>3</th>\n",
       "      <td>4</td>\n",
       "      <td>Cameron Hinton DDS</td>\n",
       "      <td>49</td>\n",
       "      <td>2.59</td>\n",
       "      <td>12</td>\n",
       "      <td>True</td>\n",
       "      <td>nan</td>\n",
       "    </tr>\n",
       "    <tr>\n",
       "      <th>4</th>\n",
       "      <td>5</td>\n",
       "      <td>Jennifer Ayala</td>\n",
       "      <td>138</td>\n",
       "      <td>4.69</td>\n",
       "      <td>71</td>\n",
       "      <td>True</td>\n",
       "      <td>Elite</td>\n",
       "    </tr>\n",
       "  </tbody>\n",
       "</table>\n",
       "</div>"
      ],
      "text/plain": [
       "   driver_id                name  vehicle_id  rating  total_rides  available  \\\n",
       "0          1    Virginia Johnson         284    3.44           30       True   \n",
       "1          2       Daniel Maddox          18    2.59           61      False   \n",
       "2          3    Patricia Salazar         298    4.93           75       True   \n",
       "3          4  Cameron Hinton DDS          49    2.59           12       True   \n",
       "4          5      Jennifer Ayala         138    4.69           71       True   \n",
       "\n",
       "  Status  \n",
       "0    nan  \n",
       "1    nan  \n",
       "2  Elite  \n",
       "3    nan  \n",
       "4  Elite  "
      ]
     },
     "execution_count": 29,
     "metadata": {},
     "output_type": "execute_result"
    }
   ],
   "source": [
    "drivers.head()"
   ]
  },
  {
   "cell_type": "code",
   "execution_count": 30,
   "id": "c816de2a-a814-46fe-9ffa-3e9504995848",
   "metadata": {},
   "outputs": [],
   "source": [
    "drivers.loc[drivers['rating'] <= 2, 'Status'] = \"Poor\""
   ]
  },
  {
   "cell_type": "code",
   "execution_count": 31,
   "id": "1df8c06b-1152-467e-90e2-95ea9ba53b84",
   "metadata": {},
   "outputs": [
    {
     "data": {
      "text/html": [
       "<div>\n",
       "<style scoped>\n",
       "    .dataframe tbody tr th:only-of-type {\n",
       "        vertical-align: middle;\n",
       "    }\n",
       "\n",
       "    .dataframe tbody tr th {\n",
       "        vertical-align: top;\n",
       "    }\n",
       "\n",
       "    .dataframe thead th {\n",
       "        text-align: right;\n",
       "    }\n",
       "</style>\n",
       "<table border=\"1\" class=\"dataframe\">\n",
       "  <thead>\n",
       "    <tr style=\"text-align: right;\">\n",
       "      <th></th>\n",
       "      <th>driver_id</th>\n",
       "      <th>name</th>\n",
       "      <th>vehicle_id</th>\n",
       "      <th>rating</th>\n",
       "      <th>total_rides</th>\n",
       "      <th>available</th>\n",
       "      <th>Status</th>\n",
       "    </tr>\n",
       "  </thead>\n",
       "  <tbody>\n",
       "    <tr>\n",
       "      <th>0</th>\n",
       "      <td>1</td>\n",
       "      <td>Virginia Johnson</td>\n",
       "      <td>284</td>\n",
       "      <td>3.44</td>\n",
       "      <td>30</td>\n",
       "      <td>True</td>\n",
       "      <td>nan</td>\n",
       "    </tr>\n",
       "    <tr>\n",
       "      <th>1</th>\n",
       "      <td>2</td>\n",
       "      <td>Daniel Maddox</td>\n",
       "      <td>18</td>\n",
       "      <td>2.59</td>\n",
       "      <td>61</td>\n",
       "      <td>False</td>\n",
       "      <td>nan</td>\n",
       "    </tr>\n",
       "    <tr>\n",
       "      <th>2</th>\n",
       "      <td>3</td>\n",
       "      <td>Patricia Salazar</td>\n",
       "      <td>298</td>\n",
       "      <td>4.93</td>\n",
       "      <td>75</td>\n",
       "      <td>True</td>\n",
       "      <td>Elite</td>\n",
       "    </tr>\n",
       "    <tr>\n",
       "      <th>3</th>\n",
       "      <td>4</td>\n",
       "      <td>Cameron Hinton DDS</td>\n",
       "      <td>49</td>\n",
       "      <td>2.59</td>\n",
       "      <td>12</td>\n",
       "      <td>True</td>\n",
       "      <td>nan</td>\n",
       "    </tr>\n",
       "    <tr>\n",
       "      <th>4</th>\n",
       "      <td>5</td>\n",
       "      <td>Jennifer Ayala</td>\n",
       "      <td>138</td>\n",
       "      <td>4.69</td>\n",
       "      <td>71</td>\n",
       "      <td>True</td>\n",
       "      <td>Elite</td>\n",
       "    </tr>\n",
       "    <tr>\n",
       "      <th>5</th>\n",
       "      <td>6</td>\n",
       "      <td>Sandra Torres</td>\n",
       "      <td>45</td>\n",
       "      <td>3.05</td>\n",
       "      <td>164</td>\n",
       "      <td>True</td>\n",
       "      <td>nan</td>\n",
       "    </tr>\n",
       "    <tr>\n",
       "      <th>6</th>\n",
       "      <td>7</td>\n",
       "      <td>Melissa Perry</td>\n",
       "      <td>288</td>\n",
       "      <td>3.43</td>\n",
       "      <td>23</td>\n",
       "      <td>False</td>\n",
       "      <td>nan</td>\n",
       "    </tr>\n",
       "    <tr>\n",
       "      <th>7</th>\n",
       "      <td>8</td>\n",
       "      <td>Kathleen Compton</td>\n",
       "      <td>16</td>\n",
       "      <td>1.69</td>\n",
       "      <td>127</td>\n",
       "      <td>False</td>\n",
       "      <td>Poor</td>\n",
       "    </tr>\n",
       "    <tr>\n",
       "      <th>8</th>\n",
       "      <td>9</td>\n",
       "      <td>Jake Brown</td>\n",
       "      <td>176</td>\n",
       "      <td>2.69</td>\n",
       "      <td>117</td>\n",
       "      <td>True</td>\n",
       "      <td>nan</td>\n",
       "    </tr>\n",
       "    <tr>\n",
       "      <th>9</th>\n",
       "      <td>10</td>\n",
       "      <td>Audrey Price</td>\n",
       "      <td>152</td>\n",
       "      <td>2.42</td>\n",
       "      <td>85</td>\n",
       "      <td>False</td>\n",
       "      <td>nan</td>\n",
       "    </tr>\n",
       "  </tbody>\n",
       "</table>\n",
       "</div>"
      ],
      "text/plain": [
       "   driver_id                name  vehicle_id  rating  total_rides  available  \\\n",
       "0          1    Virginia Johnson         284    3.44           30       True   \n",
       "1          2       Daniel Maddox          18    2.59           61      False   \n",
       "2          3    Patricia Salazar         298    4.93           75       True   \n",
       "3          4  Cameron Hinton DDS          49    2.59           12       True   \n",
       "4          5      Jennifer Ayala         138    4.69           71       True   \n",
       "5          6       Sandra Torres          45    3.05          164       True   \n",
       "6          7       Melissa Perry         288    3.43           23      False   \n",
       "7          8    Kathleen Compton          16    1.69          127      False   \n",
       "8          9          Jake Brown         176    2.69          117       True   \n",
       "9         10        Audrey Price         152    2.42           85      False   \n",
       "\n",
       "  Status  \n",
       "0    nan  \n",
       "1    nan  \n",
       "2  Elite  \n",
       "3    nan  \n",
       "4  Elite  \n",
       "5    nan  \n",
       "6    nan  \n",
       "7   Poor  \n",
       "8    nan  \n",
       "9    nan  "
      ]
     },
     "execution_count": 31,
     "metadata": {},
     "output_type": "execute_result"
    }
   ],
   "source": [
    "drivers.head(10)"
   ]
  },
  {
   "cell_type": "markdown",
   "id": "6673cfe8-b1aa-46dd-aae1-7aa28d2b2389",
   "metadata": {},
   "source": [
    "**handling missing data | `df['col'] = fillna(val, inplace = True)`**"
   ]
  },
  {
   "cell_type": "code",
   "execution_count": 33,
   "id": "5dfee219-c6f1-49c8-8566-cf36f577261b",
   "metadata": {},
   "outputs": [],
   "source": [
    "drivers['Status'].fillna(\"Average\", inplace = True)"
   ]
  },
  {
   "cell_type": "code",
   "execution_count": 34,
   "id": "17e323e6-d404-4e0b-aeb8-d167af558c77",
   "metadata": {},
   "outputs": [
    {
     "data": {
      "text/html": [
       "<div>\n",
       "<style scoped>\n",
       "    .dataframe tbody tr th:only-of-type {\n",
       "        vertical-align: middle;\n",
       "    }\n",
       "\n",
       "    .dataframe tbody tr th {\n",
       "        vertical-align: top;\n",
       "    }\n",
       "\n",
       "    .dataframe thead th {\n",
       "        text-align: right;\n",
       "    }\n",
       "</style>\n",
       "<table border=\"1\" class=\"dataframe\">\n",
       "  <thead>\n",
       "    <tr style=\"text-align: right;\">\n",
       "      <th></th>\n",
       "      <th>driver_id</th>\n",
       "      <th>name</th>\n",
       "      <th>vehicle_id</th>\n",
       "      <th>rating</th>\n",
       "      <th>total_rides</th>\n",
       "      <th>available</th>\n",
       "      <th>Status</th>\n",
       "    </tr>\n",
       "  </thead>\n",
       "  <tbody>\n",
       "    <tr>\n",
       "      <th>0</th>\n",
       "      <td>1</td>\n",
       "      <td>Virginia Johnson</td>\n",
       "      <td>284</td>\n",
       "      <td>3.44</td>\n",
       "      <td>30</td>\n",
       "      <td>True</td>\n",
       "      <td>nan</td>\n",
       "    </tr>\n",
       "    <tr>\n",
       "      <th>1</th>\n",
       "      <td>2</td>\n",
       "      <td>Daniel Maddox</td>\n",
       "      <td>18</td>\n",
       "      <td>2.59</td>\n",
       "      <td>61</td>\n",
       "      <td>False</td>\n",
       "      <td>nan</td>\n",
       "    </tr>\n",
       "    <tr>\n",
       "      <th>2</th>\n",
       "      <td>3</td>\n",
       "      <td>Patricia Salazar</td>\n",
       "      <td>298</td>\n",
       "      <td>4.93</td>\n",
       "      <td>75</td>\n",
       "      <td>True</td>\n",
       "      <td>Elite</td>\n",
       "    </tr>\n",
       "    <tr>\n",
       "      <th>3</th>\n",
       "      <td>4</td>\n",
       "      <td>Cameron Hinton DDS</td>\n",
       "      <td>49</td>\n",
       "      <td>2.59</td>\n",
       "      <td>12</td>\n",
       "      <td>True</td>\n",
       "      <td>nan</td>\n",
       "    </tr>\n",
       "    <tr>\n",
       "      <th>4</th>\n",
       "      <td>5</td>\n",
       "      <td>Jennifer Ayala</td>\n",
       "      <td>138</td>\n",
       "      <td>4.69</td>\n",
       "      <td>71</td>\n",
       "      <td>True</td>\n",
       "      <td>Elite</td>\n",
       "    </tr>\n",
       "  </tbody>\n",
       "</table>\n",
       "</div>"
      ],
      "text/plain": [
       "   driver_id                name  vehicle_id  rating  total_rides  available  \\\n",
       "0          1    Virginia Johnson         284    3.44           30       True   \n",
       "1          2       Daniel Maddox          18    2.59           61      False   \n",
       "2          3    Patricia Salazar         298    4.93           75       True   \n",
       "3          4  Cameron Hinton DDS          49    2.59           12       True   \n",
       "4          5      Jennifer Ayala         138    4.69           71       True   \n",
       "\n",
       "  Status  \n",
       "0    nan  \n",
       "1    nan  \n",
       "2  Elite  \n",
       "3    nan  \n",
       "4  Elite  "
      ]
     },
     "execution_count": 34,
     "metadata": {},
     "output_type": "execute_result"
    }
   ],
   "source": [
    "drivers.head()"
   ]
  },
  {
   "cell_type": "markdown",
   "id": "9d6ef5aa-26d0-4b21-99b2-848fe206ec3e",
   "metadata": {},
   "source": [
    "### Data Transformation | Calculations"
   ]
  },
  {
   "cell_type": "markdown",
   "id": "5f535af1-2397-4b1d-861b-ed5e90c56680",
   "metadata": {},
   "source": [
    "#### Calculating the time of rides"
   ]
  },
  {
   "cell_type": "code",
   "execution_count": 37,
   "id": "8b32eeb9-82c1-449c-baf6-60935007bc9e",
   "metadata": {},
   "outputs": [],
   "source": [
    "rides_time = rides.copy()"
   ]
  },
  {
   "cell_type": "code",
   "execution_count": 38,
   "id": "5ed925e0-0f2e-4f73-a7af-2d007601178a",
   "metadata": {},
   "outputs": [
    {
     "data": {
      "text/plain": [
       "pandas.core.frame.DataFrame"
      ]
     },
     "execution_count": 38,
     "metadata": {},
     "output_type": "execute_result"
    }
   ],
   "source": [
    "#rides_time['Time'] = rides['ride_end_time'] - rides['ride_start_time']\n",
    "type(rides_time)"
   ]
  },
  {
   "cell_type": "code",
   "execution_count": 39,
   "id": "36c04dfe-c985-4c06-8cac-341a20ff7b3e",
   "metadata": {},
   "outputs": [
    {
     "data": {
      "text/plain": [
       "ride_id              int64\n",
       "user_id              int64\n",
       "start_location      object\n",
       "end_location        object\n",
       "ride_start_time     object\n",
       "ride_end_time       object\n",
       "distance_km        float64\n",
       "fare_amount        float64\n",
       "driver_id            int64\n",
       "dtype: object"
      ]
     },
     "execution_count": 39,
     "metadata": {},
     "output_type": "execute_result"
    }
   ],
   "source": [
    "rides_time.dtypes"
   ]
  },
  {
   "cell_type": "markdown",
   "id": "20668f43-634a-4771-aa18-aaaba9a6a3c3",
   "metadata": {},
   "source": [
    "**Convert multiple columns to date time type**"
   ]
  },
  {
   "cell_type": "code",
   "execution_count": 41,
   "id": "6bb47355-ed4c-4397-8404-a1caeddd24f2",
   "metadata": {},
   "outputs": [],
   "source": [
    "rides_time[['ride_end_time','ride_start_time']] = rides_time[['ride_end_time','ride_start_time']].apply(pd.to_datetime)"
   ]
  },
  {
   "cell_type": "code",
   "execution_count": 42,
   "id": "40e0d976-74dd-45ca-a2c1-18036db420f0",
   "metadata": {},
   "outputs": [
    {
     "data": {
      "text/plain": [
       "ride_id                     int64\n",
       "user_id                     int64\n",
       "start_location             object\n",
       "end_location               object\n",
       "ride_start_time    datetime64[ns]\n",
       "ride_end_time      datetime64[ns]\n",
       "distance_km               float64\n",
       "fare_amount               float64\n",
       "driver_id                   int64\n",
       "dtype: object"
      ]
     },
     "execution_count": 42,
     "metadata": {},
     "output_type": "execute_result"
    }
   ],
   "source": [
    "rides_time.dtypes"
   ]
  },
  {
   "cell_type": "code",
   "execution_count": 43,
   "id": "1063ca1e-7026-45e9-ad2b-b63c4a43756d",
   "metadata": {},
   "outputs": [],
   "source": [
    "rides_time['Time'] = rides_time['ride_end_time'] - rides_time['ride_start_time']"
   ]
  },
  {
   "cell_type": "code",
   "execution_count": 44,
   "id": "184d1ecd-ab15-4dd3-94af-f87e9b09f34f",
   "metadata": {},
   "outputs": [
    {
     "data": {
      "text/html": [
       "<div>\n",
       "<style scoped>\n",
       "    .dataframe tbody tr th:only-of-type {\n",
       "        vertical-align: middle;\n",
       "    }\n",
       "\n",
       "    .dataframe tbody tr th {\n",
       "        vertical-align: top;\n",
       "    }\n",
       "\n",
       "    .dataframe thead th {\n",
       "        text-align: right;\n",
       "    }\n",
       "</style>\n",
       "<table border=\"1\" class=\"dataframe\">\n",
       "  <thead>\n",
       "    <tr style=\"text-align: right;\">\n",
       "      <th></th>\n",
       "      <th>ride_id</th>\n",
       "      <th>user_id</th>\n",
       "      <th>start_location</th>\n",
       "      <th>end_location</th>\n",
       "      <th>ride_start_time</th>\n",
       "      <th>ride_end_time</th>\n",
       "      <th>distance_km</th>\n",
       "      <th>fare_amount</th>\n",
       "      <th>driver_id</th>\n",
       "      <th>Time</th>\n",
       "    </tr>\n",
       "  </thead>\n",
       "  <tbody>\n",
       "    <tr>\n",
       "      <th>0</th>\n",
       "      <td>1</td>\n",
       "      <td>4067</td>\n",
       "      <td>Larryborough</td>\n",
       "      <td>Norrisborough</td>\n",
       "      <td>2024-04-30 10:31:56</td>\n",
       "      <td>2024-04-30 11:05:56</td>\n",
       "      <td>2.03</td>\n",
       "      <td>3.33</td>\n",
       "      <td>145</td>\n",
       "      <td>0 days 00:34:00</td>\n",
       "    </tr>\n",
       "    <tr>\n",
       "      <th>1</th>\n",
       "      <td>2</td>\n",
       "      <td>9160</td>\n",
       "      <td>Williamston</td>\n",
       "      <td>Robertburgh</td>\n",
       "      <td>2024-09-11 12:07:26</td>\n",
       "      <td>2024-09-11 13:34:26</td>\n",
       "      <td>13.66</td>\n",
       "      <td>30.03</td>\n",
       "      <td>244</td>\n",
       "      <td>0 days 01:27:00</td>\n",
       "    </tr>\n",
       "    <tr>\n",
       "      <th>2</th>\n",
       "      <td>3</td>\n",
       "      <td>1990</td>\n",
       "      <td>Howeshire</td>\n",
       "      <td>Christopherland</td>\n",
       "      <td>2024-04-30 10:21:25</td>\n",
       "      <td>2024-04-30 10:40:25</td>\n",
       "      <td>5.50</td>\n",
       "      <td>15.67</td>\n",
       "      <td>234</td>\n",
       "      <td>0 days 00:19:00</td>\n",
       "    </tr>\n",
       "    <tr>\n",
       "      <th>3</th>\n",
       "      <td>4</td>\n",
       "      <td>1268</td>\n",
       "      <td>North Annton</td>\n",
       "      <td>East Heather</td>\n",
       "      <td>2024-04-12 04:06:58</td>\n",
       "      <td>2024-04-12 05:07:58</td>\n",
       "      <td>31.74</td>\n",
       "      <td>53.90</td>\n",
       "      <td>145</td>\n",
       "      <td>0 days 01:01:00</td>\n",
       "    </tr>\n",
       "    <tr>\n",
       "      <th>4</th>\n",
       "      <td>5</td>\n",
       "      <td>7296</td>\n",
       "      <td>South Joseph</td>\n",
       "      <td>Lake Samuelberg</td>\n",
       "      <td>2024-04-26 16:45:45</td>\n",
       "      <td>2024-04-26 18:31:45</td>\n",
       "      <td>13.54</td>\n",
       "      <td>38.40</td>\n",
       "      <td>39</td>\n",
       "      <td>0 days 01:46:00</td>\n",
       "    </tr>\n",
       "  </tbody>\n",
       "</table>\n",
       "</div>"
      ],
      "text/plain": [
       "   ride_id  user_id start_location     end_location     ride_start_time  \\\n",
       "0        1     4067   Larryborough    Norrisborough 2024-04-30 10:31:56   \n",
       "1        2     9160    Williamston      Robertburgh 2024-09-11 12:07:26   \n",
       "2        3     1990      Howeshire  Christopherland 2024-04-30 10:21:25   \n",
       "3        4     1268   North Annton     East Heather 2024-04-12 04:06:58   \n",
       "4        5     7296   South Joseph  Lake Samuelberg 2024-04-26 16:45:45   \n",
       "\n",
       "        ride_end_time  distance_km  fare_amount  driver_id            Time  \n",
       "0 2024-04-30 11:05:56         2.03         3.33        145 0 days 00:34:00  \n",
       "1 2024-09-11 13:34:26        13.66        30.03        244 0 days 01:27:00  \n",
       "2 2024-04-30 10:40:25         5.50        15.67        234 0 days 00:19:00  \n",
       "3 2024-04-12 05:07:58        31.74        53.90        145 0 days 01:01:00  \n",
       "4 2024-04-26 18:31:45        13.54        38.40         39 0 days 01:46:00  "
      ]
     },
     "execution_count": 44,
     "metadata": {},
     "output_type": "execute_result"
    }
   ],
   "source": [
    "rides_time.head()"
   ]
  },
  {
   "cell_type": "code",
   "execution_count": 45,
   "id": "7b1d3ef3-3013-405d-81a9-74cc272efca9",
   "metadata": {},
   "outputs": [],
   "source": [
    "# rides_time['Time'].sort_values(ascending = False) # checking"
   ]
  },
  {
   "cell_type": "markdown",
   "id": "eb49b3fd-dbec-4ebd-91cb-e4740f5adb12",
   "metadata": {},
   "source": [
    "#### Analyze each driver"
   ]
  },
  {
   "cell_type": "code",
   "execution_count": 47,
   "id": "1323716a-6473-465b-bf1a-865d6d22fad6",
   "metadata": {},
   "outputs": [
    {
     "data": {
      "text/plain": [
       "driver_id\n",
       "1   8 days 05:23:00\n",
       "2   8 days 01:43:00\n",
       "3   7 days 20:05:00\n",
       "4   7 days 03:24:00\n",
       "5   7 days 05:34:00\n",
       "Name: Time, dtype: timedelta64[ns]"
      ]
     },
     "execution_count": 47,
     "metadata": {},
     "output_type": "execute_result"
    }
   ],
   "source": [
    "rides_time.groupby('driver_id')['Time'].sum().head()"
   ]
  },
  {
   "cell_type": "code",
   "execution_count": 48,
   "id": "23b9c58f-6804-4772-ab02-c414e1a552d4",
   "metadata": {},
   "outputs": [
    {
     "data": {
      "text/html": [
       "<div>\n",
       "<style scoped>\n",
       "    .dataframe tbody tr th:only-of-type {\n",
       "        vertical-align: middle;\n",
       "    }\n",
       "\n",
       "    .dataframe tbody tr th {\n",
       "        vertical-align: top;\n",
       "    }\n",
       "\n",
       "    .dataframe thead th {\n",
       "        text-align: right;\n",
       "    }\n",
       "</style>\n",
       "<table border=\"1\" class=\"dataframe\">\n",
       "  <thead>\n",
       "    <tr style=\"text-align: right;\">\n",
       "      <th></th>\n",
       "      <th>driver_id</th>\n",
       "      <th>Time</th>\n",
       "    </tr>\n",
       "  </thead>\n",
       "  <tbody>\n",
       "    <tr>\n",
       "      <th>0</th>\n",
       "      <td>1</td>\n",
       "      <td>8 days 05:23:00</td>\n",
       "    </tr>\n",
       "    <tr>\n",
       "      <th>1</th>\n",
       "      <td>2</td>\n",
       "      <td>8 days 01:43:00</td>\n",
       "    </tr>\n",
       "    <tr>\n",
       "      <th>2</th>\n",
       "      <td>3</td>\n",
       "      <td>7 days 20:05:00</td>\n",
       "    </tr>\n",
       "    <tr>\n",
       "      <th>3</th>\n",
       "      <td>4</td>\n",
       "      <td>7 days 03:24:00</td>\n",
       "    </tr>\n",
       "    <tr>\n",
       "      <th>4</th>\n",
       "      <td>5</td>\n",
       "      <td>7 days 05:34:00</td>\n",
       "    </tr>\n",
       "  </tbody>\n",
       "</table>\n",
       "</div>"
      ],
      "text/plain": [
       "   driver_id            Time\n",
       "0          1 8 days 05:23:00\n",
       "1          2 8 days 01:43:00\n",
       "2          3 7 days 20:05:00\n",
       "3          4 7 days 03:24:00\n",
       "4          5 7 days 05:34:00"
      ]
     },
     "execution_count": 48,
     "metadata": {},
     "output_type": "execute_result"
    }
   ],
   "source": [
    "rides_time.groupby('driver_id')['Time'].sum().reset_index().head()"
   ]
  },
  {
   "cell_type": "code",
   "execution_count": 49,
   "id": "7d8ef0d3-89ef-4d82-ba66-26502690c17f",
   "metadata": {},
   "outputs": [
    {
     "data": {
      "text/html": [
       "<div>\n",
       "<style scoped>\n",
       "    .dataframe tbody tr th:only-of-type {\n",
       "        vertical-align: middle;\n",
       "    }\n",
       "\n",
       "    .dataframe tbody tr th {\n",
       "        vertical-align: top;\n",
       "    }\n",
       "\n",
       "    .dataframe thead th {\n",
       "        text-align: right;\n",
       "    }\n",
       "</style>\n",
       "<table border=\"1\" class=\"dataframe\">\n",
       "  <thead>\n",
       "    <tr style=\"text-align: right;\">\n",
       "      <th></th>\n",
       "      <th>driver_id</th>\n",
       "      <th>fare_amount</th>\n",
       "    </tr>\n",
       "  </thead>\n",
       "  <tbody>\n",
       "    <tr>\n",
       "      <th>164</th>\n",
       "      <td>165</td>\n",
       "      <td>65.989940</td>\n",
       "    </tr>\n",
       "    <tr>\n",
       "      <th>54</th>\n",
       "      <td>55</td>\n",
       "      <td>65.453357</td>\n",
       "    </tr>\n",
       "    <tr>\n",
       "      <th>32</th>\n",
       "      <td>33</td>\n",
       "      <td>63.633315</td>\n",
       "    </tr>\n",
       "    <tr>\n",
       "      <th>36</th>\n",
       "      <td>37</td>\n",
       "      <td>63.553099</td>\n",
       "    </tr>\n",
       "    <tr>\n",
       "      <th>291</th>\n",
       "      <td>292</td>\n",
       "      <td>63.353756</td>\n",
       "    </tr>\n",
       "  </tbody>\n",
       "</table>\n",
       "</div>"
      ],
      "text/plain": [
       "     driver_id  fare_amount\n",
       "164        165    65.989940\n",
       "54          55    65.453357\n",
       "32          33    63.633315\n",
       "36          37    63.553099\n",
       "291        292    63.353756"
      ]
     },
     "execution_count": 49,
     "metadata": {},
     "output_type": "execute_result"
    }
   ],
   "source": [
    "rides_time.groupby('driver_id')['fare_amount'].mean().reset_index().sort_values(by = 'fare_amount', ascending = False).head()"
   ]
  },
  {
   "cell_type": "code",
   "execution_count": 50,
   "id": "1d63d6f4-3b77-45f7-8094-baf257aa0cc6",
   "metadata": {},
   "outputs": [
    {
     "data": {
      "text/html": [
       "<div>\n",
       "<style scoped>\n",
       "    .dataframe tbody tr th:only-of-type {\n",
       "        vertical-align: middle;\n",
       "    }\n",
       "\n",
       "    .dataframe tbody tr th {\n",
       "        vertical-align: top;\n",
       "    }\n",
       "\n",
       "    .dataframe thead th {\n",
       "        text-align: right;\n",
       "    }\n",
       "</style>\n",
       "<table border=\"1\" class=\"dataframe\">\n",
       "  <thead>\n",
       "    <tr style=\"text-align: right;\">\n",
       "      <th></th>\n",
       "      <th>mean</th>\n",
       "      <th>sum</th>\n",
       "    </tr>\n",
       "    <tr>\n",
       "      <th>driver_id</th>\n",
       "      <th></th>\n",
       "      <th></th>\n",
       "    </tr>\n",
       "  </thead>\n",
       "  <tbody>\n",
       "    <tr>\n",
       "      <th>165</th>\n",
       "      <td>65.989940</td>\n",
       "      <td>11020.32</td>\n",
       "    </tr>\n",
       "    <tr>\n",
       "      <th>55</th>\n",
       "      <td>65.453357</td>\n",
       "      <td>9359.83</td>\n",
       "    </tr>\n",
       "    <tr>\n",
       "      <th>33</th>\n",
       "      <td>63.633315</td>\n",
       "      <td>11708.53</td>\n",
       "    </tr>\n",
       "    <tr>\n",
       "      <th>37</th>\n",
       "      <td>63.553099</td>\n",
       "      <td>9024.54</td>\n",
       "    </tr>\n",
       "    <tr>\n",
       "      <th>292</th>\n",
       "      <td>63.353756</td>\n",
       "      <td>12480.69</td>\n",
       "    </tr>\n",
       "  </tbody>\n",
       "</table>\n",
       "</div>"
      ],
      "text/plain": [
       "                mean       sum\n",
       "driver_id                     \n",
       "165        65.989940  11020.32\n",
       "55         65.453357   9359.83\n",
       "33         63.633315  11708.53\n",
       "37         63.553099   9024.54\n",
       "292        63.353756  12480.69"
      ]
     },
     "execution_count": 50,
     "metadata": {},
     "output_type": "execute_result"
    }
   ],
   "source": [
    "rides_time.groupby('driver_id')['fare_amount'].agg(['mean', 'sum']).sort_values(by = 'mean', ascending = False).head()"
   ]
  },
  {
   "cell_type": "code",
   "execution_count": 51,
   "id": "a3958128-9ea6-48f6-b208-aad65a9d0da7",
   "metadata": {},
   "outputs": [
    {
     "data": {
      "text/html": [
       "<div>\n",
       "<style scoped>\n",
       "    .dataframe tbody tr th:only-of-type {\n",
       "        vertical-align: middle;\n",
       "    }\n",
       "\n",
       "    .dataframe tbody tr th {\n",
       "        vertical-align: top;\n",
       "    }\n",
       "\n",
       "    .dataframe thead th {\n",
       "        text-align: right;\n",
       "    }\n",
       "</style>\n",
       "<table border=\"1\" class=\"dataframe\">\n",
       "  <thead>\n",
       "    <tr style=\"text-align: right;\">\n",
       "      <th></th>\n",
       "      <th>mean</th>\n",
       "      <th>sum</th>\n",
       "    </tr>\n",
       "    <tr>\n",
       "      <th>driver_id</th>\n",
       "      <th></th>\n",
       "      <th></th>\n",
       "    </tr>\n",
       "  </thead>\n",
       "  <tbody>\n",
       "    <tr>\n",
       "      <th>292</th>\n",
       "      <td>63.353756</td>\n",
       "      <td>12480.69</td>\n",
       "    </tr>\n",
       "    <tr>\n",
       "      <th>33</th>\n",
       "      <td>63.633315</td>\n",
       "      <td>11708.53</td>\n",
       "    </tr>\n",
       "    <tr>\n",
       "      <th>85</th>\n",
       "      <td>61.225737</td>\n",
       "      <td>11632.89</td>\n",
       "    </tr>\n",
       "    <tr>\n",
       "      <th>95</th>\n",
       "      <td>60.812526</td>\n",
       "      <td>11554.38</td>\n",
       "    </tr>\n",
       "    <tr>\n",
       "      <th>238</th>\n",
       "      <td>61.111058</td>\n",
       "      <td>11549.99</td>\n",
       "    </tr>\n",
       "  </tbody>\n",
       "</table>\n",
       "</div>"
      ],
      "text/plain": [
       "                mean       sum\n",
       "driver_id                     \n",
       "292        63.353756  12480.69\n",
       "33         63.633315  11708.53\n",
       "85         61.225737  11632.89\n",
       "95         60.812526  11554.38\n",
       "238        61.111058  11549.99"
      ]
     },
     "execution_count": 51,
     "metadata": {},
     "output_type": "execute_result"
    }
   ],
   "source": [
    "rides_time.groupby('driver_id')['fare_amount'].agg(['mean', 'sum']).sort_values(by = 'sum', ascending = False).head()"
   ]
  },
  {
   "cell_type": "code",
   "execution_count": 52,
   "id": "7294f1bf-1e3d-47d5-8fd3-26de5037f26b",
   "metadata": {},
   "outputs": [],
   "source": [
    "rides_grouped = rides_time.groupby('driver_id').agg(\n",
    "    total_time = ('Time', 'sum'),\n",
    "    average_fare = ('fare_amount', 'mean')\n",
    ").reset_index()"
   ]
  },
  {
   "cell_type": "code",
   "execution_count": 53,
   "id": "c83c2e23-05e4-41d6-852c-96c9aebdecf2",
   "metadata": {},
   "outputs": [
    {
     "data": {
      "text/html": [
       "<div>\n",
       "<style scoped>\n",
       "    .dataframe tbody tr th:only-of-type {\n",
       "        vertical-align: middle;\n",
       "    }\n",
       "\n",
       "    .dataframe tbody tr th {\n",
       "        vertical-align: top;\n",
       "    }\n",
       "\n",
       "    .dataframe thead th {\n",
       "        text-align: right;\n",
       "    }\n",
       "</style>\n",
       "<table border=\"1\" class=\"dataframe\">\n",
       "  <thead>\n",
       "    <tr style=\"text-align: right;\">\n",
       "      <th></th>\n",
       "      <th>driver_id</th>\n",
       "      <th>total_time</th>\n",
       "      <th>average_fare</th>\n",
       "    </tr>\n",
       "  </thead>\n",
       "  <tbody>\n",
       "    <tr>\n",
       "      <th>148</th>\n",
       "      <td>149</td>\n",
       "      <td>8 days 20:48:00</td>\n",
       "      <td>56.087010</td>\n",
       "    </tr>\n",
       "    <tr>\n",
       "      <th>14</th>\n",
       "      <td>15</td>\n",
       "      <td>8 days 19:36:00</td>\n",
       "      <td>56.030876</td>\n",
       "    </tr>\n",
       "    <tr>\n",
       "      <th>291</th>\n",
       "      <td>292</td>\n",
       "      <td>8 days 19:12:00</td>\n",
       "      <td>63.353756</td>\n",
       "    </tr>\n",
       "    <tr>\n",
       "      <th>94</th>\n",
       "      <td>95</td>\n",
       "      <td>8 days 15:46:00</td>\n",
       "      <td>60.812526</td>\n",
       "    </tr>\n",
       "    <tr>\n",
       "      <th>170</th>\n",
       "      <td>171</td>\n",
       "      <td>8 days 14:58:00</td>\n",
       "      <td>56.554462</td>\n",
       "    </tr>\n",
       "  </tbody>\n",
       "</table>\n",
       "</div>"
      ],
      "text/plain": [
       "     driver_id      total_time  average_fare\n",
       "148        149 8 days 20:48:00     56.087010\n",
       "14          15 8 days 19:36:00     56.030876\n",
       "291        292 8 days 19:12:00     63.353756\n",
       "94          95 8 days 15:46:00     60.812526\n",
       "170        171 8 days 14:58:00     56.554462"
      ]
     },
     "execution_count": 53,
     "metadata": {},
     "output_type": "execute_result"
    }
   ],
   "source": [
    "rides_grouped.sort_values(by = 'total_time', ascending = False).head()"
   ]
  },
  {
   "cell_type": "markdown",
   "id": "eb7f991f-f25c-4109-9baa-3a63a8eb798e",
   "metadata": {},
   "source": [
    "### Categorization Efficient way | with `lambda` and `apply()`"
   ]
  },
  {
   "cell_type": "code",
   "execution_count": 55,
   "id": "96073393-4e58-45cd-88d2-6789a3cefcf0",
   "metadata": {},
   "outputs": [],
   "source": [
    "drivers = pd.read_csv(r\"drivers.csv\")"
   ]
  },
  {
   "cell_type": "code",
   "execution_count": 56,
   "id": "b1666baf-847d-47a6-a989-d76c4a5b2923",
   "metadata": {},
   "outputs": [
    {
     "data": {
      "text/html": [
       "<div>\n",
       "<style scoped>\n",
       "    .dataframe tbody tr th:only-of-type {\n",
       "        vertical-align: middle;\n",
       "    }\n",
       "\n",
       "    .dataframe tbody tr th {\n",
       "        vertical-align: top;\n",
       "    }\n",
       "\n",
       "    .dataframe thead th {\n",
       "        text-align: right;\n",
       "    }\n",
       "</style>\n",
       "<table border=\"1\" class=\"dataframe\">\n",
       "  <thead>\n",
       "    <tr style=\"text-align: right;\">\n",
       "      <th></th>\n",
       "      <th>driver_id</th>\n",
       "      <th>name</th>\n",
       "      <th>vehicle_id</th>\n",
       "      <th>rating</th>\n",
       "      <th>total_rides</th>\n",
       "      <th>available</th>\n",
       "    </tr>\n",
       "  </thead>\n",
       "  <tbody>\n",
       "    <tr>\n",
       "      <th>0</th>\n",
       "      <td>1</td>\n",
       "      <td>Virginia Johnson</td>\n",
       "      <td>284</td>\n",
       "      <td>3.44</td>\n",
       "      <td>30</td>\n",
       "      <td>True</td>\n",
       "    </tr>\n",
       "    <tr>\n",
       "      <th>1</th>\n",
       "      <td>2</td>\n",
       "      <td>Daniel Maddox</td>\n",
       "      <td>18</td>\n",
       "      <td>2.59</td>\n",
       "      <td>61</td>\n",
       "      <td>False</td>\n",
       "    </tr>\n",
       "    <tr>\n",
       "      <th>2</th>\n",
       "      <td>3</td>\n",
       "      <td>Patricia Salazar</td>\n",
       "      <td>298</td>\n",
       "      <td>4.93</td>\n",
       "      <td>75</td>\n",
       "      <td>True</td>\n",
       "    </tr>\n",
       "    <tr>\n",
       "      <th>3</th>\n",
       "      <td>4</td>\n",
       "      <td>Cameron Hinton DDS</td>\n",
       "      <td>49</td>\n",
       "      <td>2.59</td>\n",
       "      <td>12</td>\n",
       "      <td>True</td>\n",
       "    </tr>\n",
       "    <tr>\n",
       "      <th>4</th>\n",
       "      <td>5</td>\n",
       "      <td>Jennifer Ayala</td>\n",
       "      <td>138</td>\n",
       "      <td>4.69</td>\n",
       "      <td>71</td>\n",
       "      <td>True</td>\n",
       "    </tr>\n",
       "  </tbody>\n",
       "</table>\n",
       "</div>"
      ],
      "text/plain": [
       "   driver_id                name  vehicle_id  rating  total_rides  available\n",
       "0          1    Virginia Johnson         284    3.44           30       True\n",
       "1          2       Daniel Maddox          18    2.59           61      False\n",
       "2          3    Patricia Salazar         298    4.93           75       True\n",
       "3          4  Cameron Hinton DDS          49    2.59           12       True\n",
       "4          5      Jennifer Ayala         138    4.69           71       True"
      ]
     },
     "execution_count": 56,
     "metadata": {},
     "output_type": "execute_result"
    }
   ],
   "source": [
    "drivers.head()"
   ]
  },
  {
   "cell_type": "markdown",
   "id": "9633bd00-6bd2-41c6-a989-79ba395b5fe5",
   "metadata": {},
   "source": [
    "**fn = lambda**"
   ]
  },
  {
   "cell_type": "code",
   "execution_count": 58,
   "id": "a0ca06ba-f7de-42bc-966e-ca57d4da80cc",
   "metadata": {},
   "outputs": [],
   "source": [
    "cat_status = lambda x: \"Elite\" if x >= 4 else \"Poor\" if x<=2 else \"Average\""
   ]
  },
  {
   "cell_type": "markdown",
   "id": "0dca1def-cc8c-42c7-a098-c182541bc0da",
   "metadata": {},
   "source": [
    "**.apply(fn)**"
   ]
  },
  {
   "cell_type": "code",
   "execution_count": 60,
   "id": "88f67a3d-c2e2-49b6-ae9f-76985d20b6a7",
   "metadata": {},
   "outputs": [],
   "source": [
    "drivers['Status'] = drivers['rating'].apply(cat_status)"
   ]
  },
  {
   "cell_type": "code",
   "execution_count": 61,
   "id": "416b5824-8fd7-48f0-9028-21ab01fa8bb1",
   "metadata": {},
   "outputs": [
    {
     "data": {
      "text/html": [
       "<div>\n",
       "<style scoped>\n",
       "    .dataframe tbody tr th:only-of-type {\n",
       "        vertical-align: middle;\n",
       "    }\n",
       "\n",
       "    .dataframe tbody tr th {\n",
       "        vertical-align: top;\n",
       "    }\n",
       "\n",
       "    .dataframe thead th {\n",
       "        text-align: right;\n",
       "    }\n",
       "</style>\n",
       "<table border=\"1\" class=\"dataframe\">\n",
       "  <thead>\n",
       "    <tr style=\"text-align: right;\">\n",
       "      <th></th>\n",
       "      <th>driver_id</th>\n",
       "      <th>name</th>\n",
       "      <th>vehicle_id</th>\n",
       "      <th>rating</th>\n",
       "      <th>total_rides</th>\n",
       "      <th>available</th>\n",
       "      <th>Status</th>\n",
       "    </tr>\n",
       "  </thead>\n",
       "  <tbody>\n",
       "    <tr>\n",
       "      <th>0</th>\n",
       "      <td>1</td>\n",
       "      <td>Virginia Johnson</td>\n",
       "      <td>284</td>\n",
       "      <td>3.44</td>\n",
       "      <td>30</td>\n",
       "      <td>True</td>\n",
       "      <td>Average</td>\n",
       "    </tr>\n",
       "    <tr>\n",
       "      <th>1</th>\n",
       "      <td>2</td>\n",
       "      <td>Daniel Maddox</td>\n",
       "      <td>18</td>\n",
       "      <td>2.59</td>\n",
       "      <td>61</td>\n",
       "      <td>False</td>\n",
       "      <td>Average</td>\n",
       "    </tr>\n",
       "    <tr>\n",
       "      <th>2</th>\n",
       "      <td>3</td>\n",
       "      <td>Patricia Salazar</td>\n",
       "      <td>298</td>\n",
       "      <td>4.93</td>\n",
       "      <td>75</td>\n",
       "      <td>True</td>\n",
       "      <td>Elite</td>\n",
       "    </tr>\n",
       "    <tr>\n",
       "      <th>3</th>\n",
       "      <td>4</td>\n",
       "      <td>Cameron Hinton DDS</td>\n",
       "      <td>49</td>\n",
       "      <td>2.59</td>\n",
       "      <td>12</td>\n",
       "      <td>True</td>\n",
       "      <td>Average</td>\n",
       "    </tr>\n",
       "    <tr>\n",
       "      <th>4</th>\n",
       "      <td>5</td>\n",
       "      <td>Jennifer Ayala</td>\n",
       "      <td>138</td>\n",
       "      <td>4.69</td>\n",
       "      <td>71</td>\n",
       "      <td>True</td>\n",
       "      <td>Elite</td>\n",
       "    </tr>\n",
       "  </tbody>\n",
       "</table>\n",
       "</div>"
      ],
      "text/plain": [
       "   driver_id                name  vehicle_id  rating  total_rides  available  \\\n",
       "0          1    Virginia Johnson         284    3.44           30       True   \n",
       "1          2       Daniel Maddox          18    2.59           61      False   \n",
       "2          3    Patricia Salazar         298    4.93           75       True   \n",
       "3          4  Cameron Hinton DDS          49    2.59           12       True   \n",
       "4          5      Jennifer Ayala         138    4.69           71       True   \n",
       "\n",
       "    Status  \n",
       "0  Average  \n",
       "1  Average  \n",
       "2    Elite  \n",
       "3  Average  \n",
       "4    Elite  "
      ]
     },
     "execution_count": 61,
     "metadata": {},
     "output_type": "execute_result"
    }
   ],
   "source": [
    "drivers.head()"
   ]
  },
  {
   "cell_type": "markdown",
   "id": "291c1f9f-dd62-4b8c-bf1b-b010716cfc42",
   "metadata": {},
   "source": [
    "### Grouping"
   ]
  },
  {
   "cell_type": "code",
   "execution_count": 63,
   "id": "ac537734-7962-411b-bbc8-b3dd2fff0520",
   "metadata": {},
   "outputs": [
    {
     "data": {
      "text/plain": [
       "Status\n",
       "Average    139\n",
       "Elite       79\n",
       "Poor        82\n",
       "dtype: int64"
      ]
     },
     "execution_count": 63,
     "metadata": {},
     "output_type": "execute_result"
    }
   ],
   "source": [
    "drivers.groupby(['Status']).size()"
   ]
  },
  {
   "cell_type": "code",
   "execution_count": 64,
   "id": "cf553036-8660-4bb7-9cc2-17b648797346",
   "metadata": {},
   "outputs": [
    {
     "data": {
      "text/plain": [
       "Status   available\n",
       "Average  False        76\n",
       "         True         63\n",
       "Elite    False        37\n",
       "         True         42\n",
       "Poor     False        42\n",
       "         True         40\n",
       "dtype: int64"
      ]
     },
     "execution_count": 64,
     "metadata": {},
     "output_type": "execute_result"
    }
   ],
   "source": [
    "drivers.groupby(['Status','available']).size()"
   ]
  },
  {
   "cell_type": "code",
   "execution_count": 65,
   "id": "4bed65f2-b85b-411b-b78f-aff174e368c6",
   "metadata": {},
   "outputs": [
    {
     "data": {
      "text/plain": [
       "(50000, 9)"
      ]
     },
     "execution_count": 65,
     "metadata": {},
     "output_type": "execute_result"
    }
   ],
   "source": [
    "rides.shape"
   ]
  },
  {
   "cell_type": "code",
   "execution_count": 66,
   "id": "5bfdf650-4b71-4b3f-9207-181e4b502d66",
   "metadata": {},
   "outputs": [
    {
     "data": {
      "text/plain": [
       "driver_id\n",
       "90     201\n",
       "292    197\n",
       "171    195\n",
       "15     194\n",
       "197    194\n",
       "dtype: int64"
      ]
     },
     "execution_count": 66,
     "metadata": {},
     "output_type": "execute_result"
    }
   ],
   "source": [
    "rides.groupby('driver_id').size().sort_values(ascending = False).head()"
   ]
  },
  {
   "cell_type": "markdown",
   "id": "7dacf852-b668-416b-a1b5-ce647d3228a5",
   "metadata": {
    "jp-MarkdownHeadingCollapsed": true
   },
   "source": [
    "### Filtering based on condition"
   ]
  },
  {
   "cell_type": "markdown",
   "id": "f42888e3-98e8-4f09-ad71-f901b4782a8f",
   "metadata": {},
   "source": [
    "**Find how many Elite are available**"
   ]
  },
  {
   "cell_type": "code",
   "execution_count": 69,
   "id": "d447d01a-9159-4661-a711-b5c90c905d21",
   "metadata": {},
   "outputs": [
    {
     "data": {
      "text/html": [
       "<div>\n",
       "<style scoped>\n",
       "    .dataframe tbody tr th:only-of-type {\n",
       "        vertical-align: middle;\n",
       "    }\n",
       "\n",
       "    .dataframe tbody tr th {\n",
       "        vertical-align: top;\n",
       "    }\n",
       "\n",
       "    .dataframe thead th {\n",
       "        text-align: right;\n",
       "    }\n",
       "</style>\n",
       "<table border=\"1\" class=\"dataframe\">\n",
       "  <thead>\n",
       "    <tr style=\"text-align: right;\">\n",
       "      <th></th>\n",
       "      <th>driver_id</th>\n",
       "      <th>name</th>\n",
       "      <th>vehicle_id</th>\n",
       "      <th>rating</th>\n",
       "      <th>total_rides</th>\n",
       "      <th>available</th>\n",
       "      <th>Status</th>\n",
       "    </tr>\n",
       "  </thead>\n",
       "  <tbody>\n",
       "    <tr>\n",
       "      <th>2</th>\n",
       "      <td>3</td>\n",
       "      <td>Patricia Salazar</td>\n",
       "      <td>298</td>\n",
       "      <td>4.93</td>\n",
       "      <td>75</td>\n",
       "      <td>True</td>\n",
       "      <td>Elite</td>\n",
       "    </tr>\n",
       "    <tr>\n",
       "      <th>4</th>\n",
       "      <td>5</td>\n",
       "      <td>Jennifer Ayala</td>\n",
       "      <td>138</td>\n",
       "      <td>4.69</td>\n",
       "      <td>71</td>\n",
       "      <td>True</td>\n",
       "      <td>Elite</td>\n",
       "    </tr>\n",
       "    <tr>\n",
       "      <th>21</th>\n",
       "      <td>22</td>\n",
       "      <td>Amber Lozano</td>\n",
       "      <td>48</td>\n",
       "      <td>4.89</td>\n",
       "      <td>100</td>\n",
       "      <td>True</td>\n",
       "      <td>Elite</td>\n",
       "    </tr>\n",
       "    <tr>\n",
       "      <th>44</th>\n",
       "      <td>45</td>\n",
       "      <td>Patricia Smith</td>\n",
       "      <td>8</td>\n",
       "      <td>4.09</td>\n",
       "      <td>84</td>\n",
       "      <td>True</td>\n",
       "      <td>Elite</td>\n",
       "    </tr>\n",
       "    <tr>\n",
       "      <th>52</th>\n",
       "      <td>53</td>\n",
       "      <td>Patricia Richardson</td>\n",
       "      <td>89</td>\n",
       "      <td>4.08</td>\n",
       "      <td>83</td>\n",
       "      <td>True</td>\n",
       "      <td>Elite</td>\n",
       "    </tr>\n",
       "  </tbody>\n",
       "</table>\n",
       "</div>"
      ],
      "text/plain": [
       "    driver_id                 name  vehicle_id  rating  total_rides  \\\n",
       "2           3     Patricia Salazar         298    4.93           75   \n",
       "4           5       Jennifer Ayala         138    4.69           71   \n",
       "21         22         Amber Lozano          48    4.89          100   \n",
       "44         45       Patricia Smith           8    4.09           84   \n",
       "52         53  Patricia Richardson          89    4.08           83   \n",
       "\n",
       "    available Status  \n",
       "2        True  Elite  \n",
       "4        True  Elite  \n",
       "21       True  Elite  \n",
       "44       True  Elite  \n",
       "52       True  Elite  "
      ]
     },
     "execution_count": 69,
     "metadata": {},
     "output_type": "execute_result"
    }
   ],
   "source": [
    "elites_available = drivers.loc[(drivers['Status'] == \"Elite\") & (drivers['available'] == True)]\n",
    "elites_available.head()"
   ]
  },
  {
   "cell_type": "markdown",
   "id": "f4d2a6ca-44bd-41c5-81fe-b23518ae0255",
   "metadata": {},
   "source": [
    "### Sorting"
   ]
  },
  {
   "cell_type": "code",
   "execution_count": 71,
   "id": "e12535de-161d-41f3-8686-da2b23e70d41",
   "metadata": {},
   "outputs": [
    {
     "data": {
      "text/plain": [
       "90     193\n",
       "69     183\n",
       "220    179\n",
       "251    177\n",
       "289    173\n",
       "Name: total_rides, dtype: int64"
      ]
     },
     "execution_count": 71,
     "metadata": {},
     "output_type": "execute_result"
    }
   ],
   "source": [
    "elites_available['total_rides'].sort_values(ascending = False).head()"
   ]
  },
  {
   "cell_type": "code",
   "execution_count": 72,
   "id": "fa3b3dd2-c59d-471d-bb22-7e1ebd1fdc93",
   "metadata": {},
   "outputs": [
    {
     "data": {
      "text/html": [
       "<div>\n",
       "<style scoped>\n",
       "    .dataframe tbody tr th:only-of-type {\n",
       "        vertical-align: middle;\n",
       "    }\n",
       "\n",
       "    .dataframe tbody tr th {\n",
       "        vertical-align: top;\n",
       "    }\n",
       "\n",
       "    .dataframe thead th {\n",
       "        text-align: right;\n",
       "    }\n",
       "</style>\n",
       "<table border=\"1\" class=\"dataframe\">\n",
       "  <thead>\n",
       "    <tr style=\"text-align: right;\">\n",
       "      <th></th>\n",
       "      <th>driver_id</th>\n",
       "      <th>name</th>\n",
       "      <th>vehicle_id</th>\n",
       "      <th>rating</th>\n",
       "      <th>total_rides</th>\n",
       "      <th>available</th>\n",
       "      <th>Status</th>\n",
       "    </tr>\n",
       "  </thead>\n",
       "  <tbody>\n",
       "    <tr>\n",
       "      <th>247</th>\n",
       "      <td>248</td>\n",
       "      <td>Joel Bryant</td>\n",
       "      <td>20</td>\n",
       "      <td>5.00</td>\n",
       "      <td>56</td>\n",
       "      <td>True</td>\n",
       "      <td>Elite</td>\n",
       "    </tr>\n",
       "    <tr>\n",
       "      <th>158</th>\n",
       "      <td>159</td>\n",
       "      <td>Robert Schwartz</td>\n",
       "      <td>179</td>\n",
       "      <td>4.99</td>\n",
       "      <td>21</td>\n",
       "      <td>True</td>\n",
       "      <td>Elite</td>\n",
       "    </tr>\n",
       "    <tr>\n",
       "      <th>99</th>\n",
       "      <td>100</td>\n",
       "      <td>Michael Chan</td>\n",
       "      <td>157</td>\n",
       "      <td>4.98</td>\n",
       "      <td>35</td>\n",
       "      <td>True</td>\n",
       "      <td>Elite</td>\n",
       "    </tr>\n",
       "    <tr>\n",
       "      <th>2</th>\n",
       "      <td>3</td>\n",
       "      <td>Patricia Salazar</td>\n",
       "      <td>298</td>\n",
       "      <td>4.93</td>\n",
       "      <td>75</td>\n",
       "      <td>True</td>\n",
       "      <td>Elite</td>\n",
       "    </tr>\n",
       "    <tr>\n",
       "      <th>286</th>\n",
       "      <td>287</td>\n",
       "      <td>Joanna West</td>\n",
       "      <td>216</td>\n",
       "      <td>4.92</td>\n",
       "      <td>64</td>\n",
       "      <td>True</td>\n",
       "      <td>Elite</td>\n",
       "    </tr>\n",
       "  </tbody>\n",
       "</table>\n",
       "</div>"
      ],
      "text/plain": [
       "     driver_id              name  vehicle_id  rating  total_rides  available  \\\n",
       "247        248       Joel Bryant          20    5.00           56       True   \n",
       "158        159   Robert Schwartz         179    4.99           21       True   \n",
       "99         100      Michael Chan         157    4.98           35       True   \n",
       "2            3  Patricia Salazar         298    4.93           75       True   \n",
       "286        287       Joanna West         216    4.92           64       True   \n",
       "\n",
       "    Status  \n",
       "247  Elite  \n",
       "158  Elite  \n",
       "99   Elite  \n",
       "2    Elite  \n",
       "286  Elite  "
      ]
     },
     "execution_count": 72,
     "metadata": {},
     "output_type": "execute_result"
    }
   ],
   "source": [
    "# elites_available[['rating','total_rides']].sort_values(ascending = False).head()\n",
    "elites_available.sort_values(by = ['rating','total_rides'], ascending = False).head()"
   ]
  },
  {
   "cell_type": "code",
   "execution_count": 73,
   "id": "d706d4a5-4f7f-4fc0-ac37-6ac10ac08b56",
   "metadata": {},
   "outputs": [
    {
     "data": {
      "text/html": [
       "<div>\n",
       "<style scoped>\n",
       "    .dataframe tbody tr th:only-of-type {\n",
       "        vertical-align: middle;\n",
       "    }\n",
       "\n",
       "    .dataframe tbody tr th {\n",
       "        vertical-align: top;\n",
       "    }\n",
       "\n",
       "    .dataframe thead th {\n",
       "        text-align: right;\n",
       "    }\n",
       "</style>\n",
       "<table border=\"1\" class=\"dataframe\">\n",
       "  <thead>\n",
       "    <tr style=\"text-align: right;\">\n",
       "      <th></th>\n",
       "      <th>driver_id</th>\n",
       "      <th>name</th>\n",
       "      <th>vehicle_id</th>\n",
       "      <th>rating</th>\n",
       "      <th>total_rides</th>\n",
       "      <th>available</th>\n",
       "      <th>Status</th>\n",
       "    </tr>\n",
       "  </thead>\n",
       "  <tbody>\n",
       "    <tr>\n",
       "      <th>90</th>\n",
       "      <td>91</td>\n",
       "      <td>Vincent Ford</td>\n",
       "      <td>195</td>\n",
       "      <td>4.82</td>\n",
       "      <td>193</td>\n",
       "      <td>True</td>\n",
       "      <td>Elite</td>\n",
       "    </tr>\n",
       "    <tr>\n",
       "      <th>69</th>\n",
       "      <td>70</td>\n",
       "      <td>David Chavez</td>\n",
       "      <td>206</td>\n",
       "      <td>4.10</td>\n",
       "      <td>183</td>\n",
       "      <td>True</td>\n",
       "      <td>Elite</td>\n",
       "    </tr>\n",
       "    <tr>\n",
       "      <th>220</th>\n",
       "      <td>221</td>\n",
       "      <td>Kristina Morgan</td>\n",
       "      <td>49</td>\n",
       "      <td>4.28</td>\n",
       "      <td>179</td>\n",
       "      <td>True</td>\n",
       "      <td>Elite</td>\n",
       "    </tr>\n",
       "    <tr>\n",
       "      <th>251</th>\n",
       "      <td>252</td>\n",
       "      <td>Todd Brown</td>\n",
       "      <td>93</td>\n",
       "      <td>4.83</td>\n",
       "      <td>177</td>\n",
       "      <td>True</td>\n",
       "      <td>Elite</td>\n",
       "    </tr>\n",
       "    <tr>\n",
       "      <th>289</th>\n",
       "      <td>290</td>\n",
       "      <td>Angela Li</td>\n",
       "      <td>23</td>\n",
       "      <td>4.90</td>\n",
       "      <td>173</td>\n",
       "      <td>True</td>\n",
       "      <td>Elite</td>\n",
       "    </tr>\n",
       "  </tbody>\n",
       "</table>\n",
       "</div>"
      ],
      "text/plain": [
       "     driver_id             name  vehicle_id  rating  total_rides  available  \\\n",
       "90          91     Vincent Ford         195    4.82          193       True   \n",
       "69          70     David Chavez         206    4.10          183       True   \n",
       "220        221  Kristina Morgan          49    4.28          179       True   \n",
       "251        252       Todd Brown          93    4.83          177       True   \n",
       "289        290        Angela Li          23    4.90          173       True   \n",
       "\n",
       "    Status  \n",
       "90   Elite  \n",
       "69   Elite  \n",
       "220  Elite  \n",
       "251  Elite  \n",
       "289  Elite  "
      ]
     },
     "execution_count": 73,
     "metadata": {},
     "output_type": "execute_result"
    }
   ],
   "source": [
    "elites_available.sort_values(by = ['total_rides', 'rating'], ascending = False).head()"
   ]
  },
  {
   "cell_type": "markdown",
   "id": "35a0efed-8995-4b69-b637-a0d360ef7101",
   "metadata": {},
   "source": [
    "### Ranks"
   ]
  },
  {
   "cell_type": "code",
   "execution_count": 75,
   "id": "1cd1982b-2430-40a6-bda9-473130f50964",
   "metadata": {},
   "outputs": [
    {
     "data": {
      "text/plain": [
       "247     1.0\n",
       "158     2.0\n",
       "99      3.0\n",
       "2       4.0\n",
       "286     5.0\n",
       "289     6.0\n",
       "21      7.0\n",
       "195     8.0\n",
       "251     9.0\n",
       "90     10.0\n",
       "Name: rating, dtype: float64"
      ]
     },
     "execution_count": 75,
     "metadata": {},
     "output_type": "execute_result"
    }
   ],
   "source": [
    "elites_available['rating'].rank(method = 'dense', ascending = False).sort_values().head(10)"
   ]
  },
  {
   "cell_type": "markdown",
   "id": "a7322555-4170-4d81-b3bf-14ad50c9f9a3",
   "metadata": {},
   "source": [
    "dense No skip 1,1,2 <br/>\n",
    "min skips 1,1,3 <br/>\n",
    "first is row_number or sequential 1,2,3 "
   ]
  },
  {
   "cell_type": "markdown",
   "id": "2b4991ca-749e-4a58-9d75-5daad7161ac7",
   "metadata": {},
   "source": [
    "#### **ranks with over(order by 'col2') or over(parition by 'col' order by 'col2')**"
   ]
  },
  {
   "cell_type": "markdown",
   "id": "0955e4bc-c9b7-436a-81a0-00072cb2e567",
   "metadata": {},
   "source": [
    "**partition by = groupby**"
   ]
  },
  {
   "cell_type": "code",
   "execution_count": 79,
   "id": "d634f15b-d67c-45f5-982a-50f829988f37",
   "metadata": {},
   "outputs": [],
   "source": [
    "rides_grouped_ranked = rides_time.groupby('driver_id').agg(\n",
    "    total_time = ('Time', 'sum'),\n",
    "    average_fare = ('fare_amount', 'mean')\n",
    ").reset_index()"
   ]
  },
  {
   "cell_type": "code",
   "execution_count": 80,
   "id": "b2df887e-9c1a-44c8-ab43-606b32cdaa3b",
   "metadata": {},
   "outputs": [
    {
     "data": {
      "text/html": [
       "<div>\n",
       "<style scoped>\n",
       "    .dataframe tbody tr th:only-of-type {\n",
       "        vertical-align: middle;\n",
       "    }\n",
       "\n",
       "    .dataframe tbody tr th {\n",
       "        vertical-align: top;\n",
       "    }\n",
       "\n",
       "    .dataframe thead th {\n",
       "        text-align: right;\n",
       "    }\n",
       "</style>\n",
       "<table border=\"1\" class=\"dataframe\">\n",
       "  <thead>\n",
       "    <tr style=\"text-align: right;\">\n",
       "      <th></th>\n",
       "      <th>driver_id</th>\n",
       "      <th>total_time</th>\n",
       "      <th>average_fare</th>\n",
       "    </tr>\n",
       "  </thead>\n",
       "  <tbody>\n",
       "    <tr>\n",
       "      <th>0</th>\n",
       "      <td>1</td>\n",
       "      <td>8 days 05:23:00</td>\n",
       "      <td>56.536760</td>\n",
       "    </tr>\n",
       "    <tr>\n",
       "      <th>1</th>\n",
       "      <td>2</td>\n",
       "      <td>8 days 01:43:00</td>\n",
       "      <td>56.057062</td>\n",
       "    </tr>\n",
       "    <tr>\n",
       "      <th>2</th>\n",
       "      <td>3</td>\n",
       "      <td>7 days 20:05:00</td>\n",
       "      <td>55.732418</td>\n",
       "    </tr>\n",
       "    <tr>\n",
       "      <th>3</th>\n",
       "      <td>4</td>\n",
       "      <td>7 days 03:24:00</td>\n",
       "      <td>55.837561</td>\n",
       "    </tr>\n",
       "    <tr>\n",
       "      <th>4</th>\n",
       "      <td>5</td>\n",
       "      <td>7 days 05:34:00</td>\n",
       "      <td>56.990599</td>\n",
       "    </tr>\n",
       "  </tbody>\n",
       "</table>\n",
       "</div>"
      ],
      "text/plain": [
       "   driver_id      total_time  average_fare\n",
       "0          1 8 days 05:23:00     56.536760\n",
       "1          2 8 days 01:43:00     56.057062\n",
       "2          3 7 days 20:05:00     55.732418\n",
       "3          4 7 days 03:24:00     55.837561\n",
       "4          5 7 days 05:34:00     56.990599"
      ]
     },
     "execution_count": 80,
     "metadata": {},
     "output_type": "execute_result"
    }
   ],
   "source": [
    "rides_grouped.head()"
   ]
  },
  {
   "cell_type": "code",
   "execution_count": 81,
   "id": "bfa404d8-d62e-4c42-9f02-bc7ee6472526",
   "metadata": {},
   "outputs": [],
   "source": [
    "# rides_grouped['total_time'].rank(method = 'dense', ascending = False).reset_index(name = 'rank').sort_values(by = 'rank')"
   ]
  },
  {
   "cell_type": "markdown",
   "id": "2f344631-17c3-4573-8b12-62094901e682",
   "metadata": {},
   "source": [
    "**over(order by ) = .rank(ascending = False)**"
   ]
  },
  {
   "cell_type": "code",
   "execution_count": 83,
   "id": "c11b9010-b7b3-46d8-a725-9c71d35f60df",
   "metadata": {},
   "outputs": [],
   "source": [
    "rides_grouped['rank'] = rides_grouped['total_time'].rank(method = 'dense', ascending = False)"
   ]
  },
  {
   "cell_type": "code",
   "execution_count": 84,
   "id": "ea443b89-c25e-4f18-9449-13d66fe91788",
   "metadata": {},
   "outputs": [
    {
     "data": {
      "text/html": [
       "<div>\n",
       "<style scoped>\n",
       "    .dataframe tbody tr th:only-of-type {\n",
       "        vertical-align: middle;\n",
       "    }\n",
       "\n",
       "    .dataframe tbody tr th {\n",
       "        vertical-align: top;\n",
       "    }\n",
       "\n",
       "    .dataframe thead th {\n",
       "        text-align: right;\n",
       "    }\n",
       "</style>\n",
       "<table border=\"1\" class=\"dataframe\">\n",
       "  <thead>\n",
       "    <tr style=\"text-align: right;\">\n",
       "      <th></th>\n",
       "      <th>driver_id</th>\n",
       "      <th>total_time</th>\n",
       "      <th>average_fare</th>\n",
       "      <th>rank</th>\n",
       "    </tr>\n",
       "  </thead>\n",
       "  <tbody>\n",
       "    <tr>\n",
       "      <th>0</th>\n",
       "      <td>1</td>\n",
       "      <td>8 days 05:23:00</td>\n",
       "      <td>56.536760</td>\n",
       "      <td>23.0</td>\n",
       "    </tr>\n",
       "    <tr>\n",
       "      <th>1</th>\n",
       "      <td>2</td>\n",
       "      <td>8 days 01:43:00</td>\n",
       "      <td>56.057062</td>\n",
       "      <td>31.0</td>\n",
       "    </tr>\n",
       "    <tr>\n",
       "      <th>2</th>\n",
       "      <td>3</td>\n",
       "      <td>7 days 20:05:00</td>\n",
       "      <td>55.732418</td>\n",
       "      <td>52.0</td>\n",
       "    </tr>\n",
       "    <tr>\n",
       "      <th>3</th>\n",
       "      <td>4</td>\n",
       "      <td>7 days 03:24:00</td>\n",
       "      <td>55.837561</td>\n",
       "      <td>160.0</td>\n",
       "    </tr>\n",
       "    <tr>\n",
       "      <th>4</th>\n",
       "      <td>5</td>\n",
       "      <td>7 days 05:34:00</td>\n",
       "      <td>56.990599</td>\n",
       "      <td>143.0</td>\n",
       "    </tr>\n",
       "  </tbody>\n",
       "</table>\n",
       "</div>"
      ],
      "text/plain": [
       "   driver_id      total_time  average_fare   rank\n",
       "0          1 8 days 05:23:00     56.536760   23.0\n",
       "1          2 8 days 01:43:00     56.057062   31.0\n",
       "2          3 7 days 20:05:00     55.732418   52.0\n",
       "3          4 7 days 03:24:00     55.837561  160.0\n",
       "4          5 7 days 05:34:00     56.990599  143.0"
      ]
     },
     "execution_count": 84,
     "metadata": {},
     "output_type": "execute_result"
    }
   ],
   "source": [
    "rides_grouped.head()"
   ]
  },
  {
   "cell_type": "markdown",
   "id": "d449e298-07be-4570-8c40-b4a35bedd9ea",
   "metadata": {},
   "source": [
    "sort by rank:"
   ]
  },
  {
   "cell_type": "code",
   "execution_count": 86,
   "id": "bc76bbe4-0217-410f-91fc-c935277e189b",
   "metadata": {},
   "outputs": [
    {
     "data": {
      "text/html": [
       "<div>\n",
       "<style scoped>\n",
       "    .dataframe tbody tr th:only-of-type {\n",
       "        vertical-align: middle;\n",
       "    }\n",
       "\n",
       "    .dataframe tbody tr th {\n",
       "        vertical-align: top;\n",
       "    }\n",
       "\n",
       "    .dataframe thead th {\n",
       "        text-align: right;\n",
       "    }\n",
       "</style>\n",
       "<table border=\"1\" class=\"dataframe\">\n",
       "  <thead>\n",
       "    <tr style=\"text-align: right;\">\n",
       "      <th></th>\n",
       "      <th>driver_id</th>\n",
       "      <th>total_time</th>\n",
       "      <th>average_fare</th>\n",
       "      <th>rank</th>\n",
       "    </tr>\n",
       "  </thead>\n",
       "  <tbody>\n",
       "    <tr>\n",
       "      <th>148</th>\n",
       "      <td>149</td>\n",
       "      <td>8 days 20:48:00</td>\n",
       "      <td>56.087010</td>\n",
       "      <td>1.0</td>\n",
       "    </tr>\n",
       "    <tr>\n",
       "      <th>14</th>\n",
       "      <td>15</td>\n",
       "      <td>8 days 19:36:00</td>\n",
       "      <td>56.030876</td>\n",
       "      <td>2.0</td>\n",
       "    </tr>\n",
       "    <tr>\n",
       "      <th>291</th>\n",
       "      <td>292</td>\n",
       "      <td>8 days 19:12:00</td>\n",
       "      <td>63.353756</td>\n",
       "      <td>3.0</td>\n",
       "    </tr>\n",
       "    <tr>\n",
       "      <th>94</th>\n",
       "      <td>95</td>\n",
       "      <td>8 days 15:46:00</td>\n",
       "      <td>60.812526</td>\n",
       "      <td>4.0</td>\n",
       "    </tr>\n",
       "    <tr>\n",
       "      <th>170</th>\n",
       "      <td>171</td>\n",
       "      <td>8 days 14:58:00</td>\n",
       "      <td>56.554462</td>\n",
       "      <td>5.0</td>\n",
       "    </tr>\n",
       "    <tr>\n",
       "      <th>246</th>\n",
       "      <td>247</td>\n",
       "      <td>8 days 13:00:00</td>\n",
       "      <td>54.153867</td>\n",
       "      <td>6.0</td>\n",
       "    </tr>\n",
       "    <tr>\n",
       "      <th>81</th>\n",
       "      <td>82</td>\n",
       "      <td>8 days 12:01:00</td>\n",
       "      <td>59.700973</td>\n",
       "      <td>7.0</td>\n",
       "    </tr>\n",
       "    <tr>\n",
       "      <th>224</th>\n",
       "      <td>225</td>\n",
       "      <td>8 days 11:43:00</td>\n",
       "      <td>53.596223</td>\n",
       "      <td>8.0</td>\n",
       "    </tr>\n",
       "    <tr>\n",
       "      <th>282</th>\n",
       "      <td>283</td>\n",
       "      <td>8 days 11:33:00</td>\n",
       "      <td>58.090314</td>\n",
       "      <td>9.0</td>\n",
       "    </tr>\n",
       "    <tr>\n",
       "      <th>89</th>\n",
       "      <td>90</td>\n",
       "      <td>8 days 11:33:00</td>\n",
       "      <td>57.264428</td>\n",
       "      <td>9.0</td>\n",
       "    </tr>\n",
       "  </tbody>\n",
       "</table>\n",
       "</div>"
      ],
      "text/plain": [
       "     driver_id      total_time  average_fare  rank\n",
       "148        149 8 days 20:48:00     56.087010   1.0\n",
       "14          15 8 days 19:36:00     56.030876   2.0\n",
       "291        292 8 days 19:12:00     63.353756   3.0\n",
       "94          95 8 days 15:46:00     60.812526   4.0\n",
       "170        171 8 days 14:58:00     56.554462   5.0\n",
       "246        247 8 days 13:00:00     54.153867   6.0\n",
       "81          82 8 days 12:01:00     59.700973   7.0\n",
       "224        225 8 days 11:43:00     53.596223   8.0\n",
       "282        283 8 days 11:33:00     58.090314   9.0\n",
       "89          90 8 days 11:33:00     57.264428   9.0"
      ]
     },
     "execution_count": 86,
     "metadata": {},
     "output_type": "execute_result"
    }
   ],
   "source": [
    "rides_grouped.sort_values(by = 'rank').head(10)"
   ]
  },
  {
   "cell_type": "markdown",
   "id": "73a3ba09-dde6-4038-8d8b-099638378da7",
   "metadata": {},
   "source": [
    "**to view top 10**"
   ]
  },
  {
   "cell_type": "code",
   "execution_count": 88,
   "id": "6cd4d314-87b3-4c50-815b-d4c841476b9f",
   "metadata": {},
   "outputs": [
    {
     "data": {
      "text/html": [
       "<div>\n",
       "<style scoped>\n",
       "    .dataframe tbody tr th:only-of-type {\n",
       "        vertical-align: middle;\n",
       "    }\n",
       "\n",
       "    .dataframe tbody tr th {\n",
       "        vertical-align: top;\n",
       "    }\n",
       "\n",
       "    .dataframe thead th {\n",
       "        text-align: right;\n",
       "    }\n",
       "</style>\n",
       "<table border=\"1\" class=\"dataframe\">\n",
       "  <thead>\n",
       "    <tr style=\"text-align: right;\">\n",
       "      <th></th>\n",
       "      <th>driver_id</th>\n",
       "      <th>total_time</th>\n",
       "      <th>average_fare</th>\n",
       "      <th>rank</th>\n",
       "    </tr>\n",
       "  </thead>\n",
       "  <tbody>\n",
       "    <tr>\n",
       "      <th>148</th>\n",
       "      <td>149</td>\n",
       "      <td>8 days 20:48:00</td>\n",
       "      <td>56.087010</td>\n",
       "      <td>1.0</td>\n",
       "    </tr>\n",
       "    <tr>\n",
       "      <th>14</th>\n",
       "      <td>15</td>\n",
       "      <td>8 days 19:36:00</td>\n",
       "      <td>56.030876</td>\n",
       "      <td>2.0</td>\n",
       "    </tr>\n",
       "    <tr>\n",
       "      <th>291</th>\n",
       "      <td>292</td>\n",
       "      <td>8 days 19:12:00</td>\n",
       "      <td>63.353756</td>\n",
       "      <td>3.0</td>\n",
       "    </tr>\n",
       "    <tr>\n",
       "      <th>94</th>\n",
       "      <td>95</td>\n",
       "      <td>8 days 15:46:00</td>\n",
       "      <td>60.812526</td>\n",
       "      <td>4.0</td>\n",
       "    </tr>\n",
       "    <tr>\n",
       "      <th>170</th>\n",
       "      <td>171</td>\n",
       "      <td>8 days 14:58:00</td>\n",
       "      <td>56.554462</td>\n",
       "      <td>5.0</td>\n",
       "    </tr>\n",
       "    <tr>\n",
       "      <th>246</th>\n",
       "      <td>247</td>\n",
       "      <td>8 days 13:00:00</td>\n",
       "      <td>54.153867</td>\n",
       "      <td>6.0</td>\n",
       "    </tr>\n",
       "    <tr>\n",
       "      <th>81</th>\n",
       "      <td>82</td>\n",
       "      <td>8 days 12:01:00</td>\n",
       "      <td>59.700973</td>\n",
       "      <td>7.0</td>\n",
       "    </tr>\n",
       "    <tr>\n",
       "      <th>224</th>\n",
       "      <td>225</td>\n",
       "      <td>8 days 11:43:00</td>\n",
       "      <td>53.596223</td>\n",
       "      <td>8.0</td>\n",
       "    </tr>\n",
       "    <tr>\n",
       "      <th>89</th>\n",
       "      <td>90</td>\n",
       "      <td>8 days 11:33:00</td>\n",
       "      <td>57.264428</td>\n",
       "      <td>9.0</td>\n",
       "    </tr>\n",
       "    <tr>\n",
       "      <th>282</th>\n",
       "      <td>283</td>\n",
       "      <td>8 days 11:33:00</td>\n",
       "      <td>58.090314</td>\n",
       "      <td>9.0</td>\n",
       "    </tr>\n",
       "    <tr>\n",
       "      <th>276</th>\n",
       "      <td>277</td>\n",
       "      <td>8 days 11:29:00</td>\n",
       "      <td>55.972833</td>\n",
       "      <td>10.0</td>\n",
       "    </tr>\n",
       "  </tbody>\n",
       "</table>\n",
       "</div>"
      ],
      "text/plain": [
       "     driver_id      total_time  average_fare  rank\n",
       "148        149 8 days 20:48:00     56.087010   1.0\n",
       "14          15 8 days 19:36:00     56.030876   2.0\n",
       "291        292 8 days 19:12:00     63.353756   3.0\n",
       "94          95 8 days 15:46:00     60.812526   4.0\n",
       "170        171 8 days 14:58:00     56.554462   5.0\n",
       "246        247 8 days 13:00:00     54.153867   6.0\n",
       "81          82 8 days 12:01:00     59.700973   7.0\n",
       "224        225 8 days 11:43:00     53.596223   8.0\n",
       "89          90 8 days 11:33:00     57.264428   9.0\n",
       "282        283 8 days 11:33:00     58.090314   9.0\n",
       "276        277 8 days 11:29:00     55.972833  10.0"
      ]
     },
     "execution_count": 88,
     "metadata": {},
     "output_type": "execute_result"
    }
   ],
   "source": [
    "rides_grouped[rides_grouped['rank']<=10].sort_values(by ='rank')"
   ]
  },
  {
   "cell_type": "markdown",
   "id": "8aaa1aeb-736a-4f35-ab08-6375c53a0b73",
   "metadata": {},
   "source": [
    "### Joins"
   ]
  },
  {
   "cell_type": "code",
   "execution_count": 90,
   "id": "aab652be-ba13-4b36-9d84-f0f6b109dffd",
   "metadata": {},
   "outputs": [
    {
     "data": {
      "text/plain": [
       "(300, 7)"
      ]
     },
     "execution_count": 90,
     "metadata": {},
     "output_type": "execute_result"
    }
   ],
   "source": [
    "drivers.shape"
   ]
  },
  {
   "cell_type": "code",
   "execution_count": 91,
   "id": "758a9a9a-90ca-4537-b9d5-c9ebd043918a",
   "metadata": {},
   "outputs": [
    {
     "data": {
      "text/plain": [
       "(300, 5)"
      ]
     },
     "execution_count": 91,
     "metadata": {},
     "output_type": "execute_result"
    }
   ],
   "source": [
    "vehicles.shape"
   ]
  },
  {
   "cell_type": "markdown",
   "id": "dfb2c30f-2fe7-46b0-827e-b2930db182dc",
   "metadata": {},
   "source": [
    "#### 1. `merge()` (SQL-like Joins)"
   ]
  },
  {
   "cell_type": "code",
   "execution_count": 93,
   "id": "3ba0afa9-20fb-441c-a0ae-2a33821a761f",
   "metadata": {},
   "outputs": [],
   "source": [
    "drivers_vehicles = pd.merge(drivers, vehicles, how = \"left\", on = 'vehicle_id')"
   ]
  },
  {
   "cell_type": "code",
   "execution_count": 94,
   "id": "f6573673-a2c2-4dc0-9e5c-f961796b07e7",
   "metadata": {},
   "outputs": [
    {
     "data": {
      "text/html": [
       "<div>\n",
       "<style scoped>\n",
       "    .dataframe tbody tr th:only-of-type {\n",
       "        vertical-align: middle;\n",
       "    }\n",
       "\n",
       "    .dataframe tbody tr th {\n",
       "        vertical-align: top;\n",
       "    }\n",
       "\n",
       "    .dataframe thead th {\n",
       "        text-align: right;\n",
       "    }\n",
       "</style>\n",
       "<table border=\"1\" class=\"dataframe\">\n",
       "  <thead>\n",
       "    <tr style=\"text-align: right;\">\n",
       "      <th></th>\n",
       "      <th>driver_id</th>\n",
       "      <th>name</th>\n",
       "      <th>vehicle_id</th>\n",
       "      <th>rating</th>\n",
       "      <th>total_rides</th>\n",
       "      <th>available</th>\n",
       "      <th>Status</th>\n",
       "      <th>make</th>\n",
       "      <th>model</th>\n",
       "      <th>year</th>\n",
       "      <th>capacity</th>\n",
       "    </tr>\n",
       "  </thead>\n",
       "  <tbody>\n",
       "    <tr>\n",
       "      <th>0</th>\n",
       "      <td>1</td>\n",
       "      <td>Virginia Johnson</td>\n",
       "      <td>284</td>\n",
       "      <td>3.44</td>\n",
       "      <td>30</td>\n",
       "      <td>True</td>\n",
       "      <td>Average</td>\n",
       "      <td>Anderson, Miller and Fowler</td>\n",
       "      <td>road</td>\n",
       "      <td>2019</td>\n",
       "      <td>3</td>\n",
       "    </tr>\n",
       "    <tr>\n",
       "      <th>1</th>\n",
       "      <td>2</td>\n",
       "      <td>Daniel Maddox</td>\n",
       "      <td>18</td>\n",
       "      <td>2.59</td>\n",
       "      <td>61</td>\n",
       "      <td>False</td>\n",
       "      <td>Average</td>\n",
       "      <td>Jones, Rice and Hill</td>\n",
       "      <td>three</td>\n",
       "      <td>2003</td>\n",
       "      <td>3</td>\n",
       "    </tr>\n",
       "    <tr>\n",
       "      <th>2</th>\n",
       "      <td>3</td>\n",
       "      <td>Patricia Salazar</td>\n",
       "      <td>298</td>\n",
       "      <td>4.93</td>\n",
       "      <td>75</td>\n",
       "      <td>True</td>\n",
       "      <td>Elite</td>\n",
       "      <td>Hansen Ltd</td>\n",
       "      <td>brother</td>\n",
       "      <td>2014</td>\n",
       "      <td>4</td>\n",
       "    </tr>\n",
       "    <tr>\n",
       "      <th>3</th>\n",
       "      <td>4</td>\n",
       "      <td>Cameron Hinton DDS</td>\n",
       "      <td>49</td>\n",
       "      <td>2.59</td>\n",
       "      <td>12</td>\n",
       "      <td>True</td>\n",
       "      <td>Average</td>\n",
       "      <td>Brooks LLC</td>\n",
       "      <td>time</td>\n",
       "      <td>2003</td>\n",
       "      <td>4</td>\n",
       "    </tr>\n",
       "    <tr>\n",
       "      <th>4</th>\n",
       "      <td>5</td>\n",
       "      <td>Jennifer Ayala</td>\n",
       "      <td>138</td>\n",
       "      <td>4.69</td>\n",
       "      <td>71</td>\n",
       "      <td>True</td>\n",
       "      <td>Elite</td>\n",
       "      <td>Navarro, Lucas and Potts</td>\n",
       "      <td>cut</td>\n",
       "      <td>2009</td>\n",
       "      <td>2</td>\n",
       "    </tr>\n",
       "    <tr>\n",
       "      <th>5</th>\n",
       "      <td>6</td>\n",
       "      <td>Sandra Torres</td>\n",
       "      <td>45</td>\n",
       "      <td>3.05</td>\n",
       "      <td>164</td>\n",
       "      <td>True</td>\n",
       "      <td>Average</td>\n",
       "      <td>Martinez-Case</td>\n",
       "      <td>organization</td>\n",
       "      <td>2009</td>\n",
       "      <td>7</td>\n",
       "    </tr>\n",
       "    <tr>\n",
       "      <th>6</th>\n",
       "      <td>7</td>\n",
       "      <td>Melissa Perry</td>\n",
       "      <td>288</td>\n",
       "      <td>3.43</td>\n",
       "      <td>23</td>\n",
       "      <td>False</td>\n",
       "      <td>Average</td>\n",
       "      <td>Bowers-Stone</td>\n",
       "      <td>brother</td>\n",
       "      <td>2014</td>\n",
       "      <td>4</td>\n",
       "    </tr>\n",
       "    <tr>\n",
       "      <th>7</th>\n",
       "      <td>8</td>\n",
       "      <td>Kathleen Compton</td>\n",
       "      <td>16</td>\n",
       "      <td>1.69</td>\n",
       "      <td>127</td>\n",
       "      <td>False</td>\n",
       "      <td>Poor</td>\n",
       "      <td>Pennington-Sanchez</td>\n",
       "      <td>discover</td>\n",
       "      <td>2007</td>\n",
       "      <td>3</td>\n",
       "    </tr>\n",
       "    <tr>\n",
       "      <th>8</th>\n",
       "      <td>9</td>\n",
       "      <td>Jake Brown</td>\n",
       "      <td>176</td>\n",
       "      <td>2.69</td>\n",
       "      <td>117</td>\n",
       "      <td>True</td>\n",
       "      <td>Average</td>\n",
       "      <td>Baxter, Mathews and Pace</td>\n",
       "      <td>ball</td>\n",
       "      <td>2012</td>\n",
       "      <td>7</td>\n",
       "    </tr>\n",
       "    <tr>\n",
       "      <th>9</th>\n",
       "      <td>10</td>\n",
       "      <td>Audrey Price</td>\n",
       "      <td>152</td>\n",
       "      <td>2.42</td>\n",
       "      <td>85</td>\n",
       "      <td>False</td>\n",
       "      <td>Average</td>\n",
       "      <td>Patton-Cervantes</td>\n",
       "      <td>past</td>\n",
       "      <td>2019</td>\n",
       "      <td>4</td>\n",
       "    </tr>\n",
       "  </tbody>\n",
       "</table>\n",
       "</div>"
      ],
      "text/plain": [
       "   driver_id                name  vehicle_id  rating  total_rides  available  \\\n",
       "0          1    Virginia Johnson         284    3.44           30       True   \n",
       "1          2       Daniel Maddox          18    2.59           61      False   \n",
       "2          3    Patricia Salazar         298    4.93           75       True   \n",
       "3          4  Cameron Hinton DDS          49    2.59           12       True   \n",
       "4          5      Jennifer Ayala         138    4.69           71       True   \n",
       "5          6       Sandra Torres          45    3.05          164       True   \n",
       "6          7       Melissa Perry         288    3.43           23      False   \n",
       "7          8    Kathleen Compton          16    1.69          127      False   \n",
       "8          9          Jake Brown         176    2.69          117       True   \n",
       "9         10        Audrey Price         152    2.42           85      False   \n",
       "\n",
       "    Status                         make         model  year  capacity  \n",
       "0  Average  Anderson, Miller and Fowler          road  2019         3  \n",
       "1  Average         Jones, Rice and Hill         three  2003         3  \n",
       "2    Elite                   Hansen Ltd       brother  2014         4  \n",
       "3  Average                   Brooks LLC          time  2003         4  \n",
       "4    Elite     Navarro, Lucas and Potts           cut  2009         2  \n",
       "5  Average                Martinez-Case  organization  2009         7  \n",
       "6  Average                 Bowers-Stone       brother  2014         4  \n",
       "7     Poor           Pennington-Sanchez      discover  2007         3  \n",
       "8  Average     Baxter, Mathews and Pace          ball  2012         7  \n",
       "9  Average             Patton-Cervantes          past  2019         4  "
      ]
     },
     "execution_count": 94,
     "metadata": {},
     "output_type": "execute_result"
    }
   ],
   "source": [
    "drivers_vehicles.head(10)"
   ]
  },
  {
   "cell_type": "markdown",
   "id": "c8354ad2-d229-47c2-b46e-ee0492a17c00",
   "metadata": {},
   "source": [
    "#### 2. `concat()` (Stacking Datasets)"
   ]
  },
  {
   "cell_type": "code",
   "execution_count": 96,
   "id": "2f527b23-e8a4-4578-ad4e-d980d3063fa8",
   "metadata": {},
   "outputs": [
    {
     "data": {
      "text/html": [
       "<div>\n",
       "<style scoped>\n",
       "    .dataframe tbody tr th:only-of-type {\n",
       "        vertical-align: middle;\n",
       "    }\n",
       "\n",
       "    .dataframe tbody tr th {\n",
       "        vertical-align: top;\n",
       "    }\n",
       "\n",
       "    .dataframe thead th {\n",
       "        text-align: right;\n",
       "    }\n",
       "</style>\n",
       "<table border=\"1\" class=\"dataframe\">\n",
       "  <thead>\n",
       "    <tr style=\"text-align: right;\">\n",
       "      <th></th>\n",
       "      <th>driver_id</th>\n",
       "      <th>name</th>\n",
       "      <th>vehicle_id</th>\n",
       "      <th>rating</th>\n",
       "      <th>total_rides</th>\n",
       "      <th>available</th>\n",
       "      <th>Status</th>\n",
       "      <th>make</th>\n",
       "      <th>model</th>\n",
       "      <th>year</th>\n",
       "      <th>capacity</th>\n",
       "    </tr>\n",
       "  </thead>\n",
       "  <tbody>\n",
       "    <tr>\n",
       "      <th>295</th>\n",
       "      <td>NaN</td>\n",
       "      <td>NaN</td>\n",
       "      <td>296</td>\n",
       "      <td>NaN</td>\n",
       "      <td>NaN</td>\n",
       "      <td>NaN</td>\n",
       "      <td>NaN</td>\n",
       "      <td>Thomas, Martin and Williams</td>\n",
       "      <td>above</td>\n",
       "      <td>2015.0</td>\n",
       "      <td>7.0</td>\n",
       "    </tr>\n",
       "    <tr>\n",
       "      <th>296</th>\n",
       "      <td>NaN</td>\n",
       "      <td>NaN</td>\n",
       "      <td>297</td>\n",
       "      <td>NaN</td>\n",
       "      <td>NaN</td>\n",
       "      <td>NaN</td>\n",
       "      <td>NaN</td>\n",
       "      <td>Brennan Inc</td>\n",
       "      <td>traditional</td>\n",
       "      <td>2020.0</td>\n",
       "      <td>5.0</td>\n",
       "    </tr>\n",
       "    <tr>\n",
       "      <th>297</th>\n",
       "      <td>NaN</td>\n",
       "      <td>NaN</td>\n",
       "      <td>298</td>\n",
       "      <td>NaN</td>\n",
       "      <td>NaN</td>\n",
       "      <td>NaN</td>\n",
       "      <td>NaN</td>\n",
       "      <td>Hansen Ltd</td>\n",
       "      <td>brother</td>\n",
       "      <td>2014.0</td>\n",
       "      <td>4.0</td>\n",
       "    </tr>\n",
       "    <tr>\n",
       "      <th>298</th>\n",
       "      <td>NaN</td>\n",
       "      <td>NaN</td>\n",
       "      <td>299</td>\n",
       "      <td>NaN</td>\n",
       "      <td>NaN</td>\n",
       "      <td>NaN</td>\n",
       "      <td>NaN</td>\n",
       "      <td>Garcia-Marsh</td>\n",
       "      <td>drug</td>\n",
       "      <td>2003.0</td>\n",
       "      <td>7.0</td>\n",
       "    </tr>\n",
       "    <tr>\n",
       "      <th>299</th>\n",
       "      <td>NaN</td>\n",
       "      <td>NaN</td>\n",
       "      <td>300</td>\n",
       "      <td>NaN</td>\n",
       "      <td>NaN</td>\n",
       "      <td>NaN</td>\n",
       "      <td>NaN</td>\n",
       "      <td>Pena, Stone and Tapia</td>\n",
       "      <td>director</td>\n",
       "      <td>2008.0</td>\n",
       "      <td>4.0</td>\n",
       "    </tr>\n",
       "  </tbody>\n",
       "</table>\n",
       "</div>"
      ],
      "text/plain": [
       "     driver_id name  vehicle_id  rating  total_rides available Status  \\\n",
       "295        NaN  NaN         296     NaN          NaN       NaN    NaN   \n",
       "296        NaN  NaN         297     NaN          NaN       NaN    NaN   \n",
       "297        NaN  NaN         298     NaN          NaN       NaN    NaN   \n",
       "298        NaN  NaN         299     NaN          NaN       NaN    NaN   \n",
       "299        NaN  NaN         300     NaN          NaN       NaN    NaN   \n",
       "\n",
       "                            make        model    year  capacity  \n",
       "295  Thomas, Martin and Williams        above  2015.0       7.0  \n",
       "296                  Brennan Inc  traditional  2020.0       5.0  \n",
       "297                   Hansen Ltd      brother  2014.0       4.0  \n",
       "298                 Garcia-Marsh         drug  2003.0       7.0  \n",
       "299        Pena, Stone and Tapia     director  2008.0       4.0  "
      ]
     },
     "execution_count": 96,
     "metadata": {},
     "output_type": "execute_result"
    }
   ],
   "source": [
    "# Stack datasets vertically (like UNION in SQL)\n",
    "df_concat = pd.concat([drivers, vehicles], axis=0)  # axis=0 → Rows\n",
    "df_concat.tail()"
   ]
  },
  {
   "cell_type": "code",
   "execution_count": 97,
   "id": "7040541a-00a0-4860-9a94-3b75939b4cfc",
   "metadata": {},
   "outputs": [
    {
     "data": {
      "text/html": [
       "<div>\n",
       "<style scoped>\n",
       "    .dataframe tbody tr th:only-of-type {\n",
       "        vertical-align: middle;\n",
       "    }\n",
       "\n",
       "    .dataframe tbody tr th {\n",
       "        vertical-align: top;\n",
       "    }\n",
       "\n",
       "    .dataframe thead th {\n",
       "        text-align: right;\n",
       "    }\n",
       "</style>\n",
       "<table border=\"1\" class=\"dataframe\">\n",
       "  <thead>\n",
       "    <tr style=\"text-align: right;\">\n",
       "      <th></th>\n",
       "      <th>driver_id</th>\n",
       "      <th>name</th>\n",
       "      <th>vehicle_id</th>\n",
       "      <th>rating</th>\n",
       "      <th>total_rides</th>\n",
       "      <th>available</th>\n",
       "      <th>Status</th>\n",
       "      <th>vehicle_id</th>\n",
       "      <th>make</th>\n",
       "      <th>model</th>\n",
       "      <th>year</th>\n",
       "      <th>capacity</th>\n",
       "    </tr>\n",
       "  </thead>\n",
       "  <tbody>\n",
       "    <tr>\n",
       "      <th>0</th>\n",
       "      <td>1</td>\n",
       "      <td>Virginia Johnson</td>\n",
       "      <td>284</td>\n",
       "      <td>3.44</td>\n",
       "      <td>30</td>\n",
       "      <td>True</td>\n",
       "      <td>Average</td>\n",
       "      <td>1</td>\n",
       "      <td>Smith, Williams and Huff</td>\n",
       "      <td>positive</td>\n",
       "      <td>2009</td>\n",
       "      <td>3</td>\n",
       "    </tr>\n",
       "    <tr>\n",
       "      <th>1</th>\n",
       "      <td>2</td>\n",
       "      <td>Daniel Maddox</td>\n",
       "      <td>18</td>\n",
       "      <td>2.59</td>\n",
       "      <td>61</td>\n",
       "      <td>False</td>\n",
       "      <td>Average</td>\n",
       "      <td>2</td>\n",
       "      <td>Silva, Miller and Townsend</td>\n",
       "      <td>glass</td>\n",
       "      <td>2003</td>\n",
       "      <td>6</td>\n",
       "    </tr>\n",
       "    <tr>\n",
       "      <th>2</th>\n",
       "      <td>3</td>\n",
       "      <td>Patricia Salazar</td>\n",
       "      <td>298</td>\n",
       "      <td>4.93</td>\n",
       "      <td>75</td>\n",
       "      <td>True</td>\n",
       "      <td>Elite</td>\n",
       "      <td>3</td>\n",
       "      <td>Mitchell LLC</td>\n",
       "      <td>north</td>\n",
       "      <td>2005</td>\n",
       "      <td>7</td>\n",
       "    </tr>\n",
       "    <tr>\n",
       "      <th>3</th>\n",
       "      <td>4</td>\n",
       "      <td>Cameron Hinton DDS</td>\n",
       "      <td>49</td>\n",
       "      <td>2.59</td>\n",
       "      <td>12</td>\n",
       "      <td>True</td>\n",
       "      <td>Average</td>\n",
       "      <td>4</td>\n",
       "      <td>Hill LLC</td>\n",
       "      <td>leave</td>\n",
       "      <td>2016</td>\n",
       "      <td>7</td>\n",
       "    </tr>\n",
       "    <tr>\n",
       "      <th>4</th>\n",
       "      <td>5</td>\n",
       "      <td>Jennifer Ayala</td>\n",
       "      <td>138</td>\n",
       "      <td>4.69</td>\n",
       "      <td>71</td>\n",
       "      <td>True</td>\n",
       "      <td>Elite</td>\n",
       "      <td>5</td>\n",
       "      <td>Smith Group</td>\n",
       "      <td>glass</td>\n",
       "      <td>2011</td>\n",
       "      <td>6</td>\n",
       "    </tr>\n",
       "    <tr>\n",
       "      <th>5</th>\n",
       "      <td>6</td>\n",
       "      <td>Sandra Torres</td>\n",
       "      <td>45</td>\n",
       "      <td>3.05</td>\n",
       "      <td>164</td>\n",
       "      <td>True</td>\n",
       "      <td>Average</td>\n",
       "      <td>6</td>\n",
       "      <td>Gilbert Group</td>\n",
       "      <td>city</td>\n",
       "      <td>2022</td>\n",
       "      <td>2</td>\n",
       "    </tr>\n",
       "    <tr>\n",
       "      <th>6</th>\n",
       "      <td>7</td>\n",
       "      <td>Melissa Perry</td>\n",
       "      <td>288</td>\n",
       "      <td>3.43</td>\n",
       "      <td>23</td>\n",
       "      <td>False</td>\n",
       "      <td>Average</td>\n",
       "      <td>7</td>\n",
       "      <td>Cook, Gregory and Smith</td>\n",
       "      <td>later</td>\n",
       "      <td>2018</td>\n",
       "      <td>4</td>\n",
       "    </tr>\n",
       "    <tr>\n",
       "      <th>7</th>\n",
       "      <td>8</td>\n",
       "      <td>Kathleen Compton</td>\n",
       "      <td>16</td>\n",
       "      <td>1.69</td>\n",
       "      <td>127</td>\n",
       "      <td>False</td>\n",
       "      <td>Poor</td>\n",
       "      <td>8</td>\n",
       "      <td>Lopez, Tucker and Perry</td>\n",
       "      <td>just</td>\n",
       "      <td>2022</td>\n",
       "      <td>4</td>\n",
       "    </tr>\n",
       "    <tr>\n",
       "      <th>8</th>\n",
       "      <td>9</td>\n",
       "      <td>Jake Brown</td>\n",
       "      <td>176</td>\n",
       "      <td>2.69</td>\n",
       "      <td>117</td>\n",
       "      <td>True</td>\n",
       "      <td>Average</td>\n",
       "      <td>9</td>\n",
       "      <td>Whitaker-Munoz</td>\n",
       "      <td>specific</td>\n",
       "      <td>2008</td>\n",
       "      <td>6</td>\n",
       "    </tr>\n",
       "    <tr>\n",
       "      <th>9</th>\n",
       "      <td>10</td>\n",
       "      <td>Audrey Price</td>\n",
       "      <td>152</td>\n",
       "      <td>2.42</td>\n",
       "      <td>85</td>\n",
       "      <td>False</td>\n",
       "      <td>Average</td>\n",
       "      <td>10</td>\n",
       "      <td>Anderson, James and Dominguez</td>\n",
       "      <td>contain</td>\n",
       "      <td>2005</td>\n",
       "      <td>6</td>\n",
       "    </tr>\n",
       "  </tbody>\n",
       "</table>\n",
       "</div>"
      ],
      "text/plain": [
       "   driver_id                name  vehicle_id  rating  total_rides  available  \\\n",
       "0          1    Virginia Johnson         284    3.44           30       True   \n",
       "1          2       Daniel Maddox          18    2.59           61      False   \n",
       "2          3    Patricia Salazar         298    4.93           75       True   \n",
       "3          4  Cameron Hinton DDS          49    2.59           12       True   \n",
       "4          5      Jennifer Ayala         138    4.69           71       True   \n",
       "5          6       Sandra Torres          45    3.05          164       True   \n",
       "6          7       Melissa Perry         288    3.43           23      False   \n",
       "7          8    Kathleen Compton          16    1.69          127      False   \n",
       "8          9          Jake Brown         176    2.69          117       True   \n",
       "9         10        Audrey Price         152    2.42           85      False   \n",
       "\n",
       "    Status  vehicle_id                           make     model  year  \\\n",
       "0  Average           1       Smith, Williams and Huff  positive  2009   \n",
       "1  Average           2     Silva, Miller and Townsend     glass  2003   \n",
       "2    Elite           3                   Mitchell LLC     north  2005   \n",
       "3  Average           4                       Hill LLC     leave  2016   \n",
       "4    Elite           5                    Smith Group     glass  2011   \n",
       "5  Average           6                  Gilbert Group      city  2022   \n",
       "6  Average           7        Cook, Gregory and Smith     later  2018   \n",
       "7     Poor           8        Lopez, Tucker and Perry      just  2022   \n",
       "8  Average           9                 Whitaker-Munoz  specific  2008   \n",
       "9  Average          10  Anderson, James and Dominguez   contain  2005   \n",
       "\n",
       "   capacity  \n",
       "0         3  \n",
       "1         6  \n",
       "2         7  \n",
       "3         7  \n",
       "4         6  \n",
       "5         2  \n",
       "6         4  \n",
       "7         4  \n",
       "8         6  \n",
       "9         6  "
      ]
     },
     "execution_count": 97,
     "metadata": {},
     "output_type": "execute_result"
    }
   ],
   "source": [
    "# Stack datasets vertically (like UNION in SQL)\n",
    "df_concat = pd.concat([drivers, vehicles], axis=1)  # axis=1 → Columns\n",
    "df_concat.head(10)"
   ]
  },
  {
   "cell_type": "markdown",
   "id": "9e7862c8-b79a-4311-94e7-824289566fa2",
   "metadata": {},
   "source": [
    "### Transpose"
   ]
  },
  {
   "cell_type": "code",
   "execution_count": 99,
   "id": "14ffcb8a-ab65-4028-85da-bf947e2dab41",
   "metadata": {},
   "outputs": [
    {
     "data": {
      "text/html": [
       "<div>\n",
       "<style scoped>\n",
       "    .dataframe tbody tr th:only-of-type {\n",
       "        vertical-align: middle;\n",
       "    }\n",
       "\n",
       "    .dataframe tbody tr th {\n",
       "        vertical-align: top;\n",
       "    }\n",
       "\n",
       "    .dataframe thead th {\n",
       "        text-align: right;\n",
       "    }\n",
       "</style>\n",
       "<table border=\"1\" class=\"dataframe\">\n",
       "  <thead>\n",
       "    <tr style=\"text-align: right;\">\n",
       "      <th></th>\n",
       "      <th>2</th>\n",
       "      <th>4</th>\n",
       "      <th>21</th>\n",
       "      <th>44</th>\n",
       "      <th>52</th>\n",
       "      <th>69</th>\n",
       "      <th>72</th>\n",
       "      <th>74</th>\n",
       "      <th>85</th>\n",
       "      <th>86</th>\n",
       "      <th>...</th>\n",
       "      <th>223</th>\n",
       "      <th>226</th>\n",
       "      <th>228</th>\n",
       "      <th>247</th>\n",
       "      <th>251</th>\n",
       "      <th>258</th>\n",
       "      <th>269</th>\n",
       "      <th>286</th>\n",
       "      <th>289</th>\n",
       "      <th>290</th>\n",
       "    </tr>\n",
       "  </thead>\n",
       "  <tbody>\n",
       "    <tr>\n",
       "      <th>driver_id</th>\n",
       "      <td>3</td>\n",
       "      <td>5</td>\n",
       "      <td>22</td>\n",
       "      <td>45</td>\n",
       "      <td>53</td>\n",
       "      <td>70</td>\n",
       "      <td>73</td>\n",
       "      <td>75</td>\n",
       "      <td>86</td>\n",
       "      <td>87</td>\n",
       "      <td>...</td>\n",
       "      <td>224</td>\n",
       "      <td>227</td>\n",
       "      <td>229</td>\n",
       "      <td>248</td>\n",
       "      <td>252</td>\n",
       "      <td>259</td>\n",
       "      <td>270</td>\n",
       "      <td>287</td>\n",
       "      <td>290</td>\n",
       "      <td>291</td>\n",
       "    </tr>\n",
       "    <tr>\n",
       "      <th>name</th>\n",
       "      <td>Patricia Salazar</td>\n",
       "      <td>Jennifer Ayala</td>\n",
       "      <td>Amber Lozano</td>\n",
       "      <td>Patricia Smith</td>\n",
       "      <td>Patricia Richardson</td>\n",
       "      <td>David Chavez</td>\n",
       "      <td>Krista Burke</td>\n",
       "      <td>Jessica Curry</td>\n",
       "      <td>Shaun Gardner</td>\n",
       "      <td>Tyler Knapp</td>\n",
       "      <td>...</td>\n",
       "      <td>Joe Henderson</td>\n",
       "      <td>Susan Maxwell</td>\n",
       "      <td>Lance Mcconnell</td>\n",
       "      <td>Joel Bryant</td>\n",
       "      <td>Todd Brown</td>\n",
       "      <td>Chad Hughes</td>\n",
       "      <td>Stephanie Villarreal</td>\n",
       "      <td>Joanna West</td>\n",
       "      <td>Angela Li</td>\n",
       "      <td>Natasha Ramirez</td>\n",
       "    </tr>\n",
       "    <tr>\n",
       "      <th>vehicle_id</th>\n",
       "      <td>298</td>\n",
       "      <td>138</td>\n",
       "      <td>48</td>\n",
       "      <td>8</td>\n",
       "      <td>89</td>\n",
       "      <td>206</td>\n",
       "      <td>203</td>\n",
       "      <td>132</td>\n",
       "      <td>3</td>\n",
       "      <td>276</td>\n",
       "      <td>...</td>\n",
       "      <td>221</td>\n",
       "      <td>77</td>\n",
       "      <td>217</td>\n",
       "      <td>20</td>\n",
       "      <td>93</td>\n",
       "      <td>103</td>\n",
       "      <td>114</td>\n",
       "      <td>216</td>\n",
       "      <td>23</td>\n",
       "      <td>241</td>\n",
       "    </tr>\n",
       "    <tr>\n",
       "      <th>rating</th>\n",
       "      <td>4.93</td>\n",
       "      <td>4.69</td>\n",
       "      <td>4.89</td>\n",
       "      <td>4.09</td>\n",
       "      <td>4.08</td>\n",
       "      <td>4.1</td>\n",
       "      <td>4.52</td>\n",
       "      <td>4.78</td>\n",
       "      <td>4.64</td>\n",
       "      <td>4.76</td>\n",
       "      <td>...</td>\n",
       "      <td>4.16</td>\n",
       "      <td>4.68</td>\n",
       "      <td>4.22</td>\n",
       "      <td>5.0</td>\n",
       "      <td>4.83</td>\n",
       "      <td>4.27</td>\n",
       "      <td>4.79</td>\n",
       "      <td>4.92</td>\n",
       "      <td>4.9</td>\n",
       "      <td>4.74</td>\n",
       "    </tr>\n",
       "    <tr>\n",
       "      <th>total_rides</th>\n",
       "      <td>75</td>\n",
       "      <td>71</td>\n",
       "      <td>100</td>\n",
       "      <td>84</td>\n",
       "      <td>83</td>\n",
       "      <td>183</td>\n",
       "      <td>131</td>\n",
       "      <td>148</td>\n",
       "      <td>44</td>\n",
       "      <td>126</td>\n",
       "      <td>...</td>\n",
       "      <td>123</td>\n",
       "      <td>48</td>\n",
       "      <td>52</td>\n",
       "      <td>56</td>\n",
       "      <td>177</td>\n",
       "      <td>84</td>\n",
       "      <td>127</td>\n",
       "      <td>64</td>\n",
       "      <td>173</td>\n",
       "      <td>137</td>\n",
       "    </tr>\n",
       "    <tr>\n",
       "      <th>available</th>\n",
       "      <td>True</td>\n",
       "      <td>True</td>\n",
       "      <td>True</td>\n",
       "      <td>True</td>\n",
       "      <td>True</td>\n",
       "      <td>True</td>\n",
       "      <td>True</td>\n",
       "      <td>True</td>\n",
       "      <td>True</td>\n",
       "      <td>True</td>\n",
       "      <td>...</td>\n",
       "      <td>True</td>\n",
       "      <td>True</td>\n",
       "      <td>True</td>\n",
       "      <td>True</td>\n",
       "      <td>True</td>\n",
       "      <td>True</td>\n",
       "      <td>True</td>\n",
       "      <td>True</td>\n",
       "      <td>True</td>\n",
       "      <td>True</td>\n",
       "    </tr>\n",
       "    <tr>\n",
       "      <th>Status</th>\n",
       "      <td>Elite</td>\n",
       "      <td>Elite</td>\n",
       "      <td>Elite</td>\n",
       "      <td>Elite</td>\n",
       "      <td>Elite</td>\n",
       "      <td>Elite</td>\n",
       "      <td>Elite</td>\n",
       "      <td>Elite</td>\n",
       "      <td>Elite</td>\n",
       "      <td>Elite</td>\n",
       "      <td>...</td>\n",
       "      <td>Elite</td>\n",
       "      <td>Elite</td>\n",
       "      <td>Elite</td>\n",
       "      <td>Elite</td>\n",
       "      <td>Elite</td>\n",
       "      <td>Elite</td>\n",
       "      <td>Elite</td>\n",
       "      <td>Elite</td>\n",
       "      <td>Elite</td>\n",
       "      <td>Elite</td>\n",
       "    </tr>\n",
       "  </tbody>\n",
       "</table>\n",
       "<p>7 rows × 42 columns</p>\n",
       "</div>"
      ],
      "text/plain": [
       "                          2               4             21              44   \\\n",
       "driver_id                   3               5            22              45   \n",
       "name         Patricia Salazar  Jennifer Ayala  Amber Lozano  Patricia Smith   \n",
       "vehicle_id                298             138            48               8   \n",
       "rating                   4.93            4.69          4.89            4.09   \n",
       "total_rides                75              71           100              84   \n",
       "available                True            True          True            True   \n",
       "Status                  Elite           Elite         Elite           Elite   \n",
       "\n",
       "                             52            69            72             74   \\\n",
       "driver_id                     53            70            73             75   \n",
       "name         Patricia Richardson  David Chavez  Krista Burke  Jessica Curry   \n",
       "vehicle_id                    89           206           203            132   \n",
       "rating                      4.08           4.1          4.52           4.78   \n",
       "total_rides                   83           183           131            148   \n",
       "available                   True          True          True           True   \n",
       "Status                     Elite         Elite         Elite          Elite   \n",
       "\n",
       "                       85           86   ...            223            226  \\\n",
       "driver_id               86           87  ...            224            227   \n",
       "name         Shaun Gardner  Tyler Knapp  ...  Joe Henderson  Susan Maxwell   \n",
       "vehicle_id               3          276  ...            221             77   \n",
       "rating                4.64         4.76  ...           4.16           4.68   \n",
       "total_rides             44          126  ...            123             48   \n",
       "available             True         True  ...           True           True   \n",
       "Status               Elite        Elite  ...          Elite          Elite   \n",
       "\n",
       "                         228          247         251          258  \\\n",
       "driver_id                229          248         252          259   \n",
       "name         Lance Mcconnell  Joel Bryant  Todd Brown  Chad Hughes   \n",
       "vehicle_id               217           20          93          103   \n",
       "rating                  4.22          5.0        4.83         4.27   \n",
       "total_rides               52           56         177           84   \n",
       "available               True         True        True         True   \n",
       "Status                 Elite        Elite       Elite        Elite   \n",
       "\n",
       "                              269          286        289              290  \n",
       "driver_id                     270          287        290              291  \n",
       "name         Stephanie Villarreal  Joanna West  Angela Li  Natasha Ramirez  \n",
       "vehicle_id                    114          216         23              241  \n",
       "rating                       4.79         4.92        4.9             4.74  \n",
       "total_rides                   127           64        173              137  \n",
       "available                    True         True       True             True  \n",
       "Status                      Elite        Elite      Elite            Elite  \n",
       "\n",
       "[7 rows x 42 columns]"
      ]
     },
     "execution_count": 99,
     "metadata": {},
     "output_type": "execute_result"
    }
   ],
   "source": [
    "elites_available.T"
   ]
  },
  {
   "cell_type": "markdown",
   "id": "a2ee9460-d9f3-44b1-94c7-f6c66222baf6",
   "metadata": {},
   "source": [
    "### Finding index"
   ]
  },
  {
   "cell_type": "code",
   "execution_count": 101,
   "id": "f8b8a3d2-45e1-46d2-af18-ca534cfaaf9f",
   "metadata": {},
   "outputs": [
    {
     "name": "stdout",
     "output_type": "stream",
     "text": [
      "Index of value 298 in vehicle_id column: Index([2], dtype='int64')\n"
     ]
    }
   ],
   "source": [
    "# Find the row index where vehicle_id is 298\n",
    "index = drivers_vehicles[drivers_vehicles['vehicle_id'] == 298].index\n",
    "\n",
    "print(\"Index of value 298 in vehicle_id column:\", index)"
   ]
  },
  {
   "cell_type": "code",
   "execution_count": 102,
   "id": "21e02d13-5b23-495e-a994-e7ce0c47a031",
   "metadata": {},
   "outputs": [
    {
     "name": "stdout",
     "output_type": "stream",
     "text": [
      "Index of value 2 in driver_id column: Index([  322,   336,   477,   942,  1085,  1229,  1692,  1804,  2206,  2242,\n",
      "       ...\n",
      "       47372, 47537, 47598, 47703, 48061, 48199, 48765, 49002, 49105, 49789],\n",
      "      dtype='int64', length=177)\n"
     ]
    }
   ],
   "source": [
    "# Find the row index where driver_id is 2\n",
    "index = rides[rides['driver_id'] == 2].index\n",
    "\n",
    "print(\"Index of value 2 in driver_id column:\", index)"
   ]
  },
  {
   "cell_type": "markdown",
   "id": "c706cbae-5b49-424e-a370-76096c5bd386",
   "metadata": {},
   "source": [
    "**count = (condition.sum())**"
   ]
  },
  {
   "cell_type": "code",
   "execution_count": 104,
   "id": "0cc2065a-969a-4a98-bb92-3e798e38eb53",
   "metadata": {},
   "outputs": [
    {
     "data": {
      "text/plain": [
       "151"
      ]
     },
     "execution_count": 104,
     "metadata": {},
     "output_type": "execute_result"
    }
   ],
   "source": [
    "# Count the number of occurrences of 298 in driver_id column\n",
    "count_298 = (rides['driver_id'] == 298).sum()\n",
    "count_298"
   ]
  },
  {
   "cell_type": "markdown",
   "id": "72e1ed5d-914e-4a96-b2e9-5fe8c5602375",
   "metadata": {},
   "source": [
    "## **NumPy**"
   ]
  },
  {
   "cell_type": "code",
   "execution_count": 106,
   "id": "8b080959-f10c-473c-8ccd-748da49faf33",
   "metadata": {},
   "outputs": [],
   "source": [
    "import numpy as np"
   ]
  },
  {
   "cell_type": "code",
   "execution_count": 107,
   "id": "9e39c2e8-d865-49b7-a93f-df632973bef4",
   "metadata": {},
   "outputs": [],
   "source": [
    "drivers2 = pd.read_csv(r\"drivers.csv\")"
   ]
  },
  {
   "cell_type": "markdown",
   "id": "751c5fc2-e484-46f1-ac73-37efd2ac5c46",
   "metadata": {},
   "source": [
    "### Data transformation"
   ]
  },
  {
   "cell_type": "code",
   "execution_count": 109,
   "id": "0de0fb21-d3bc-4e22-9c78-6e2fca41ef39",
   "metadata": {},
   "outputs": [],
   "source": [
    "drivers2['Elite'] = np.where(drivers2['rating']>=4, \"Elite\", \"Not Elite\")"
   ]
  },
  {
   "cell_type": "code",
   "execution_count": 110,
   "id": "e793d94d-e1e7-4991-aa1f-f96b4c6c0167",
   "metadata": {},
   "outputs": [
    {
     "data": {
      "text/html": [
       "<div>\n",
       "<style scoped>\n",
       "    .dataframe tbody tr th:only-of-type {\n",
       "        vertical-align: middle;\n",
       "    }\n",
       "\n",
       "    .dataframe tbody tr th {\n",
       "        vertical-align: top;\n",
       "    }\n",
       "\n",
       "    .dataframe thead th {\n",
       "        text-align: right;\n",
       "    }\n",
       "</style>\n",
       "<table border=\"1\" class=\"dataframe\">\n",
       "  <thead>\n",
       "    <tr style=\"text-align: right;\">\n",
       "      <th></th>\n",
       "      <th>driver_id</th>\n",
       "      <th>name</th>\n",
       "      <th>vehicle_id</th>\n",
       "      <th>rating</th>\n",
       "      <th>total_rides</th>\n",
       "      <th>available</th>\n",
       "      <th>Elite</th>\n",
       "    </tr>\n",
       "  </thead>\n",
       "  <tbody>\n",
       "    <tr>\n",
       "      <th>0</th>\n",
       "      <td>1</td>\n",
       "      <td>Virginia Johnson</td>\n",
       "      <td>284</td>\n",
       "      <td>3.44</td>\n",
       "      <td>30</td>\n",
       "      <td>True</td>\n",
       "      <td>Not Elite</td>\n",
       "    </tr>\n",
       "    <tr>\n",
       "      <th>1</th>\n",
       "      <td>2</td>\n",
       "      <td>Daniel Maddox</td>\n",
       "      <td>18</td>\n",
       "      <td>2.59</td>\n",
       "      <td>61</td>\n",
       "      <td>False</td>\n",
       "      <td>Not Elite</td>\n",
       "    </tr>\n",
       "    <tr>\n",
       "      <th>2</th>\n",
       "      <td>3</td>\n",
       "      <td>Patricia Salazar</td>\n",
       "      <td>298</td>\n",
       "      <td>4.93</td>\n",
       "      <td>75</td>\n",
       "      <td>True</td>\n",
       "      <td>Elite</td>\n",
       "    </tr>\n",
       "    <tr>\n",
       "      <th>3</th>\n",
       "      <td>4</td>\n",
       "      <td>Cameron Hinton DDS</td>\n",
       "      <td>49</td>\n",
       "      <td>2.59</td>\n",
       "      <td>12</td>\n",
       "      <td>True</td>\n",
       "      <td>Not Elite</td>\n",
       "    </tr>\n",
       "    <tr>\n",
       "      <th>4</th>\n",
       "      <td>5</td>\n",
       "      <td>Jennifer Ayala</td>\n",
       "      <td>138</td>\n",
       "      <td>4.69</td>\n",
       "      <td>71</td>\n",
       "      <td>True</td>\n",
       "      <td>Elite</td>\n",
       "    </tr>\n",
       "  </tbody>\n",
       "</table>\n",
       "</div>"
      ],
      "text/plain": [
       "   driver_id                name  vehicle_id  rating  total_rides  available  \\\n",
       "0          1    Virginia Johnson         284    3.44           30       True   \n",
       "1          2       Daniel Maddox          18    2.59           61      False   \n",
       "2          3    Patricia Salazar         298    4.93           75       True   \n",
       "3          4  Cameron Hinton DDS          49    2.59           12       True   \n",
       "4          5      Jennifer Ayala         138    4.69           71       True   \n",
       "\n",
       "       Elite  \n",
       "0  Not Elite  \n",
       "1  Not Elite  \n",
       "2      Elite  \n",
       "3  Not Elite  \n",
       "4      Elite  "
      ]
     },
     "execution_count": 110,
     "metadata": {},
     "output_type": "execute_result"
    }
   ],
   "source": [
    "drivers2.head()"
   ]
  },
  {
   "cell_type": "markdown",
   "id": "945fe476-cbf2-42b0-8e4f-84c4b5f3ed47",
   "metadata": {},
   "source": [
    "### Reverse a list"
   ]
  },
  {
   "cell_type": "markdown",
   "id": "5e80e0e7-2e47-4ba1-bb3b-ad3be4290849",
   "metadata": {},
   "source": [
    "#### Getting a col as a list"
   ]
  },
  {
   "cell_type": "code",
   "execution_count": 113,
   "id": "53dd5a1c-7924-46dd-bfe7-f54771ec4147",
   "metadata": {},
   "outputs": [],
   "source": [
    "col_list = drivers2['vehicle_id'].tolist()"
   ]
  },
  {
   "cell_type": "code",
   "execution_count": 114,
   "id": "50b8dbba-e2f7-45b1-8e35-b346550150b3",
   "metadata": {},
   "outputs": [],
   "source": [
    "#col_list"
   ]
  },
  {
   "cell_type": "code",
   "execution_count": 115,
   "id": "144605eb-f8db-4173-b8fa-11bb8aa156c4",
   "metadata": {},
   "outputs": [
    {
     "data": {
      "text/plain": [
       "300"
      ]
     },
     "execution_count": 115,
     "metadata": {},
     "output_type": "execute_result"
    }
   ],
   "source": [
    "len(col_list)"
   ]
  },
  {
   "cell_type": "markdown",
   "id": "4829beea-1803-43f3-bffa-0229ae143d9b",
   "metadata": {},
   "source": [
    "**to get unique values**"
   ]
  },
  {
   "cell_type": "code",
   "execution_count": 117,
   "id": "3efbb43c-6008-4313-9fc4-30bfcd369c03",
   "metadata": {},
   "outputs": [],
   "source": [
    "u_col_list = drivers2['vehicle_id'].unique().tolist()"
   ]
  },
  {
   "cell_type": "code",
   "execution_count": 118,
   "id": "624a5c19-8141-4a2a-9ebb-9625eb9aa50a",
   "metadata": {},
   "outputs": [
    {
     "data": {
      "text/plain": [
       "189"
      ]
     },
     "execution_count": 118,
     "metadata": {},
     "output_type": "execute_result"
    }
   ],
   "source": [
    "len(u_col_list)"
   ]
  },
  {
   "cell_type": "markdown",
   "id": "41235128-8d97-4ace-bd1c-cd31981e2171",
   "metadata": {},
   "source": [
    "**to view top 5 in a list**"
   ]
  },
  {
   "cell_type": "code",
   "execution_count": 120,
   "id": "b393d4a7-5fcf-4d36-a77a-40fa2373396c",
   "metadata": {},
   "outputs": [
    {
     "data": {
      "text/plain": [
       "[284, 18, 298, 49, 138]"
      ]
     },
     "execution_count": 120,
     "metadata": {},
     "output_type": "execute_result"
    }
   ],
   "source": [
    "u_col_list[:5]"
   ]
  },
  {
   "cell_type": "markdown",
   "id": "a0d30849-2ab8-42af-8fc0-923f7f01e5de",
   "metadata": {},
   "source": [
    "**Frequency of unique values in a column**"
   ]
  },
  {
   "cell_type": "code",
   "execution_count": 122,
   "id": "2ee48ed8-1999-4aed-a220-0354a7204ce7",
   "metadata": {},
   "outputs": [
    {
     "data": {
      "text/plain": [
       "vehicle_id\n",
       "138    5\n",
       "37     5\n",
       "274    5\n",
       "89     4\n",
       "132    4\n",
       "49     4\n",
       "8      3\n",
       "91     3\n",
       "289    3\n",
       "115    3\n",
       "Name: count, dtype: int64"
      ]
     },
     "execution_count": 122,
     "metadata": {},
     "output_type": "execute_result"
    }
   ],
   "source": [
    "drivers2['vehicle_id'].value_counts().head(10)"
   ]
  },
  {
   "cell_type": "markdown",
   "id": "a60ed8a1-6256-4c24-9178-37699673efcf",
   "metadata": {},
   "source": [
    "- Returns: A Series where the index represents the unique values and the values are the counts.\n",
    "- By default, it sorts the values in descending order of frequency.\n"
   ]
  },
  {
   "cell_type": "markdown",
   "id": "91a0baf8-1e67-4916-8358-05fb5cbf5971",
   "metadata": {},
   "source": [
    "**top 3 values in a list**"
   ]
  },
  {
   "cell_type": "code",
   "execution_count": 125,
   "id": "6e3d6351-fec4-4da0-ab0a-58baee40adfd",
   "metadata": {},
   "outputs": [
    {
     "data": {
      "text/plain": [
       "vehicle_id\n",
       "138    5\n",
       "37     5\n",
       "274    5\n",
       "Name: count, dtype: int64"
      ]
     },
     "execution_count": 125,
     "metadata": {},
     "output_type": "execute_result"
    }
   ],
   "source": [
    "drivers2['vehicle_id'].value_counts().head(3)"
   ]
  },
  {
   "cell_type": "markdown",
   "id": "4a13d258-ff45-43d9-8d06-62601432cc25",
   "metadata": {},
   "source": [
    "better to use rank!"
   ]
  },
  {
   "cell_type": "markdown",
   "id": "f10d48df-de91-4e48-9fba-14ce4e2648d1",
   "metadata": {},
   "source": [
    "#### REVERSING A LIST"
   ]
  },
  {
   "cell_type": "code",
   "execution_count": 128,
   "id": "b802991e-a269-4b49-80ce-6fd349fcee83",
   "metadata": {},
   "outputs": [
    {
     "data": {
      "text/plain": [
       "[284, 18, 298, 49, 138, 45, 288, 16, 176, 152]"
      ]
     },
     "execution_count": 128,
     "metadata": {},
     "output_type": "execute_result"
    }
   ],
   "source": [
    "u_col_list[:10]"
   ]
  },
  {
   "cell_type": "code",
   "execution_count": 129,
   "id": "2f76376b-058e-4507-9c4c-97c5750512c5",
   "metadata": {},
   "outputs": [
    {
     "data": {
      "text/plain": [
       "[152, 176, 16, 288, 45, 138, 49, 298, 18, 284]"
      ]
     },
     "execution_count": 129,
     "metadata": {},
     "output_type": "execute_result"
    }
   ],
   "source": [
    "u_col_list[:10][::-1]"
   ]
  },
  {
   "cell_type": "markdown",
   "id": "44c0c2e6-69f0-4a0a-8e57-bbda2ae2a8c9",
   "metadata": {},
   "source": [
    "### Convert a list to array"
   ]
  },
  {
   "cell_type": "code",
   "execution_count": 131,
   "id": "6c9887e8-d8bb-4a55-9966-cc59dacb5107",
   "metadata": {},
   "outputs": [],
   "source": [
    "# Convert list to numpy array\n",
    "arr = np.array(u_col_list)"
   ]
  },
  {
   "cell_type": "code",
   "execution_count": 132,
   "id": "2f55d574-dc69-4b52-bc62-8e8f8090520f",
   "metadata": {},
   "outputs": [
    {
     "data": {
      "text/plain": [
       "(numpy.ndarray, list)"
      ]
     },
     "execution_count": 132,
     "metadata": {},
     "output_type": "execute_result"
    }
   ],
   "source": [
    "type(arr), type(u_col_list)"
   ]
  },
  {
   "cell_type": "markdown",
   "id": "4689236a-24ca-46a8-9026-c7ce685cb2d6",
   "metadata": {},
   "source": [
    "place cursor over a function or code then press Shift + Tab to get info or help"
   ]
  },
  {
   "cell_type": "markdown",
   "id": "de5bdfe6-3214-4440-ac0c-6b13c506040a",
   "metadata": {},
   "source": [
    "#### reverse an array"
   ]
  },
  {
   "cell_type": "code",
   "execution_count": 135,
   "id": "0e3604a8-b756-4841-baf0-0e5f883d7084",
   "metadata": {},
   "outputs": [
    {
     "data": {
      "text/plain": [
       "array([284,  18, 298,  49, 138,  45, 288,  16, 176, 152, 269,  84,  23,\n",
       "       169, 287,  80, 142, 293,   9,  48, 290,  37, 226, 171, 286, 289,\n",
       "       115, 275, 167, 141, 236, 232,  98, 274, 228, 220, 175, 184,   8,\n",
       "        95, 292, 180, 129,  81, 207, 148,  89, 159, 145, 224, 210, 217,\n",
       "       283, 265, 105, 201,  67, 262, 206, 110, 203, 102, 132,  92, 257,\n",
       "       215, 126, 166, 173, 144, 294,  70,   3, 276, 270, 172, 195, 106,\n",
       "       240,  74, 229, 157,  58, 165, 253, 296, 247, 252,  29, 261, 187,\n",
       "       264, 219,  33, 134, 272, 251, 198, 208,  39, 237,  79, 256,  52,\n",
       "       127,   2, 221, 271, 279,  85, 235,  19, 204,   6,  40,  44, 174,\n",
       "        72, 143, 227,  68,  28,  91, 179, 188, 266,  21, 194,  90,  36,\n",
       "       242, 238, 190, 300, 151,  82, 140, 100, 119,  59, 123,  66,  12,\n",
       "       114,  69, 101, 230, 146, 111, 168, 222, 113,  17,  88, 211,  97,\n",
       "       149, 177,  77, 133, 255, 233, 199, 248,  14,  20,  99,  93, 153,\n",
       "        51, 108, 103,  42, 186,  63,  10,  30, 260,  38, 121, 254,  26,\n",
       "       216, 161, 241,  73, 109,  22, 282])"
      ]
     },
     "execution_count": 135,
     "metadata": {},
     "output_type": "execute_result"
    }
   ],
   "source": [
    "arr"
   ]
  },
  {
   "cell_type": "code",
   "execution_count": 136,
   "id": "47080321-18a4-4f44-a9fc-db133a8b3a34",
   "metadata": {},
   "outputs": [
    {
     "data": {
      "text/plain": [
       "array([282,  22, 109,  73, 241, 161, 216,  26, 254, 121,  38, 260,  30,\n",
       "        10,  63, 186,  42, 103, 108,  51, 153,  93,  99,  20,  14, 248,\n",
       "       199, 233, 255, 133,  77, 177, 149,  97, 211,  88,  17, 113, 222,\n",
       "       168, 111, 146, 230, 101,  69, 114,  12,  66, 123,  59, 119, 100,\n",
       "       140,  82, 151, 300, 190, 238, 242,  36,  90, 194,  21, 266, 188,\n",
       "       179,  91,  28,  68, 227, 143,  72, 174,  44,  40,   6, 204,  19,\n",
       "       235,  85, 279, 271, 221,   2, 127,  52, 256,  79, 237,  39, 208,\n",
       "       198, 251, 272, 134,  33, 219, 264, 187, 261,  29, 252, 247, 296,\n",
       "       253, 165,  58, 157, 229,  74, 240, 106, 195, 172, 270, 276,   3,\n",
       "        70, 294, 144, 173, 166, 126, 215, 257,  92, 132, 102, 203, 110,\n",
       "       206, 262,  67, 201, 105, 265, 283, 217, 210, 224, 145, 159,  89,\n",
       "       148, 207,  81, 129, 180, 292,  95,   8, 184, 175, 220, 228, 274,\n",
       "        98, 232, 236, 141, 167, 275, 115, 289, 286, 171, 226,  37, 290,\n",
       "        48,   9, 293, 142,  80, 287, 169,  23,  84, 269, 152, 176,  16,\n",
       "       288,  45, 138,  49, 298,  18, 284])"
      ]
     },
     "execution_count": 136,
     "metadata": {},
     "output_type": "execute_result"
    }
   ],
   "source": [
    "arr[::-1]"
   ]
  },
  {
   "cell_type": "markdown",
   "id": "3ac3305b-d23a-4fed-a468-3faab050354b",
   "metadata": {},
   "source": [
    "### Array Indexing and Slicing"
   ]
  },
  {
   "cell_type": "code",
   "execution_count": 138,
   "id": "c9ca1fe4-23a7-454f-a241-22d53d1e1f2c",
   "metadata": {},
   "outputs": [
    {
     "data": {
      "text/plain": [
       "22"
      ]
     },
     "execution_count": 138,
     "metadata": {},
     "output_type": "execute_result"
    }
   ],
   "source": [
    "arr[-2] # gives 2nd last"
   ]
  },
  {
   "cell_type": "code",
   "execution_count": 139,
   "id": "f7fa802e-a536-421c-8754-e61e459f37c8",
   "metadata": {},
   "outputs": [
    {
     "data": {
      "text/plain": [
       "array([ 49, 138,  45])"
      ]
     },
     "execution_count": 139,
     "metadata": {},
     "output_type": "execute_result"
    }
   ],
   "source": [
    "arr[3:6] # 3 index inclusive and 6 index exclusive so index 3,4,5"
   ]
  },
  {
   "cell_type": "markdown",
   "id": "f59d634f-d359-4716-8283-4b8b9ec2d147",
   "metadata": {},
   "source": [
    "### Array Reshaping"
   ]
  },
  {
   "cell_type": "code",
   "execution_count": 141,
   "id": "4923f95d-1e01-48d3-9742-5917383f9ec2",
   "metadata": {},
   "outputs": [
    {
     "data": {
      "text/plain": [
       "(189,)"
      ]
     },
     "execution_count": 141,
     "metadata": {},
     "output_type": "execute_result"
    }
   ],
   "source": [
    "arr.shape"
   ]
  },
  {
   "cell_type": "markdown",
   "id": "4a1bb254-685d-417e-8788-79afb22075eb",
   "metadata": {},
   "source": [
    "Shape (189,): A **1-dimensional array** with 189 elements."
   ]
  },
  {
   "cell_type": "code",
   "execution_count": 143,
   "id": "0ad9f8b2-c2a7-4131-8f14-cdf296de20e9",
   "metadata": {},
   "outputs": [
    {
     "data": {
      "text/plain": [
       "numpy.ndarray"
      ]
     },
     "execution_count": 143,
     "metadata": {},
     "output_type": "execute_result"
    }
   ],
   "source": [
    "type(arr)"
   ]
  },
  {
   "cell_type": "code",
   "execution_count": 144,
   "id": "1d8f18ba-717c-4172-809b-ae9abaacab28",
   "metadata": {},
   "outputs": [],
   "source": [
    "#reshaped_arr = arr.reshape(1, 3)  # Reshape to 3x3 matrix\n",
    "#print(reshaped_arr)"
   ]
  },
  {
   "cell_type": "markdown",
   "id": "15985638-34f5-424b-bdcb-e12cd62d0482",
   "metadata": {},
   "source": [
    "For other shapes: Ensure that the product of the new shape's dimensions equals 189. For example:"
   ]
  },
  {
   "cell_type": "code",
   "execution_count": 146,
   "id": "d319fe8b-7faa-4d67-b935-2ad0d9f7a93d",
   "metadata": {},
   "outputs": [],
   "source": [
    "reshaped_arr = arr.reshape(1, 189)"
   ]
  },
  {
   "cell_type": "code",
   "execution_count": 147,
   "id": "0896edbd-4875-49f3-99e0-2b97ffcd3f12",
   "metadata": {},
   "outputs": [
    {
     "data": {
      "text/plain": [
       "(1, 189)"
      ]
     },
     "execution_count": 147,
     "metadata": {},
     "output_type": "execute_result"
    }
   ],
   "source": [
    "reshaped_arr.shape"
   ]
  },
  {
   "cell_type": "markdown",
   "id": "8cf9c49f-4ade-412b-be90-7ddb01360a71",
   "metadata": {},
   "source": [
    "Shape **(1, 189)** is a **row vector** (a 2D array with 1 row and 189 columns)."
   ]
  },
  {
   "cell_type": "code",
   "execution_count": 149,
   "id": "66d8a567-bb6c-457e-a5ab-eed238271e18",
   "metadata": {},
   "outputs": [],
   "source": [
    "reshaped_arr2 = arr.reshape(189,1)"
   ]
  },
  {
   "cell_type": "code",
   "execution_count": 150,
   "id": "2c49040d-c2f1-4ac9-b9b5-e1ff0feda13f",
   "metadata": {},
   "outputs": [
    {
     "data": {
      "text/plain": [
       "(189, 1)"
      ]
     },
     "execution_count": 150,
     "metadata": {},
     "output_type": "execute_result"
    }
   ],
   "source": [
    "reshaped_arr2.shape"
   ]
  },
  {
   "cell_type": "markdown",
   "id": "e80e6937-9d76-4489-88be-b68e513e7113",
   "metadata": {},
   "source": [
    "Shape **(189, 1)** is a **column vector** (a 2D array with 189 rows and 1 column)."
   ]
  },
  {
   "cell_type": "markdown",
   "id": "4a5988cf-5c9c-42c4-ae38-e6897c5afb4b",
   "metadata": {},
   "source": [
    "### Converting to vectors\n",
    ".reshape(R,C) <BR/>\n",
    "arr.reshape(**-1**, 1) | **column vector** | ***FIGURE OUT ROWS (-1), I WANT COLUMN AS 1 SO 1D COLUMN VECTOR (1)***"
   ]
  },
  {
   "cell_type": "markdown",
   "id": "c0c2e7ed-e558-41fe-a869-4cb1d8572fd9",
   "metadata": {},
   "source": [
    "When using **-1 in .reshape()**, **NumPy will figure out the appropriate size for that dimension** based on the total number of elements in the array and the other specified dimensions."
   ]
  },
  {
   "cell_type": "markdown",
   "id": "6fd7e36f-f947-49bc-b472-a74e668fd89d",
   "metadata": {},
   "source": [
    "#### Convert to a column vector"
   ]
  },
  {
   "cell_type": "code",
   "execution_count": 155,
   "id": "d4da8f80-17f6-4990-8c40-14b1e3e46ec6",
   "metadata": {},
   "outputs": [],
   "source": [
    "# Convert into a column vector (189, 1)\n",
    "reshaped_arr = arr.reshape(-1, 1)"
   ]
  },
  {
   "cell_type": "code",
   "execution_count": 156,
   "id": "94267b5b-5cba-4820-9d51-77f53feadc57",
   "metadata": {},
   "outputs": [
    {
     "data": {
      "text/plain": [
       "(189, 1)"
      ]
     },
     "execution_count": 156,
     "metadata": {},
     "output_type": "execute_result"
    }
   ],
   "source": [
    "reshaped_arr.shape"
   ]
  },
  {
   "cell_type": "markdown",
   "id": "bd534092-765d-4ebe-96b1-ff1c28f1027e",
   "metadata": {},
   "source": [
    "#### Convert to a row vector"
   ]
  },
  {
   "cell_type": "code",
   "execution_count": 158,
   "id": "33774e2c-bdba-4d4b-90b0-a6c9f58cc23d",
   "metadata": {},
   "outputs": [],
   "source": [
    "# Convert into a row vector\n",
    "reshaped_arr = arr.reshape(1, -1)"
   ]
  },
  {
   "cell_type": "code",
   "execution_count": 159,
   "id": "d9287295-f4d1-47e8-a1cb-820be7425286",
   "metadata": {},
   "outputs": [
    {
     "data": {
      "text/plain": [
       "(1, 189)"
      ]
     },
     "execution_count": 159,
     "metadata": {},
     "output_type": "execute_result"
    }
   ],
   "source": [
    "reshaped_arr.shape"
   ]
  },
  {
   "cell_type": "markdown",
   "id": "c6af4ddb-2964-4280-bd49-5fde8b720885",
   "metadata": {},
   "source": [
    "### Array Broadcasting | ex: Adding a scalar to each element"
   ]
  },
  {
   "cell_type": "code",
   "execution_count": 161,
   "id": "6373bf0b-e79e-4bcd-9e76-a5b0695fe028",
   "metadata": {},
   "outputs": [
    {
     "data": {
      "text/plain": [
       "array([[10284, 10018, 10298, 10049, 10138, 10045, 10288, 10016, 10176,\n",
       "        10152, 10269, 10084, 10023, 10169, 10287, 10080, 10142, 10293,\n",
       "        10009, 10048, 10290, 10037, 10226, 10171, 10286, 10289, 10115,\n",
       "        10275, 10167, 10141, 10236, 10232, 10098, 10274, 10228, 10220,\n",
       "        10175, 10184, 10008, 10095, 10292, 10180, 10129, 10081, 10207,\n",
       "        10148, 10089, 10159, 10145, 10224, 10210, 10217, 10283, 10265,\n",
       "        10105, 10201, 10067, 10262, 10206, 10110, 10203, 10102, 10132,\n",
       "        10092, 10257, 10215, 10126, 10166, 10173, 10144, 10294, 10070,\n",
       "        10003, 10276, 10270, 10172, 10195, 10106, 10240, 10074, 10229,\n",
       "        10157, 10058, 10165, 10253, 10296, 10247, 10252, 10029, 10261,\n",
       "        10187, 10264, 10219, 10033, 10134, 10272, 10251, 10198, 10208,\n",
       "        10039, 10237, 10079, 10256, 10052, 10127, 10002, 10221, 10271,\n",
       "        10279, 10085, 10235, 10019, 10204, 10006, 10040, 10044, 10174,\n",
       "        10072, 10143, 10227, 10068, 10028, 10091, 10179, 10188, 10266,\n",
       "        10021, 10194, 10090, 10036, 10242, 10238, 10190, 10300, 10151,\n",
       "        10082, 10140, 10100, 10119, 10059, 10123, 10066, 10012, 10114,\n",
       "        10069, 10101, 10230, 10146, 10111, 10168, 10222, 10113, 10017,\n",
       "        10088, 10211, 10097, 10149, 10177, 10077, 10133, 10255, 10233,\n",
       "        10199, 10248, 10014, 10020, 10099, 10093, 10153, 10051, 10108,\n",
       "        10103, 10042, 10186, 10063, 10010, 10030, 10260, 10038, 10121,\n",
       "        10254, 10026, 10216, 10161, 10241, 10073, 10109, 10022, 10282]])"
      ]
     },
     "execution_count": 161,
     "metadata": {},
     "output_type": "execute_result"
    }
   ],
   "source": [
    "reshaped_arr + 10000"
   ]
  },
  {
   "cell_type": "markdown",
   "id": "d170937c-4e69-454b-a6a3-960606400104",
   "metadata": {},
   "source": [
    "### Matrix Multiplication"
   ]
  },
  {
   "cell_type": "code",
   "execution_count": 163,
   "id": "af5ea306-bd30-4f5f-86a8-135d64071cfd",
   "metadata": {},
   "outputs": [],
   "source": [
    "# Create two 2D arrays (matrices)\n",
    "A = np.array([[1, 2], [3, 4]])\n",
    "B = np.array([[5, 6], [7, 8]])"
   ]
  },
  {
   "cell_type": "code",
   "execution_count": 164,
   "id": "e9be2842-3e76-4343-9fc4-cf530738275e",
   "metadata": {},
   "outputs": [
    {
     "name": "stdout",
     "output_type": "stream",
     "text": [
      "[[1 2]\n",
      " [3 4]]\n"
     ]
    }
   ],
   "source": [
    "print(A)"
   ]
  },
  {
   "cell_type": "code",
   "execution_count": 165,
   "id": "d666e1f3-e320-4d84-a5b0-f5f9c6563e20",
   "metadata": {},
   "outputs": [
    {
     "name": "stdout",
     "output_type": "stream",
     "text": [
      "[[5 6]\n",
      " [7 8]]\n"
     ]
    }
   ],
   "source": [
    "print(B)"
   ]
  },
  {
   "cell_type": "code",
   "execution_count": 166,
   "id": "a0abd6d5-f20c-4c2f-b566-2d5ca623eed3",
   "metadata": {},
   "outputs": [
    {
     "name": "stdout",
     "output_type": "stream",
     "text": [
      "[[19 22]\n",
      " [43 50]]\n"
     ]
    }
   ],
   "source": [
    "# Matrix multiplication using np.dot() or @\n",
    "result = np.dot(A, B)\n",
    "print(result)"
   ]
  },
  {
   "cell_type": "markdown",
   "id": "040c4fd6-3cf9-4f85-8e6a-d9bffc99eb20",
   "metadata": {},
   "source": [
    "### Find min and max | values and index"
   ]
  },
  {
   "cell_type": "code",
   "execution_count": 168,
   "id": "cf68aba1-d099-4f22-be94-3ef979561aea",
   "metadata": {},
   "outputs": [],
   "source": [
    "# Find min and max values\n",
    "min_val = np.min(arr)\n",
    "max_val = np.max(arr)"
   ]
  },
  {
   "cell_type": "code",
   "execution_count": 169,
   "id": "0ccbbcc1-276d-4871-9ace-8a74af6c3df1",
   "metadata": {},
   "outputs": [],
   "source": [
    "# Find their indices\n",
    "min_idx = np.argmin(arr)\n",
    "max_idx = np.argmax(arr)"
   ]
  },
  {
   "cell_type": "code",
   "execution_count": 170,
   "id": "ab9d5a24-ffec-4e84-b862-a7cfdd983c30",
   "metadata": {},
   "outputs": [
    {
     "name": "stdout",
     "output_type": "stream",
     "text": [
      "Min value: 2 at index 105\n",
      "Max value: 300 at index 133\n"
     ]
    }
   ],
   "source": [
    "print(\"Min value:\", min_val, \"at index\", min_idx)\n",
    "print(\"Max value:\", max_val, \"at index\", max_idx)"
   ]
  },
  {
   "cell_type": "markdown",
   "id": "88cee575-50f1-4b8d-a652-43913c33d708",
   "metadata": {},
   "source": [
    "### Sum"
   ]
  },
  {
   "cell_type": "code",
   "execution_count": 172,
   "id": "44227d90-492c-4b67-99d6-a7cb1e384fda",
   "metadata": {},
   "outputs": [
    {
     "name": "stdout",
     "output_type": "stream",
     "text": [
      "Sum: 28946\n"
     ]
    }
   ],
   "source": [
    "# Sum of all elements\n",
    "sum_val = np.sum(arr)\n",
    "print(\"Sum:\", sum_val)"
   ]
  },
  {
   "cell_type": "markdown",
   "id": "9ba80a76-bd13-4804-b2d2-4e85a5ce5dd7",
   "metadata": {},
   "source": [
    "### Element-wise operator"
   ]
  },
  {
   "cell_type": "code",
   "execution_count": 174,
   "id": "b6a56549-577e-4ebe-a1f3-796581806d74",
   "metadata": {},
   "outputs": [
    {
     "name": "stdout",
     "output_type": "stream",
     "text": [
      "Element-wise addition: [5 7 9]\n",
      "Element-wise multiplication: [ 4 10 18]\n"
     ]
    }
   ],
   "source": [
    "arr1 = np.array([1, 2, 3])\n",
    "arr2 = np.array([4, 5, 6])\n",
    "\n",
    "# Element-wise addition\n",
    "sum_arr = arr1 + arr2\n",
    "print(\"Element-wise addition:\", sum_arr)\n",
    "\n",
    "# Element-wise multiplication\n",
    "mul_arr = arr1 * arr2\n",
    "print(\"Element-wise multiplication:\", mul_arr)"
   ]
  },
  {
   "cell_type": "markdown",
   "id": "33492943-e819-4763-8b08-6dfd43b97512",
   "metadata": {},
   "source": [
    "### Find unique elements"
   ]
  },
  {
   "cell_type": "code",
   "execution_count": 176,
   "id": "1898a244-a9ab-4c14-a591-29d5e0b6f1bd",
   "metadata": {},
   "outputs": [
    {
     "name": "stdout",
     "output_type": "stream",
     "text": [
      "Unique elements: [  2   3   6   8   9  10  12  14  16  17  18  19  20  21  22  23  26  28\n",
      "  29  30  33  36  37  38  39  40  42  44  45  48  49  51  52  58  59  63\n",
      "  66  67  68  69  70  72  73  74  77  79  80  81  82  84  85  88  89  90\n",
      "  91  92  93  95  97  98  99 100 101 102 103 105 106 108 109 110 111 113\n",
      " 114 115 119 121 123 126 127 129 132 133 134 138 140 141 142 143 144 145\n",
      " 146 148 149 151 152 153 157 159 161 165 166 167 168 169 171 172 173 174\n",
      " 175 176 177 179 180 184 186 187 188 190 194 195 198 199 201 203 204 206\n",
      " 207 208 210 211 215 216 217 219 220 221 222 224 226 227 228 229 230 232\n",
      " 233 235 236 237 238 240 241 242 247 248 251 252 253 254 255 256 257 260\n",
      " 261 262 264 265 266 269 270 271 272 274 275 276 279 282 283 284 286 287\n",
      " 288 289 290 292 293 294 296 298 300]\n"
     ]
    }
   ],
   "source": [
    "# Find unique elements\n",
    "unique_elements = np.unique(arr)\n",
    "print(\"Unique elements:\", unique_elements)"
   ]
  },
  {
   "cell_type": "markdown",
   "id": "a21668ec-fb8e-4971-bb94-e593a7ffbdea",
   "metadata": {},
   "source": [
    "### Sorting "
   ]
  },
  {
   "cell_type": "code",
   "execution_count": 178,
   "id": "68c885d2-5adf-4b03-a5fe-9396cfa3c8e0",
   "metadata": {},
   "outputs": [
    {
     "name": "stdout",
     "output_type": "stream",
     "text": [
      "Sorted array: [  2   3   6   8   9  10  12  14  16  17  18  19  20  21  22  23  26  28\n",
      "  29  30  33  36  37  38  39  40  42  44  45  48  49  51  52  58  59  63\n",
      "  66  67  68  69  70  72  73  74  77  79  80  81  82  84  85  88  89  90\n",
      "  91  92  93  95  97  98  99 100 101 102 103 105 106 108 109 110 111 113\n",
      " 114 115 119 121 123 126 127 129 132 133 134 138 140 141 142 143 144 145\n",
      " 146 148 149 151 152 153 157 159 161 165 166 167 168 169 171 172 173 174\n",
      " 175 176 177 179 180 184 186 187 188 190 194 195 198 199 201 203 204 206\n",
      " 207 208 210 211 215 216 217 219 220 221 222 224 226 227 228 229 230 232\n",
      " 233 235 236 237 238 240 241 242 247 248 251 252 253 254 255 256 257 260\n",
      " 261 262 264 265 266 269 270 271 272 274 275 276 279 282 283 284 286 287\n",
      " 288 289 290 292 293 294 296 298 300]\n"
     ]
    }
   ],
   "source": [
    "# Sort array\n",
    "sorted_arr = np.sort(arr)\n",
    "print(\"Sorted array:\", sorted_arr)"
   ]
  },
  {
   "cell_type": "markdown",
   "id": "1222877a-c6ea-4f39-bac8-ffbdd2e38ce6",
   "metadata": {},
   "source": [
    "### Zeros and Ones"
   ]
  },
  {
   "cell_type": "code",
   "execution_count": 180,
   "id": "c31770e0-9f4d-46fc-b053-81406b9d61b8",
   "metadata": {},
   "outputs": [
    {
     "name": "stdout",
     "output_type": "stream",
     "text": [
      "Zeros array:\n",
      " [[0. 0. 0.]\n",
      " [0. 0. 0.]\n",
      " [0. 0. 0.]]\n",
      "Ones array:\n",
      " [[1. 1. 1. 1.]\n",
      " [1. 1. 1. 1.]]\n"
     ]
    }
   ],
   "source": [
    "# Create an array of zeros\n",
    "zeros_arr = np.zeros((3, 3))\n",
    "print(\"Zeros array:\\n\", zeros_arr)\n",
    "\n",
    "# Create an array of ones\n",
    "ones_arr = np.ones((2, 4))\n",
    "print(\"Ones array:\\n\", ones_arr)"
   ]
  },
  {
   "cell_type": "markdown",
   "id": "db105e66-0ca1-4f7e-92a8-a269bae1fbd9",
   "metadata": {},
   "source": [
    "### Finding the location of a value in an array"
   ]
  },
  {
   "cell_type": "code",
   "execution_count": 182,
   "id": "75be9645-53d4-46a2-a9c3-cfb46c6c764f",
   "metadata": {},
   "outputs": [
    {
     "name": "stdout",
     "output_type": "stream",
     "text": [
      "Index of value 30: (array([176], dtype=int64),)\n"
     ]
    }
   ],
   "source": [
    "# Find the index of the value 30\n",
    "index = np.where(arr == 30)\n",
    "print(\"Index of value 30:\", index)"
   ]
  },
  {
   "cell_type": "code",
   "execution_count": 183,
   "id": "64baeaaa-9416-4381-8c84-b328cedc371b",
   "metadata": {},
   "outputs": [
    {
     "name": "stdout",
     "output_type": "stream",
     "text": [
      "Index of value 30: (array([], dtype=int64),)\n"
     ]
    }
   ],
   "source": [
    "# Find the index of the value 30\n",
    "index = np.where(arr == 1)\n",
    "print(\"Index of value 30:\", index)"
   ]
  },
  {
   "cell_type": "code",
   "execution_count": null,
   "id": "2a283518-17cc-4b44-af88-eaf4d1067e93",
   "metadata": {},
   "outputs": [],
   "source": []
  }
 ],
 "metadata": {
  "kernelspec": {
   "display_name": "Python 3 (ipykernel)",
   "language": "python",
   "name": "python3"
  },
  "language_info": {
   "codemirror_mode": {
    "name": "ipython",
    "version": 3
   },
   "file_extension": ".py",
   "mimetype": "text/x-python",
   "name": "python",
   "nbconvert_exporter": "python",
   "pygments_lexer": "ipython3",
   "version": "3.11.7"
  },
  "widgets": {
   "application/vnd.jupyter.widget-state+json": {
    "state": {},
    "version_major": 2,
    "version_minor": 0
   }
  }
 },
 "nbformat": 4,
 "nbformat_minor": 5
}
