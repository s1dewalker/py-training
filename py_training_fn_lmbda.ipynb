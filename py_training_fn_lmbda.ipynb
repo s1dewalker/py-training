{
 "cells": [
  {
   "cell_type": "markdown",
   "id": "7204a395-1387-44e9-98bf-c4918a499231",
   "metadata": {},
   "source": [
    "## **Functions**"
   ]
  },
  {
   "cell_type": "markdown",
   "id": "2d2e16d5-071e-42d7-bea5-104319cad5ea",
   "metadata": {},
   "source": [
    "#### 1. Find the Factorial of a Number"
   ]
  },
  {
   "cell_type": "markdown",
   "id": "b2acfdd8-57f8-4ffd-b5aa-95bc84935648",
   "metadata": {},
   "source": [
    "if n > 0:"
   ]
  },
  {
   "cell_type": "code",
   "execution_count": 4,
   "id": "5fe570ba-2208-4f4c-a484-61ef53e5ec2e",
   "metadata": {},
   "outputs": [],
   "source": [
    "def fac(n):\n",
    "    if n == 1:\n",
    "        return 1\n",
    "    return fac(n-1) * n # need to reduce n for recursion"
   ]
  },
  {
   "cell_type": "code",
   "execution_count": 5,
   "id": "027d23f0-e309-4e8c-9374-b9b696671199",
   "metadata": {},
   "outputs": [
    {
     "data": {
      "text/plain": [
       "120"
      ]
     },
     "execution_count": 5,
     "metadata": {},
     "output_type": "execute_result"
    }
   ],
   "source": [
    "fac(5)"
   ]
  },
  {
   "cell_type": "markdown",
   "id": "dbcf1762-ebe2-4e6f-a2c1-4c893f7fbfc9",
   "metadata": {},
   "source": [
    "See the action:"
   ]
  },
  {
   "cell_type": "code",
   "execution_count": 7,
   "id": "ec206dbd-f321-48cd-bb7f-2cc973a1502e",
   "metadata": {},
   "outputs": [
    {
     "name": "stdout",
     "output_type": "stream",
     "text": [
      "Calling factorial(4)\n",
      "Calling factorial(3)\n",
      "Calling factorial(2)\n",
      "Calling factorial(1)\n",
      "Returning 1 for factorial(1)\n",
      "Returning 2 for factorial(2)\n",
      "Returning 6 for factorial(3)\n",
      "Returning 24 for factorial(4)\n",
      "24\n"
     ]
    }
   ],
   "source": [
    "def factorial(n):\n",
    "    print(f\"Calling factorial({n})\")  # Track calls\n",
    "    if n == 0 or n == 1:\n",
    "        print(f\"Returning 1 for factorial({n})\")  # Base case return\n",
    "        return 1\n",
    "    result = n * factorial(n - 1)\n",
    "    print(f\"Returning {result} for factorial({n})\")  # Show return values\n",
    "    return result\n",
    "\n",
    "print(factorial(4))\n"
   ]
  },
  {
   "cell_type": "markdown",
   "id": "a1bcf7a8-7cb7-4321-9254-7eb8d868c897",
   "metadata": {},
   "source": [
    "#### 2. Check if a number is prime"
   ]
  },
  {
   "cell_type": "code",
   "execution_count": 9,
   "id": "bf014eab-cf01-478a-94c8-71a2d802e235",
   "metadata": {},
   "outputs": [],
   "source": [
    "def prime(n):\n",
    "    if n == 1:\n",
    "        return False\n",
    "    for i in range(2, int(n**0.5) + 1):\n",
    "        # print(\"w\")\n",
    "        if n%i == 0:\n",
    "            return False\n",
    "    return True\n",
    "    "
   ]
  },
  {
   "cell_type": "code",
   "execution_count": 10,
   "id": "93673044-a56d-4d49-844e-9f99b6982499",
   "metadata": {},
   "outputs": [
    {
     "data": {
      "text/plain": [
       "False"
      ]
     },
     "execution_count": 10,
     "metadata": {},
     "output_type": "execute_result"
    }
   ],
   "source": [
    "prime(8)"
   ]
  },
  {
   "cell_type": "markdown",
   "id": "6d311b11-2805-4999-b26b-bff5bcea940d",
   "metadata": {},
   "source": [
    "### 3. Find the nth Fibonacci Number"
   ]
  },
  {
   "cell_type": "code",
   "execution_count": 12,
   "id": "d5dad062-ba15-43f0-9b32-58663da408c7",
   "metadata": {},
   "outputs": [],
   "source": [
    "def fibo(n):\n",
    "    if n == 1:\n",
    "        return 0\n",
    "    if n == 2:\n",
    "        return 1\n",
    "    # print(\"fibo\")\n",
    "    return fibo(n-1) + fibo(n-2) # need to reduce n and not call itself infinetely\n",
    "    \n",
    "    "
   ]
  },
  {
   "cell_type": "code",
   "execution_count": 13,
   "id": "ba783c93-b98d-49c2-8cad-7339fac9b089",
   "metadata": {},
   "outputs": [
    {
     "data": {
      "text/plain": [
       "8"
      ]
     },
     "execution_count": 13,
     "metadata": {},
     "output_type": "execute_result"
    }
   ],
   "source": [
    "fibo(7)"
   ]
  },
  {
   "cell_type": "markdown",
   "id": "c0386e86-fb72-4c42-84a2-b9bd4f65a435",
   "metadata": {},
   "source": [
    "### 4. Check if a String is a Palindrome"
   ]
  },
  {
   "cell_type": "code",
   "execution_count": 15,
   "id": "61bf18c9-9304-4bac-b2d0-848d727c5eb2",
   "metadata": {},
   "outputs": [],
   "source": [
    "def pal(s):\n",
    "    return s == s[::-1]"
   ]
  },
  {
   "cell_type": "code",
   "execution_count": 16,
   "id": "a5e22ba2-a48a-466b-81c6-1929de5928e0",
   "metadata": {},
   "outputs": [
    {
     "name": "stdout",
     "output_type": "stream",
     "text": [
      "True\n",
      "False\n"
     ]
    }
   ],
   "source": [
    "print(pal(\"racecar\"))\n",
    "print(pal(\"woah\"))"
   ]
  },
  {
   "cell_type": "markdown",
   "id": "9242c0f0-3182-4fdf-8b95-ea4696195ac4",
   "metadata": {},
   "source": [
    "## **Lambda**"
   ]
  },
  {
   "cell_type": "code",
   "execution_count": 18,
   "id": "1ebd78d8-cf5b-45fb-a16d-dc092c394a54",
   "metadata": {},
   "outputs": [],
   "source": [
    "list1 = [0.1, 0.04, 0.04, 0.002, 0.04, 0.05]"
   ]
  },
  {
   "cell_type": "markdown",
   "id": "e7df17c4-8a18-4f35-8092-25673c802435",
   "metadata": {},
   "source": [
    "### Categorizing"
   ]
  },
  {
   "cell_type": "code",
   "execution_count": 20,
   "id": "c0a97a25-e170-4069-b199-6796441714a7",
   "metadata": {},
   "outputs": [],
   "source": [
    "fn = lambda x : \"High\" if x >= 0.08 else \"Med\" if x >= 0.05 else \"Low\""
   ]
  },
  {
   "cell_type": "code",
   "execution_count": 36,
   "id": "83af7224-1c09-4078-bdc1-6176f7069b9e",
   "metadata": {},
   "outputs": [
    {
     "data": {
      "text/plain": [
       "<function __main__.<lambda>(x)>"
      ]
     },
     "execution_count": 36,
     "metadata": {},
     "output_type": "execute_result"
    }
   ],
   "source": [
    "fn"
   ]
  },
  {
   "cell_type": "code",
   "execution_count": 21,
   "id": "457a2b2d-862a-4049-a6c3-405b40c45bcd",
   "metadata": {},
   "outputs": [
    {
     "data": {
      "text/plain": [
       "['High', 'Low', 'Low', 'Low', 'Low', 'Med']"
      ]
     },
     "execution_count": 21,
     "metadata": {},
     "output_type": "execute_result"
    }
   ],
   "source": [
    "list(map(fn, list1))"
   ]
  },
  {
   "cell_type": "markdown",
   "id": "17ec64c8-330f-408c-9c3f-96de54098d26",
   "metadata": {},
   "source": [
    "### Data transformation"
   ]
  },
  {
   "cell_type": "code",
   "execution_count": 38,
   "id": "77106435-0612-4811-97f2-25e81edd42b4",
   "metadata": {},
   "outputs": [],
   "source": [
    "fn2 = lambda x: x*100"
   ]
  },
  {
   "cell_type": "code",
   "execution_count": 40,
   "id": "0d5bc0f0-2ead-4a86-97c0-35f773ed60de",
   "metadata": {},
   "outputs": [
    {
     "data": {
      "text/plain": [
       "[10.0, 4.0, 4.0, 0.2, 4.0, 5.0]"
      ]
     },
     "execution_count": 40,
     "metadata": {},
     "output_type": "execute_result"
    }
   ],
   "source": [
    "list(map(fn2, list1))"
   ]
  },
  {
   "cell_type": "code",
   "execution_count": null,
   "id": "277991af-2b4c-4976-bddf-097ff68f97c5",
   "metadata": {},
   "outputs": [],
   "source": []
  }
 ],
 "metadata": {
  "kernelspec": {
   "display_name": "Python 3 (ipykernel)",
   "language": "python",
   "name": "python3"
  },
  "language_info": {
   "codemirror_mode": {
    "name": "ipython",
    "version": 3
   },
   "file_extension": ".py",
   "mimetype": "text/x-python",
   "name": "python",
   "nbconvert_exporter": "python",
   "pygments_lexer": "ipython3",
   "version": "3.11.7"
  },
  "widgets": {
   "application/vnd.jupyter.widget-state+json": {
    "state": {},
    "version_major": 2,
    "version_minor": 0
   }
  }
 },
 "nbformat": 4,
 "nbformat_minor": 5
}
